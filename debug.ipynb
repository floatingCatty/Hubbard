{
 "cells": [
  {
   "cell_type": "code",
   "execution_count": 7,
   "metadata": {},
   "outputs": [],
   "source": [
    "import torch\n",
    "torch.set_default_dtype(torch.float64)\n",
    "from gutzwiller import Gutzwiller\n",
    "from utils.make_kpoints import kmesh_sampling\n",
    "import torch_optimizer as optim\n",
    "import torch.optim as toptim\n",
    "\n",
    "kpoints = torch.tensor(kmesh_sampling([5,5,5], False)) * 2 * torch.pi\n",
    "# print(kpoints)\n",
    "\n",
    "t = torch.cos(kpoints).mean(-1)\n",
    "\n",
    "# l = torch.eye(2)\n",
    "# l[1,1] = -1\n",
    "l = torch.zeros(2,2)\n",
    "U = 3.0\n",
    "J = 0.01 * U\n",
    "Up = U - 2*J\n",
    "Jp = J\n",
    "l = torch.zeros(2,2)\n",
    "gz = Gutzwiller(\n",
    "    norb=2,\n",
    "    t=-(t.reshape(-1,1,1) * torch.eye(4)).reshape(kpoints.shape[0],2,2,2,2),\n",
    "    U=U,\n",
    "    Up=Up,\n",
    "    J=J,\n",
    "    Jp=Jp,\n",
    "    l=l,\n",
    "    R=torch.tensor([[0,0,0]]), \n",
    "    kpoints=kpoints,\n",
    "    kspace=True, \n",
    "    Nocc=2,\n",
    ")\n"
   ]
  },
  {
   "cell_type": "code",
   "execution_count": 8,
   "metadata": {},
   "outputs": [
    {
     "name": "stdout",
     "output_type": "stream",
     "text": [
      "Iter  0 \tloss 6.380100464723714 \tlr: 0.15 \\delta:  0.05877866725054348\n",
      "penalty_density:  0.11510627308545827 penalty_diag_density:  0.3658734578565299 T+U 2.787465028254902 T:  -0.034168937819192974 U:  2.8216339660740952 N:  2.0 efermi:  0.0014661940844501674 \n",
      "\n"
     ]
    },
    {
     "name": "stdout",
     "output_type": "stream",
     "text": [
      "Iter  1000 \tloss 2.9380224993651693 \tlr: 0.096 \\delta:  0.1306249924990892\n",
      "penalty_density:  8.147016666350975e-05 penalty_diag_density:  0.00010823375677215807 T+U 2.936853871262626 T:  -0.13139625562639484 U:  3.068250126889021 N:  2.0 efermi:  0.01230576462098035 \n",
      "\n",
      "Iter  2000 \tloss 2.9643455597911443 \tlr: 0.06144000000000001 \\delta:  0.07715366069853596\n",
      "degenerated states: 10, required states: 5\n",
      "penalty_density:  0.003753991673834645 penalty_diag_density:  0.00034794683602301646 T+U 2.925310809435298 T:  -0.19935332663635297 U:  3.124664136071651 N:  2.0 efermi:  0.01913184917070436 \n",
      "\n",
      "Iter  3000 \tloss 2.947496235354307 \tlr: 0.03932160000000001 \\delta:  0.01843250978828692\n",
      "degenerated states: 8, required states: 5\n",
      "penalty_density:  0.001846752248523689 penalty_diag_density:  9.761712576406012e-05 T+U 2.9217090972320157 T:  -0.21081698888562028 U:  3.132526086117636 N:  2.0 efermi:  0.020308973360829444 \n",
      "\n",
      "Iter  4000 \tloss 2.9478973860522886 \tlr: 0.02516582400000001 \\delta:  0.009590828722891853\n",
      "degenerated states: 21, required states: 12\n",
      "penalty_density:  0.0013437513650152414 penalty_diag_density:  3.807834897018303e-05 T+U 2.9210371580996 T:  -0.21523221691775155 U:  3.136269375017352 N:  2.0 efermi:  0.020753537921984724 \n",
      "\n",
      "Iter  5000 \tloss 2.9226598598452984 \tlr: 0.01610612736000001 \\delta:  0.0003582032841742411\n",
      "degenerated states: 30, required states: 21\n",
      "penalty_density:  9.340558033383721e-05 penalty_diag_density:  0.00025701789550724996 T+U 2.9200358695236366 T:  -0.21749397724945846 U:  3.137529846773095 N:  2.0 efermi:  0.020968366973205452 \n",
      "\n",
      "Iter  6000 \tloss 2.9214051287313065 \tlr: 0.010307921510400008 \\delta:  0.00032477523001661623\n",
      "degenerated states: 31, required states: 22\n",
      "penalty_density:  5.8216305820504445e-05 penalty_diag_density:  1.4174762838159438e-05 T+U 2.921212449159233 T:  -0.21924241000738426 U:  3.1404548591666175 N:  2.0 efermi:  0.021135756198176772 \n",
      "\n",
      "Iter  7000 \tloss 2.92185028757299 \tlr: 0.006597069766656006 \\delta:  0.00037371648846318273\n",
      "degenerated states: 31, required states: 22\n",
      "penalty_density:  2.0919257853994972e-05 penalty_diag_density:  6.999024682352584e-05 T+U 2.9208186217063634 T:  -0.22044920858106662 U:  3.14126783028743 N:  2.0 efermi:  0.021252639267690086 \n",
      "\n",
      "Iter  8000 \tloss 2.9212725141175273 \tlr: 0.004222124650659844 \\delta:  0.0001722139285346147\n",
      "degenerated states: 31, required states: 22\n",
      "penalty_density:  1.5742192062223177e-05 penalty_diag_density:  6.282060030704528e-05 T+U 2.9213987950898566 T:  -0.2210998605659573 U:  3.142498655655814 N:  1.9999999999999998 efermi:  0.021314624862237026 \n",
      "\n",
      "Iter  9000 \tloss 2.92123541028308 \tlr: 0.0027021597764223006 \\delta:  0.00011472559606401367\n",
      "degenerated states: 31, required states: 22\n",
      "penalty_density:  8.664539947769535e-06 penalty_diag_density:  3.411454905988265e-05 T+U 2.921266090673355 T:  -0.22144131653108945 U:  3.1427074072044445 N:  2.0 efermi:  0.02134755132268018 \n",
      "\n",
      "Iter  10000 \tloss 2.921205362108172 \tlr: 0.0017293822569102724 \\delta:  7.396556163791201e-05\n",
      "degenerated states: 31, required states: 22\n",
      "penalty_density:  5.207189080436373e-06 penalty_diag_density:  2.0040449405289706e-05 T+U 2.9212000721005924 T:  -0.2217064627504449 U:  3.142906534851037 N:  2.0 efermi:  0.021373133621981844 \n",
      "\n",
      "Iter  11000 \tloss 2.9211677132220024 \tlr: 0.0011068046444225744 \\delta:  4.614463026747506e-05\n",
      "degenerated states: 31, required states: 22\n",
      "penalty_density:  3.4037446552138153e-06 penalty_diag_density:  1.3100510165564572e-05 T+U 2.9211670279560398 T:  -0.22188866668576282 U:  3.1430556946418027 N:  2.0 efermi:  0.021390709534002766 \n",
      "\n",
      "Iter  12000 \tloss 2.9211439127500745 \tlr: 0.0007083549724304477 \\delta:  2.9772965393526363e-05\n",
      "degenerated states: 31, required states: 22\n",
      "penalty_density:  2.1966435713150425e-06 penalty_diag_density:  8.545351645850019e-06 T+U 2.9211453759021553 T:  -0.22201006180636987 U:  3.143155437708525 N:  2.0 efermi:  0.02140241737470747 \n",
      "\n",
      "Iter  13000 \tloss 2.9211293946750163 \tlr: 0.0004533471823554866 \\delta:  1.9322023076584482e-05\n",
      "degenerated states: 31, required states: 22\n",
      "penalty_density:  1.409573085734707e-06 penalty_diag_density:  5.51824280314861e-06 T+U 2.9211310188287563 T:  -0.22208959211325913 U:  3.1432206109420155 N:  2.0000000000000004 efermi:  0.02141008593106209 \n",
      "\n",
      "Iter  14000 \tloss 2.9211205068272372 \tlr: 0.00029014219670751146 \\delta:  1.2517850151161358e-05\n",
      "degenerated states: 31, required states: 22\n",
      "penalty_density:  9.042101546600828e-07 penalty_diag_density:  3.5381368181930384e-06 T+U 2.921121637594981 T:  -0.22214119502326599 U:  3.1432628326182472 N:  2.0 efermi:  0.021415060976634353 \n",
      "\n"
     ]
    }
   ],
   "source": [
    "opt = optim.Yogi(gz.parameters(), lr=0.15)\n",
    "lr_schedular = torch.optim.lr_scheduler.StepLR(opt, step_size=500, gamma=0.8)\n",
    "old_density = gz.get_density().reshape(4,4).diag()\n",
    "\n",
    "for i in range(15000):\n",
    "    opt.zero_grad()\n",
    "    if i < 500:\n",
    "        loss = gz(False)\n",
    "    else:\n",
    "        loss = gz(True)\n",
    "    loss.backward()\n",
    "    opt.step()\n",
    "    lr_schedular.step()\n",
    "\n",
    "    new_density = gz.get_density().reshape(4,4).diag()\n",
    "    \n",
    "    if i % 1000 == 0:\n",
    "        new_density = gz.get_density().reshape(4,4).diag()\n",
    "        print(\"Iter \", i, \"\\tloss\", loss.item(), \"\\tlr:\", opt.param_groups[0]['lr'], r\"\\delta: \", (new_density-old_density).abs().max().item())\n",
    "        old_density = new_density\n",
    "        gz.analysis()\n"
   ]
  },
  {
   "cell_type": "code",
   "execution_count": 6,
   "metadata": {},
   "outputs": [
    {
     "data": {
      "text/plain": [
       "tensor([-0.5801, -0.5804, -0.5799, -0.5778])"
      ]
     },
     "execution_count": 6,
     "metadata": {},
     "output_type": "execute_result"
    }
   ],
   "source": [
    "gz.get_R().reshape(4,4).diag()"
   ]
  },
  {
   "cell_type": "markdown",
   "metadata": {},
   "source": [
    "1. Is this first $\\hat{T}$ and then $\\hat{T}+\\hat{U}$ method general? Would it bias the solutions? maybe cause some solution unavailable.\n",
    "2. How to improve the numerical accuracy?\n",
    "3. How to incoperate randomness for nonconvex stochastical optimization? What is the batch?\n",
    "4. More regulariation on the parameters? Using the continuity in k space? \n",
    "5. More parameter for $c$? Which means more basis? Is there systematic way to do overparameterization?\n",
    "6. Is it useful after achieving the goals above? How does it useful? Read some theory of Gatzwiller paper."
   ]
  },
  {
   "cell_type": "code",
   "execution_count": 32,
   "metadata": {},
   "outputs": [
    {
     "data": {
      "text/plain": [
       "tensor([0.4654, 0.5358, 0.4641, 0.5347])"
      ]
     },
     "execution_count": 32,
     "metadata": {},
     "output_type": "execute_result"
    }
   ],
   "source": [
    "gz.get_density().reshape(4,4).diag()"
   ]
  },
  {
   "cell_type": "code",
   "execution_count": 25,
   "metadata": {},
   "outputs": [],
   "source": [
    "R = gz.get_R()\n",
    "t_ = torch.einsum(\"kasbp,ascd,efbp->kcdef\", gz.t, R, R) # nkpoints/nei, norb, 2, norb, 2"
   ]
  },
  {
   "cell_type": "code",
   "execution_count": 14,
   "metadata": {},
   "outputs": [
    {
     "data": {
      "text/plain": [
       "tensor(0.0003, grad_fn=<MaxBackward1>)"
      ]
     },
     "execution_count": 14,
     "metadata": {},
     "output_type": "execute_result"
    }
   ],
   "source": []
  },
  {
   "cell_type": "code",
   "execution_count": 22,
   "metadata": {},
   "outputs": [
    {
     "data": {
      "image/png": "[encoded data removed]",
      "text/plain": [
       "<Figure size 400x260 with 1 Axes>"
      ]
     },
     "metadata": {},
     "output_type": "display_data"
    }
   ],
   "source": [
    "import matplotlib.pyplot as plt\n",
    "\n",
    "plt.figure(figsize=(4,2.6))\n",
    "\n",
    "plt.plot([0.5, 1.0, 1.5, 2.0, 3.0, 3.5, 3.8, 4.0], torch.tensor([0.969, 0.92, 0.862, 0.793, 0.59, 0.435, 0.292, 0.001])**2)\n",
    "plt.plot([1.0, 2.5, 3.0, 3.2], torch.tensor([0.925, 0.715, 0.59, 0.48])**2, c=\"tab:green\")\n",
    "plt.plot([2.5, 3.0, 3.2], torch.tensor([0.14, 0.25, 0.48])**2, c=\"tab:green\")\n",
    "\n",
    "plt.ylabel(\"Z\")\n",
    "plt.xlabel(\"U\")\n",
    "plt.ylim(0, 1)\n",
    "plt.xlim(0, 4.5)\n",
    "plt.tight_layout()\n",
    "plt.show()"
   ]
  },
  {
   "cell_type": "code",
   "execution_count": 24,
   "metadata": {},
   "outputs": [],
   "source": [
    "import torch\n",
    "import torch.linalg as LA\n",
    "\n",
    "mat = torch.randn(5,5)\n",
    "mat = mat + mat.T\n",
    "\n",
    "dt = 0.001\n",
    "\n",
    "A = LA.matrix_exp(-dt * mat)\n",
    "\n",
    "A_ = torch.eye(5) - dt * mat\n",
    "\n",
    "vec = torch.randn(5)"
   ]
  },
  {
   "cell_type": "code",
   "execution_count": 25,
   "metadata": {},
   "outputs": [
    {
     "data": {
      "text/plain": [
       "tensor([ 2.1979e-06, -1.2159e-05, -8.1509e-06,  5.3644e-06,  2.2799e-06])"
      ]
     },
     "execution_count": 25,
     "metadata": {},
     "output_type": "execute_result"
    }
   ],
   "source": [
    "A @ vec - A_ @ vec"
   ]
  },
  {
   "cell_type": "code",
   "execution_count": 9,
   "metadata": {},
   "outputs": [],
   "source": [
    "def generate_product_basis_indices(norb_A, norb_B, nocc_total):\n",
    "    state_labels = [0, 1, 2, 3]\n",
    "    state_electrons = {0: 0, 1: 1, 2: 1, 3: 2}\n",
    "\n",
    "    def generate_basis_indices_and_occupations(norb, nocc_max):\n",
    "        basis_indices_and_occupations = []\n",
    "        index = 0\n",
    "        stack = []\n",
    "        # Each item in stack: (orbital_index, current_electrons)\n",
    "        stack.append((0, 0))  # Start with the first orbital, zero electrons\n",
    "\n",
    "        while stack:\n",
    "            orbital_index, current_electrons = stack.pop()\n",
    "            if orbital_index == norb:\n",
    "                # We have a complete configuration\n",
    "                basis_indices_and_occupations.append((index, current_electrons))\n",
    "                index += 1\n",
    "                continue\n",
    "            for state in state_labels:\n",
    "                electrons = state_electrons[state]\n",
    "                new_total = current_electrons + electrons\n",
    "                if new_total > nocc_max:\n",
    "                    continue  # Prune branches exceeding maximum electron count\n",
    "                # Early pruning based on possible electrons remaining\n",
    "                remaining_orbitals = norb - (orbital_index + 1)\n",
    "                min_possible_electrons = new_total + remaining_orbitals * min(state_electrons.values())\n",
    "                max_possible_electrons = new_total + remaining_orbitals * max(state_electrons.values())\n",
    "                if min_possible_electrons > nocc_max or max_possible_electrons < 0:\n",
    "                    continue  # Prune branches that can't sum to valid electron counts\n",
    "                stack.append((orbital_index + 1, new_total))\n",
    "        return basis_indices_and_occupations\n",
    "\n",
    "    def build_occ_to_indices_map(basis_indices_and_occupations):\n",
    "        occ_to_indices = {}\n",
    "        for index, nocc in basis_indices_and_occupations:\n",
    "            occ_to_indices.setdefault(nocc, []).append(index)\n",
    "        return occ_to_indices\n",
    "\n",
    "    # Generate basis indices and occupation numbers for subsystems A and B\n",
    "    # For A and B, nocc_max is the maximum possible occupation number (limited by nocc_total or norb * 2)\n",
    "    nocc_max_A = min(nocc_total, norb_A * 2)\n",
    "    nocc_max_B = min(nocc_total, norb_B * 2)\n",
    "\n",
    "    basis_A = generate_basis_indices_and_occupations(norb_A, nocc_max_A)\n",
    "    basis_B = generate_basis_indices_and_occupations(norb_B, nocc_max_B)\n",
    "\n",
    "    # Build occupation number to indices mapping\n",
    "    occ_to_indices_A = build_occ_to_indices_map(basis_A)\n",
    "    occ_to_indices_B = build_occ_to_indices_map(basis_B)\n",
    "\n",
    "    # Now, generate the pairs of indices (i, j) where the total occupation number is nocc_total\n",
    "    indices_pairs = []\n",
    "    for nocc_A_sub in occ_to_indices_A:\n",
    "        nocc_B_sub = nocc_total - nocc_A_sub\n",
    "        if nocc_B_sub in occ_to_indices_B:\n",
    "            indices_A = occ_to_indices_A[nocc_A_sub]\n",
    "            indices_B = occ_to_indices_B[nocc_B_sub]\n",
    "            # Generate all combinations of indices\n",
    "            for i in indices_A:\n",
    "                for j in indices_B:\n",
    "                    indices_pairs.append((i, j))\n",
    "    return indices_pairs\n"
   ]
  },
  {
   "cell_type": "code",
   "execution_count": 16,
   "metadata": {},
   "outputs": [
    {
     "data": {
      "text/plain": [
       "2704156"
      ]
     },
     "execution_count": 16,
     "metadata": {},
     "output_type": "execute_result"
    }
   ],
   "source": [
    "generate_product_basis_indices(3,9,12).__len__()"
   ]
  },
  {
   "cell_type": "code",
   "execution_count": 7,
   "metadata": {},
   "outputs": [],
   "source": [
    "def generate_product_basis_indices(norb_A, norb_B, nocc_total):\n",
    "    from functools import lru_cache\n",
    "    from itertools import product\n",
    "\n",
    "    # Precompute state to electron count mapping\n",
    "    state_to_electrons = {0: 0, 1: 1, 2: 1, 3: 2}\n",
    "    # Precompute possible per-orbital states for given electron counts\n",
    "    electron_to_states = {\n",
    "        0: [0],\n",
    "        1: [1, 2],\n",
    "        2: [3]\n",
    "    }\n",
    "\n",
    "    # Generate all sequences of per-orbital electron counts that sum to nocc\n",
    "    @lru_cache(maxsize=None)\n",
    "    def generate_sequences(norb, nocc):\n",
    "        if norb == 0:\n",
    "            return [[]] if nocc == 0 else []\n",
    "        sequences = []\n",
    "        for e in (0, 1, 2):\n",
    "            if nocc - e >= 0:\n",
    "                for seq in generate_sequences(norb - 1, nocc - e):\n",
    "                    sequences.append([e] + seq)\n",
    "        return sequences\n",
    "\n",
    "    # Generate all configurations for a given sequence of electron counts\n",
    "    def generate_configurations(seq):\n",
    "        options_per_orbital = [\n",
    "            electron_to_states[e] for e in seq\n",
    "        ]\n",
    "        return product(*options_per_orbital)\n",
    "\n",
    "    # Compute basis index from a configuration\n",
    "    def compute_basis_index(states):\n",
    "        index = 0\n",
    "        for state in states:\n",
    "            index = (index << 2) | state  # Each state is two bits\n",
    "        return index\n",
    "\n",
    "    # Generate basis indices mapping for subsystem\n",
    "    def generate_basis_indices(norb, nocc_max):\n",
    "        basis_indices = {}\n",
    "        for nocc in range(nocc_max + 1):\n",
    "            sequences = generate_sequences(norb, nocc)\n",
    "            indices = []\n",
    "            for seq in sequences:\n",
    "                for states in generate_configurations(seq):\n",
    "                    index = compute_basis_index(states)\n",
    "                    indices.append(index)\n",
    "            basis_indices[nocc] = indices\n",
    "        return basis_indices\n",
    "\n",
    "    # Determine maximum possible occupations\n",
    "    nocc_max_A = min(nocc_total, norb_A * 2)\n",
    "    nocc_max_B = min(nocc_total, norb_B * 2)\n",
    "\n",
    "    # Generate basis indices for A and B\n",
    "    basis_indices_A = generate_basis_indices(norb_A, nocc_max_A)\n",
    "    basis_indices_B = generate_basis_indices(norb_B, nocc_max_B)\n",
    "\n",
    "    # Generate pairs of indices where total occupation equals nocc_total\n",
    "    indices_pairs = []\n",
    "    for nocc_A, indices_A in basis_indices_A.items():\n",
    "        nocc_B = nocc_total - nocc_A\n",
    "        if nocc_B in basis_indices_B:\n",
    "            indices_B = basis_indices_B[nocc_B]\n",
    "            indices_pairs.extend(product(indices_A, indices_B))\n",
    "\n",
    "    return indices_pairs\n"
   ]
  },
  {
   "cell_type": "code",
   "execution_count": 14,
   "metadata": {},
   "outputs": [
    {
     "data": {
      "text/plain": [
       "2704156"
      ]
     },
     "execution_count": 14,
     "metadata": {},
     "output_type": "execute_result"
    }
   ],
   "source": [
    "generate_product_basis_indices(3,9,12).__len__()"
   ]
  },
  {
   "cell_type": "code",
   "execution_count": null,
   "metadata": {},
   "outputs": [],
   "source": []
  }
 ],
 "metadata": {
  "kernelspec": {
   "display_name": "deeptb",
   "language": "python",
   "name": "python3"
  },
  "language_info": {
   "codemirror_mode": {
    "name": "ipython",
    "version": 3
   },
   "file_extension": ".py",
   "mimetype": "text/x-python",
   "name": "python",
   "nbconvert_exporter": "python",
   "pygments_lexer": "ipython3",
   "version": "3.8.13"
  }
 },
 "nbformat": 4,
 "nbformat_minor": 2
}
