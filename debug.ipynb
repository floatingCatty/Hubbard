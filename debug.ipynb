{
 "cells": [
  {
   "cell_type": "code",
   "execution_count": 2,
   "metadata": {},
   "outputs": [
    {
     "name": "stderr",
     "output_type": "stream",
     "text": [
      "/nessa/users/zhanghao/softwares/miniconda3/envs/hubbard/lib/python3.10/site-packages/quantax/sites/sites.py:37: UserWarning: A second 'sites' is defined.\n",
      "  warn(\"A second 'sites' is defined.\")\n"
     ]
    },
    {
     "name": "stdout",
     "output_type": "stream",
     "text": [
      "Find E_fermi: -0.1000\n",
      "DM_kin:  tensor([0.5000, 0.5000, 0.5000, 0.5000])\n"
     ]
    },
    {
     "name": "stderr",
     "output_type": "stream",
     "text": [
      "Meanfield Pfaffian training:   5%|▌         | 250/5000 [00:57<17:50,  4.44it/s]"
     ]
    },
    {
     "name": "stdout",
     "output_type": "stream",
     "text": [
      "Current E var: 0.0636\n"
     ]
    },
    {
     "name": "stderr",
     "output_type": "stream",
     "text": [
      "Meanfield Pfaffian training:   9%|▉         | 473/5000 [01:48<17:14,  4.37it/s]\n",
      "NN Wave Function training (w mf):   5%|▌         | 250/5000 [01:00<18:58,  4.17it/s]"
     ]
    },
    {
     "name": "stdout",
     "output_type": "stream",
     "text": [
      "Current E var: 0.0655\n"
     ]
    },
    {
     "name": "stderr",
     "output_type": "stream",
     "text": [
      "NN Wave Function training (w mf):  10%|█         | 500/5000 [02:00<17:54,  4.19it/s]"
     ]
    },
    {
     "name": "stdout",
     "output_type": "stream",
     "text": [
      "Current E var: 0.0120\n"
     ]
    },
    {
     "name": "stderr",
     "output_type": "stream",
     "text": [
      "NN Wave Function training (w mf):  15%|█▌        | 750/5000 [02:59<16:32,  4.28it/s]"
     ]
    },
    {
     "name": "stdout",
     "output_type": "stream",
     "text": [
      "Current E var: 0.0011\n"
     ]
    },
    {
     "name": "stderr",
     "output_type": "stream",
     "text": [
      "NN Wave Function training (w mf):  15%|█▌        | 756/5000 [03:01<16:56,  4.17it/s]\n"
     ]
    },
    {
     "name": "stdout",
     "output_type": "stream",
     "text": [
      "Convergent variance of energy: 0.0010\n",
      "DM_emb:  tensor([0.0004, 0.0004, 0.3359, 0.3359])\n",
      "\t ## Err of current loop 1: 0.4553, lam_emb: 0.1000, N_emb: 0.67\n",
      "Find E_fermi: 0.0349\n",
      "DM_kin:  tensor([0.3654, 0.3654, 0.6346, 0.6346])\n"
     ]
    },
    {
     "name": "stderr",
     "output_type": "stream",
     "text": [
      "Meanfield Pfaffian training:   2%|▏         | 121/5000 [00:28<18:54,  4.30it/s]\n",
      "NN Wave Function training (w mf):   5%|▌         | 250/5000 [00:59<18:36,  4.25it/s]"
     ]
    },
    {
     "name": "stdout",
     "output_type": "stream",
     "text": [
      "Current E var: 0.0771\n"
     ]
    },
    {
     "name": "stderr",
     "output_type": "stream",
     "text": [
      "NN Wave Function training (w mf):  10%|█         | 500/5000 [01:58<17:50,  4.20it/s]"
     ]
    },
    {
     "name": "stdout",
     "output_type": "stream",
     "text": [
      "Current E var: 0.0102\n"
     ]
    },
    {
     "name": "stderr",
     "output_type": "stream",
     "text": [
      "NN Wave Function training (w mf):  15%|█▌        | 750/5000 [02:58<16:56,  4.18it/s]"
     ]
    },
    {
     "name": "stdout",
     "output_type": "stream",
     "text": [
      "Current E var: 0.0019\n"
     ]
    },
    {
     "name": "stderr",
     "output_type": "stream",
     "text": [
      "NN Wave Function training (w mf):  16%|█▋        | 813/5000 [03:13<16:34,  4.21it/s]\n"
     ]
    },
    {
     "name": "stdout",
     "output_type": "stream",
     "text": [
      "Convergent variance of energy: 0.0009\n",
      "DM_emb:  tensor([0.0342, 0.0342, 0.3537, 0.3537])\n",
      "\t ## Err of current loop 2: 0.3292, lam_emb: 0.0318, N_emb: 0.78\n",
      "Find E_fermi: 0.4400\n",
      "DM_kin:  tensor([0.2277, 0.2277, 0.7723, 0.7723])\n"
     ]
    },
    {
     "name": "stderr",
     "output_type": "stream",
     "text": [
      "Meanfield Pfaffian training:   3%|▎         | 160/5000 [00:36<18:26,  4.37it/s]\n",
      "NN Wave Function training (w mf):   5%|▌         | 250/5000 [01:00<18:44,  4.23it/s]"
     ]
    },
    {
     "name": "stdout",
     "output_type": "stream",
     "text": [
      "Current E var: 0.0907\n"
     ]
    },
    {
     "name": "stderr",
     "output_type": "stream",
     "text": [
      "NN Wave Function training (w mf):  10%|█         | 500/5000 [02:00<17:46,  4.22it/s]"
     ]
    },
    {
     "name": "stdout",
     "output_type": "stream",
     "text": [
      "Current E var: 0.0216\n"
     ]
    },
    {
     "name": "stderr",
     "output_type": "stream",
     "text": [
      "NN Wave Function training (w mf):  15%|█▌        | 750/5000 [02:59<16:50,  4.21it/s]"
     ]
    },
    {
     "name": "stdout",
     "output_type": "stream",
     "text": [
      "Current E var: 0.0029\n"
     ]
    },
    {
     "name": "stderr",
     "output_type": "stream",
     "text": [
      "NN Wave Function training (w mf):  16%|█▌        | 784/5000 [03:07<16:48,  4.18it/s]\n"
     ]
    },
    {
     "name": "stdout",
     "output_type": "stream",
     "text": [
      "Convergent variance of energy: 0.0010\n",
      "DM_emb:  tensor([0.0842, 0.0842, 0.4676, 0.4676])\n",
      "\t ## Err of current loop 3: 0.0436, lam_emb: 0.4763, N_emb: 1.10\n",
      "Find E_fermi: 0.8004\n",
      "DM_kin:  tensor([0.1770, 0.1770, 0.8230, 0.8230])\n"
     ]
    },
    {
     "name": "stderr",
     "output_type": "stream",
     "text": [
      "Meanfield Pfaffian training:   4%|▍         | 204/5000 [00:46<18:06,  4.41it/s]\n",
      "NN Wave Function training (w mf):   5%|▌         | 250/5000 [01:01<19:05,  4.15it/s]"
     ]
    },
    {
     "name": "stdout",
     "output_type": "stream",
     "text": [
      "Current E var: 0.1076\n"
     ]
    },
    {
     "name": "stderr",
     "output_type": "stream",
     "text": [
      "NN Wave Function training (w mf):  10%|█         | 500/5000 [02:00<17:41,  4.24it/s]"
     ]
    },
    {
     "name": "stdout",
     "output_type": "stream",
     "text": [
      "Current E var: 0.0116\n"
     ]
    },
    {
     "name": "stderr",
     "output_type": "stream",
     "text": [
      "NN Wave Function training (w mf):  15%|█▌        | 750/5000 [02:59<16:58,  4.17it/s]"
     ]
    },
    {
     "name": "stdout",
     "output_type": "stream",
     "text": [
      "Current E var: 0.0038\n"
     ]
    },
    {
     "name": "stderr",
     "output_type": "stream",
     "text": [
      "NN Wave Function training (w mf):  16%|█▋        | 816/5000 [03:15<16:42,  4.17it/s]\n"
     ]
    },
    {
     "name": "stdout",
     "output_type": "stream",
     "text": [
      "Convergent variance of energy: 0.0008\n",
      "DM_emb:  tensor([0.0796, 0.0796, 0.5902, 0.5902])\n",
      "\t ## Err of current loop 4: 0.0467, lam_emb: 0.8633, N_emb: 1.34\n",
      "Find E_fermi: 1.1169\n",
      "DM_kin:  tensor([0.1770, 0.1770, 0.8230, 0.8230])\n"
     ]
    },
    {
     "name": "stderr",
     "output_type": "stream",
     "text": [
      "Meanfield Pfaffian training:   5%|▍         | 232/5000 [00:52<18:00,  4.41it/s]\n",
      "NN Wave Function training (w mf):   5%|▌         | 250/5000 [01:00<19:06,  4.14it/s]"
     ]
    },
    {
     "name": "stdout",
     "output_type": "stream",
     "text": [
      "Current E var: 0.1125\n"
     ]
    },
    {
     "name": "stderr",
     "output_type": "stream",
     "text": [
      "NN Wave Function training (w mf):  10%|█         | 500/5000 [02:00<17:49,  4.21it/s]"
     ]
    },
    {
     "name": "stdout",
     "output_type": "stream",
     "text": [
      "Current E var: 0.0160\n"
     ]
    },
    {
     "name": "stderr",
     "output_type": "stream",
     "text": [
      "NN Wave Function training (w mf):  15%|█▌        | 750/5000 [02:59<16:47,  4.22it/s]"
     ]
    },
    {
     "name": "stdout",
     "output_type": "stream",
     "text": [
      "Current E var: 0.0018\n"
     ]
    },
    {
     "name": "stderr",
     "output_type": "stream",
     "text": [
      "NN Wave Function training (w mf):  16%|█▌        | 799/5000 [03:11<16:45,  4.18it/s]\n"
     ]
    },
    {
     "name": "stdout",
     "output_type": "stream",
     "text": [
      "Convergent variance of energy: 0.0009\n",
      "DM_emb:  tensor([0.1161, 0.1161, 0.6805, 0.6805])\n",
      "\t ## Err of current loop 5: 0.0483, lam_emb: 1.1728, N_emb: 1.59\n",
      "Find E_fermi: 1.3206\n",
      "DM_kin:  tensor([0.1770, 0.1770, 0.8230, 0.8230])\n"
     ]
    },
    {
     "name": "stderr",
     "output_type": "stream",
     "text": [
      "Meanfield Pfaffian training:   5%|▌         | 250/5000 [00:56<18:02,  4.39it/s]"
     ]
    },
    {
     "name": "stdout",
     "output_type": "stream",
     "text": [
      "Current E var: 0.0360\n"
     ]
    },
    {
     "name": "stderr",
     "output_type": "stream",
     "text": [
      "Meanfield Pfaffian training:   6%|▌         | 287/5000 [01:05<17:53,  4.39it/s]\n",
      "NN Wave Function training (w mf):   5%|▌         | 250/5000 [01:01<19:14,  4.12it/s]"
     ]
    },
    {
     "name": "stdout",
     "output_type": "stream",
     "text": [
      "Current E var: 0.1198\n"
     ]
    },
    {
     "name": "stderr",
     "output_type": "stream",
     "text": [
      "NN Wave Function training (w mf):  10%|█         | 500/5000 [02:02<18:18,  4.10it/s]"
     ]
    },
    {
     "name": "stdout",
     "output_type": "stream",
     "text": [
      "Current E var: 0.0194\n"
     ]
    },
    {
     "name": "stderr",
     "output_type": "stream",
     "text": [
      "NN Wave Function training (w mf):  15%|█▌        | 750/5000 [03:02<17:02,  4.16it/s]"
     ]
    },
    {
     "name": "stdout",
     "output_type": "stream",
     "text": [
      "Current E var: 0.0015\n"
     ]
    },
    {
     "name": "stderr",
     "output_type": "stream",
     "text": [
      "NN Wave Function training (w mf):  16%|█▌        | 785/5000 [03:11<17:08,  4.10it/s]\n"
     ]
    },
    {
     "name": "stdout",
     "output_type": "stream",
     "text": [
      "Convergent variance of energy: 0.0010\n",
      "DM_emb:  tensor([0.1090, 0.1090, 0.7611, 0.7611])\n",
      "\t ## Err of current loop 6: 0.0474, lam_emb: 1.3993, N_emb: 1.74\n",
      "Find E_fermi: 1.4770\n",
      "DM_kin:  tensor([0.1745, 0.1745, 0.8255, 0.8255])\n"
     ]
    },
    {
     "name": "stderr",
     "output_type": "stream",
     "text": [
      "Meanfield Pfaffian training:   4%|▎         | 177/5000 [00:40<18:21,  4.38it/s]\n",
      "NN Wave Function training (w mf):   5%|▌         | 250/5000 [01:02<18:56,  4.18it/s]"
     ]
    },
    {
     "name": "stdout",
     "output_type": "stream",
     "text": [
      "Current E var: 0.1088\n"
     ]
    },
    {
     "name": "stderr",
     "output_type": "stream",
     "text": [
      "NN Wave Function training (w mf):  10%|█         | 500/5000 [02:01<17:53,  4.19it/s]"
     ]
    },
    {
     "name": "stdout",
     "output_type": "stream",
     "text": [
      "Current E var: 0.0201\n"
     ]
    },
    {
     "name": "stderr",
     "output_type": "stream",
     "text": [
      "NN Wave Function training (w mf):  15%|█▌        | 750/5000 [03:00<16:40,  4.25it/s]"
     ]
    },
    {
     "name": "stdout",
     "output_type": "stream",
     "text": [
      "Current E var: 0.0018\n"
     ]
    },
    {
     "name": "stderr",
     "output_type": "stream",
     "text": [
      "NN Wave Function training (w mf):  16%|█▋        | 814/5000 [03:16<16:49,  4.15it/s]\n"
     ]
    },
    {
     "name": "stdout",
     "output_type": "stream",
     "text": [
      "Convergent variance of energy: 0.0010\n",
      "DM_emb:  tensor([0.1333, 0.1333, 0.7773, 0.7773])\n",
      "\t ## Err of current loop 7: 0.0463, lam_emb: 1.5372, N_emb: 1.82\n",
      "Find E_fermi: 1.5706\n",
      "DM_kin:  tensor([0.1711, 0.1711, 0.8289, 0.8289])\n"
     ]
    },
    {
     "name": "stderr",
     "output_type": "stream",
     "text": [
      "Meanfield Pfaffian training:   5%|▌         | 250/5000 [00:56<17:51,  4.43it/s]"
     ]
    },
    {
     "name": "stdout",
     "output_type": "stream",
     "text": [
      "Current E var: 0.0202\n"
     ]
    },
    {
     "name": "stderr",
     "output_type": "stream",
     "text": [
      "Meanfield Pfaffian training:   6%|▌         | 295/5000 [01:07<17:48,  4.40it/s]\n",
      "NN Wave Function training (w mf):   5%|▌         | 250/5000 [01:00<18:44,  4.23it/s]"
     ]
    },
    {
     "name": "stdout",
     "output_type": "stream",
     "text": [
      "Current E var: 0.0892\n"
     ]
    },
    {
     "name": "stderr",
     "output_type": "stream",
     "text": [
      "NN Wave Function training (w mf):  10%|█         | 500/5000 [02:00<17:53,  4.19it/s]"
     ]
    },
    {
     "name": "stdout",
     "output_type": "stream",
     "text": [
      "Current E var: 0.0209\n"
     ]
    },
    {
     "name": "stderr",
     "output_type": "stream",
     "text": [
      "NN Wave Function training (w mf):  15%|█▌        | 750/5000 [03:00<16:55,  4.18it/s]"
     ]
    },
    {
     "name": "stdout",
     "output_type": "stream",
     "text": [
      "Current E var: 0.0027\n"
     ]
    },
    {
     "name": "stderr",
     "output_type": "stream",
     "text": [
      "NN Wave Function training (w mf):  16%|█▋        | 816/5000 [03:15<16:44,  4.16it/s]\n"
     ]
    },
    {
     "name": "stdout",
     "output_type": "stream",
     "text": [
      "Convergent variance of energy: 0.0010\n",
      "DM_emb:  tensor([0.1379, 0.1379, 0.7950, 0.7950])\n",
      "\t ## Err of current loop 8: 0.0474, lam_emb: 1.6269, N_emb: 1.87\n",
      "Find E_fermi: 1.6408\n",
      "DM_kin:  tensor([0.1710, 0.1710, 0.8290, 0.8290])\n"
     ]
    },
    {
     "name": "stderr",
     "output_type": "stream",
     "text": [
      "Meanfield Pfaffian training:   4%|▍         | 198/5000 [00:45<18:16,  4.38it/s]\n",
      "NN Wave Function training (w mf):   5%|▌         | 250/5000 [01:00<18:56,  4.18it/s]"
     ]
    },
    {
     "name": "stdout",
     "output_type": "stream",
     "text": [
      "Current E var: 0.0924\n"
     ]
    },
    {
     "name": "stderr",
     "output_type": "stream",
     "text": [
      "NN Wave Function training (w mf):  10%|█         | 500/5000 [02:00<17:45,  4.22it/s]"
     ]
    },
    {
     "name": "stdout",
     "output_type": "stream",
     "text": [
      "Current E var: 0.0206\n"
     ]
    },
    {
     "name": "stderr",
     "output_type": "stream",
     "text": [
      "NN Wave Function training (w mf):  15%|█▌        | 750/5000 [02:59<16:44,  4.23it/s]"
     ]
    },
    {
     "name": "stdout",
     "output_type": "stream",
     "text": [
      "Current E var: 0.0024\n"
     ]
    },
    {
     "name": "stderr",
     "output_type": "stream",
     "text": [
      "NN Wave Function training (w mf):  16%|█▌        | 804/5000 [03:12<16:46,  4.17it/s]\n"
     ]
    },
    {
     "name": "stdout",
     "output_type": "stream",
     "text": [
      "Convergent variance of energy: 0.0010\n",
      "DM_emb:  tensor([0.1483, 0.1483, 0.8036, 0.8036])\n",
      "\t ## Err of current loop 9: 0.0463, lam_emb: 1.6919, N_emb: 1.90\n",
      "Find E_fermi: 1.6939\n",
      "DM_kin:  tensor([0.1710, 0.1710, 0.8290, 0.8290])\n"
     ]
    },
    {
     "name": "stderr",
     "output_type": "stream",
     "text": [
      "Meanfield Pfaffian training:   5%|▌         | 250/5000 [00:56<18:01,  4.39it/s]"
     ]
    },
    {
     "name": "stdout",
     "output_type": "stream",
     "text": [
      "Current E var: 0.0355\n"
     ]
    },
    {
     "name": "stderr",
     "output_type": "stream",
     "text": [
      "Meanfield Pfaffian training:  10%|█         | 500/5000 [01:53<17:10,  4.37it/s]"
     ]
    },
    {
     "name": "stdout",
     "output_type": "stream",
     "text": [
      "Current E var: 0.0259\n"
     ]
    },
    {
     "name": "stderr",
     "output_type": "stream",
     "text": [
      "Meanfield Pfaffian training:  10%|█         | 501/5000 [01:53<17:01,  4.40it/s]\n",
      "NN Wave Function training (w/o mf):   5%|▌         | 250/5000 [01:01<18:15,  4.34it/s]"
     ]
    },
    {
     "name": "stdout",
     "output_type": "stream",
     "text": [
      "Current E var: 0.0922\n"
     ]
    },
    {
     "name": "stderr",
     "output_type": "stream",
     "text": [
      "NN Wave Function training (w/o mf):  10%|█         | 500/5000 [02:00<17:42,  4.24it/s]"
     ]
    },
    {
     "name": "stdout",
     "output_type": "stream",
     "text": [
      "Current E var: 0.0169\n"
     ]
    },
    {
     "name": "stderr",
     "output_type": "stream",
     "text": [
      "NN Wave Function training (w/o mf):  15%|█▌        | 750/5000 [02:59<16:42,  4.24it/s]"
     ]
    },
    {
     "name": "stdout",
     "output_type": "stream",
     "text": [
      "Current E var: 0.0019\n"
     ]
    },
    {
     "name": "stderr",
     "output_type": "stream",
     "text": [
      "NN Wave Function training (w/o mf):  16%|█▌        | 802/5000 [03:12<16:46,  4.17it/s]\n"
     ]
    },
    {
     "name": "stdout",
     "output_type": "stream",
     "text": [
      "Convergent variance of energy: 0.0010\n",
      "DM_emb:  tensor([0.1531, 0.1531, 0.8154, 0.8154])\n",
      "\t ## Err of current loop 10: 0.0463, lam_emb: 1.7490, N_emb: 1.94\n",
      "Find E_fermi: 1.7283\n",
      "DM_kin:  tensor([0.1710, 0.1710, 0.8290, 0.8290])\n"
     ]
    },
    {
     "name": "stderr",
     "output_type": "stream",
     "text": [
      "Meanfield Pfaffian training:   5%|▌         | 250/5000 [00:56<17:51,  4.43it/s]"
     ]
    },
    {
     "name": "stdout",
     "output_type": "stream",
     "text": [
      "Current E var: 0.0625\n"
     ]
    },
    {
     "name": "stderr",
     "output_type": "stream",
     "text": [
      "Meanfield Pfaffian training:  10%|█         | 500/5000 [01:53<16:47,  4.47it/s]"
     ]
    },
    {
     "name": "stdout",
     "output_type": "stream",
     "text": [
      "Current E var: 0.0334\n"
     ]
    },
    {
     "name": "stderr",
     "output_type": "stream",
     "text": [
      "Meanfield Pfaffian training:  10%|█         | 501/5000 [01:53<17:01,  4.41it/s]\n",
      "NN Wave Function training (w/o mf):   5%|▌         | 250/5000 [01:00<19:05,  4.15it/s]"
     ]
    },
    {
     "name": "stdout",
     "output_type": "stream",
     "text": [
      "Current E var: 0.0908\n"
     ]
    },
    {
     "name": "stderr",
     "output_type": "stream",
     "text": [
      "NN Wave Function training (w/o mf):  10%|█         | 500/5000 [02:00<17:52,  4.20it/s]"
     ]
    },
    {
     "name": "stdout",
     "output_type": "stream",
     "text": [
      "Current E var: 0.0136\n"
     ]
    },
    {
     "name": "stderr",
     "output_type": "stream",
     "text": [
      "NN Wave Function training (w/o mf):  15%|█▌        | 750/5000 [02:59<16:50,  4.21it/s]"
     ]
    },
    {
     "name": "stdout",
     "output_type": "stream",
     "text": [
      "Current E var: 0.0031\n"
     ]
    },
    {
     "name": "stderr",
     "output_type": "stream",
     "text": [
      "NN Wave Function training (w/o mf):  16%|█▌        | 807/5000 [03:13<16:43,  4.18it/s]\n"
     ]
    },
    {
     "name": "stdout",
     "output_type": "stream",
     "text": [
      "Convergent variance of energy: 0.0010\n",
      "DM_emb:  tensor([0.1660, 0.1660, 0.8159, 0.8159])\n",
      "\t ## Err of current loop 11: 0.0423, lam_emb: 1.7787, N_emb: 1.96\n",
      "Find E_fermi: 1.7481\n",
      "DM_kin:  tensor([0.1710, 0.1710, 0.8290, 0.8290])\n"
     ]
    },
    {
     "name": "stderr",
     "output_type": "stream",
     "text": [
      "Meanfield Pfaffian training:   5%|▍         | 242/5000 [00:55<18:02,  4.40it/s]\n",
      "NN Wave Function training (w mf):   5%|▌         | 250/5000 [01:01<19:00,  4.17it/s]"
     ]
    },
    {
     "name": "stdout",
     "output_type": "stream",
     "text": [
      "Current E var: 0.0905\n"
     ]
    },
    {
     "name": "stderr",
     "output_type": "stream",
     "text": [
      "NN Wave Function training (w mf):  10%|█         | 500/5000 [02:00<17:56,  4.18it/s]"
     ]
    },
    {
     "name": "stdout",
     "output_type": "stream",
     "text": [
      "Current E var: 0.0148\n"
     ]
    },
    {
     "name": "stderr",
     "output_type": "stream",
     "text": [
      "NN Wave Function training (w mf):  15%|█▌        | 750/5000 [03:00<16:44,  4.23it/s]"
     ]
    },
    {
     "name": "stdout",
     "output_type": "stream",
     "text": [
      "Current E var: 0.0039\n"
     ]
    },
    {
     "name": "stderr",
     "output_type": "stream",
     "text": [
      "NN Wave Function training (w mf):  15%|█▌        | 752/5000 [03:00<17:01,  4.16it/s]\n"
     ]
    },
    {
     "name": "stdout",
     "output_type": "stream",
     "text": [
      "Convergent variance of energy: 0.0009\n",
      "DM_emb:  tensor([0.1585, 0.1585, 0.8266, 0.8266])\n",
      "\t ## Err of current loop 12: 0.0571, lam_emb: 1.8074, N_emb: 1.97\n",
      "Find E_fermi: 1.7626\n",
      "DM_kin:  tensor([0.1709, 0.1709, 0.8291, 0.8291])\n"
     ]
    },
    {
     "name": "stderr",
     "output_type": "stream",
     "text": [
      "Meanfield Pfaffian training:   5%|▌         | 250/5000 [00:56<17:56,  4.41it/s]"
     ]
    },
    {
     "name": "stdout",
     "output_type": "stream",
     "text": [
      "Current E var: 0.0314\n"
     ]
    },
    {
     "name": "stderr",
     "output_type": "stream",
     "text": [
      "Meanfield Pfaffian training:  10%|█         | 500/5000 [01:53<16:52,  4.45it/s]"
     ]
    },
    {
     "name": "stdout",
     "output_type": "stream",
     "text": [
      "Current E var: 0.0223\n"
     ]
    },
    {
     "name": "stderr",
     "output_type": "stream",
     "text": [
      "Meanfield Pfaffian training:  10%|█         | 501/5000 [01:53<17:02,  4.40it/s]\n",
      "NN Wave Function training (w/o mf):   5%|▌         | 250/5000 [01:00<18:45,  4.22it/s]"
     ]
    },
    {
     "name": "stdout",
     "output_type": "stream",
     "text": [
      "Current E var: 0.0903\n"
     ]
    },
    {
     "name": "stderr",
     "output_type": "stream",
     "text": [
      "NN Wave Function training (w/o mf):  10%|█         | 500/5000 [02:00<17:44,  4.23it/s]"
     ]
    },
    {
     "name": "stdout",
     "output_type": "stream",
     "text": [
      "Current E var: 0.0101\n"
     ]
    },
    {
     "name": "stderr",
     "output_type": "stream",
     "text": [
      "NN Wave Function training (w/o mf):  15%|█▍        | 743/5000 [02:58<17:01,  4.17it/s]\n"
     ]
    },
    {
     "name": "stdout",
     "output_type": "stream",
     "text": [
      "Convergent variance of energy: 0.0009\n",
      "DM_emb:  tensor([0.1733, 0.1733, 0.8170, 0.8170])\n",
      "\t ## Err of current loop 13: 0.0466, lam_emb: 1.8130, N_emb: 1.98\n",
      "Find E_fermi: 1.7733\n",
      "DM_kin:  tensor([0.1711, 0.1711, 0.8289, 0.8289])\n"
     ]
    },
    {
     "name": "stderr",
     "output_type": "stream",
     "text": [
      "Meanfield Pfaffian training:   5%|▌         | 250/5000 [00:56<17:58,  4.41it/s]"
     ]
    },
    {
     "name": "stdout",
     "output_type": "stream",
     "text": [
      "Current E var: 0.0137\n"
     ]
    },
    {
     "name": "stderr",
     "output_type": "stream",
     "text": [
      "Meanfield Pfaffian training:   9%|▉         | 459/5000 [01:43<17:08,  4.42it/s]\n",
      "NN Wave Function training (w mf):   5%|▌         | 250/5000 [01:00<19:06,  4.14it/s]"
     ]
    },
    {
     "name": "stdout",
     "output_type": "stream",
     "text": [
      "Current E var: 0.0857\n"
     ]
    },
    {
     "name": "stderr",
     "output_type": "stream",
     "text": [
      "NN Wave Function training (w mf):  10%|█         | 500/5000 [02:00<18:01,  4.16it/s]"
     ]
    },
    {
     "name": "stdout",
     "output_type": "stream",
     "text": [
      "Current E var: 0.0108\n"
     ]
    },
    {
     "name": "stderr",
     "output_type": "stream",
     "text": [
      "NN Wave Function training (w mf):  15%|█▍        | 729/5000 [02:55<17:08,  4.15it/s]\n"
     ]
    },
    {
     "name": "stdout",
     "output_type": "stream",
     "text": [
      "Convergent variance of energy: 0.0010\n",
      "DM_emb:  tensor([0.1595, 0.1595, 0.8308, 0.8308])\n",
      "\t ## Err of current loop 14: 0.0329, lam_emb: 1.8364, N_emb: 1.98\n",
      "Find E_fermi: 1.7819\n",
      "DM_kin:  tensor([0.1709, 0.1709, 0.8291, 0.8291])\n"
     ]
    },
    {
     "name": "stderr",
     "output_type": "stream",
     "text": [
      "Meanfield Pfaffian training:   5%|▌         | 250/5000 [00:56<18:00,  4.39it/s]"
     ]
    },
    {
     "name": "stdout",
     "output_type": "stream",
     "text": [
      "Current E var: 0.0208\n"
     ]
    },
    {
     "name": "stderr",
     "output_type": "stream",
     "text": [
      "Meanfield Pfaffian training:  10%|█         | 500/5000 [01:53<17:04,  4.39it/s]"
     ]
    },
    {
     "name": "stdout",
     "output_type": "stream",
     "text": [
      "Current E var: 0.0282\n"
     ]
    },
    {
     "name": "stderr",
     "output_type": "stream",
     "text": [
      "Meanfield Pfaffian training:  10%|█         | 501/5000 [01:53<17:03,  4.40it/s]\n",
      "NN Wave Function training (w/o mf):   5%|▌         | 250/5000 [01:00<18:49,  4.21it/s]"
     ]
    },
    {
     "name": "stdout",
     "output_type": "stream",
     "text": [
      "Current E var: 0.0784\n"
     ]
    },
    {
     "name": "stderr",
     "output_type": "stream",
     "text": [
      "NN Wave Function training (w/o mf):  10%|█         | 500/5000 [02:00<18:03,  4.15it/s]"
     ]
    },
    {
     "name": "stdout",
     "output_type": "stream",
     "text": [
      "Current E var: 0.0107\n"
     ]
    },
    {
     "name": "stderr",
     "output_type": "stream",
     "text": [
      "NN Wave Function training (w/o mf):  15%|█▌        | 750/5000 [02:59<16:53,  4.19it/s]"
     ]
    },
    {
     "name": "stdout",
     "output_type": "stream",
     "text": [
      "Current E var: 0.0011\n"
     ]
    },
    {
     "name": "stderr",
     "output_type": "stream",
     "text": [
      "NN Wave Function training (w/o mf):  15%|█▌        | 750/5000 [03:00<17:00,  4.17it/s]\n"
     ]
    },
    {
     "name": "stdout",
     "output_type": "stream",
     "text": [
      "Convergent variance of energy: 0.0010\n",
      "DM_emb:  tensor([0.1677, 0.1677, 0.8219, 0.8219])\n",
      "\t ## Err of current loop 15: 0.0303, lam_emb: 1.8309, N_emb: 1.98\n",
      "Find E_fermi: 1.7913\n",
      "DM_kin:  tensor([0.1710, 0.1710, 0.8290, 0.8290])\n"
     ]
    },
    {
     "name": "stderr",
     "output_type": "stream",
     "text": [
      "Meanfield Pfaffian training:   5%|▌         | 250/5000 [00:56<17:52,  4.43it/s]"
     ]
    },
    {
     "name": "stdout",
     "output_type": "stream",
     "text": [
      "Current E var: 0.0186\n"
     ]
    },
    {
     "name": "stderr",
     "output_type": "stream",
     "text": [
      "Meanfield Pfaffian training:  10%|█         | 500/5000 [01:53<16:49,  4.46it/s]"
     ]
    },
    {
     "name": "stdout",
     "output_type": "stream",
     "text": [
      "Current E var: 0.0222\n"
     ]
    },
    {
     "name": "stderr",
     "output_type": "stream",
     "text": [
      "Meanfield Pfaffian training:  10%|█         | 501/5000 [01:53<16:59,  4.41it/s]\n",
      "NN Wave Function training (w/o mf):   5%|▌         | 250/5000 [01:00<18:53,  4.19it/s]"
     ]
    },
    {
     "name": "stdout",
     "output_type": "stream",
     "text": [
      "Current E var: 0.0755\n"
     ]
    },
    {
     "name": "stderr",
     "output_type": "stream",
     "text": [
      "NN Wave Function training (w/o mf):  10%|█         | 500/5000 [02:00<17:58,  4.17it/s]"
     ]
    },
    {
     "name": "stdout",
     "output_type": "stream",
     "text": [
      "Current E var: 0.0094\n"
     ]
    },
    {
     "name": "stderr",
     "output_type": "stream",
     "text": [
      "NN Wave Function training (w/o mf):  15%|█▍        | 739/5000 [02:57<17:02,  4.17it/s]\n"
     ]
    },
    {
     "name": "stdout",
     "output_type": "stream",
     "text": [
      "Convergent variance of energy: 0.0010\n",
      "DM_emb:  tensor([0.1731, 0.1731, 0.8265, 0.8265])\n",
      "\t ## Err of current loop 16: 0.0311, lam_emb: 1.8409, N_emb: 2.00\n",
      "Find E_fermi: 1.7953\n",
      "DM_kin:  tensor([0.1710, 0.1710, 0.8290, 0.8290])\n"
     ]
    },
    {
     "name": "stderr",
     "output_type": "stream",
     "text": [
      "Meanfield Pfaffian training:   5%|▌         | 250/5000 [00:56<17:55,  4.42it/s]"
     ]
    },
    {
     "name": "stdout",
     "output_type": "stream",
     "text": [
      "Current E var: 0.0239\n"
     ]
    },
    {
     "name": "stderr",
     "output_type": "stream",
     "text": [
      "Meanfield Pfaffian training:  10%|█         | 500/5000 [01:53<17:05,  4.39it/s]"
     ]
    },
    {
     "name": "stdout",
     "output_type": "stream",
     "text": [
      "Current E var: 0.0242\n"
     ]
    },
    {
     "name": "stderr",
     "output_type": "stream",
     "text": [
      "Meanfield Pfaffian training:  10%|█         | 501/5000 [01:53<17:02,  4.40it/s]\n",
      "NN Wave Function training (w/o mf):   5%|▌         | 250/5000 [01:00<18:37,  4.25it/s]"
     ]
    },
    {
     "name": "stdout",
     "output_type": "stream",
     "text": [
      "Current E var: 0.0784\n"
     ]
    },
    {
     "name": "stderr",
     "output_type": "stream",
     "text": [
      "NN Wave Function training (w/o mf):  10%|█         | 500/5000 [02:00<17:53,  4.19it/s]"
     ]
    },
    {
     "name": "stdout",
     "output_type": "stream",
     "text": [
      "Current E var: 0.0108\n"
     ]
    },
    {
     "name": "stderr",
     "output_type": "stream",
     "text": [
      "NN Wave Function training (w/o mf):  14%|█▍        | 717/5000 [02:52<17:09,  4.16it/s]\n"
     ]
    },
    {
     "name": "stdout",
     "output_type": "stream",
     "text": [
      "Convergent variance of energy: 0.0010\n",
      "DM_emb:  tensor([0.1654, 0.1654, 0.8294, 0.8294])\n",
      "\t ## Err of current loop 17: 0.0373, lam_emb: 1.8513, N_emb: 1.99\n",
      "Find E_fermi: 1.7951\n",
      "DM_kin:  tensor([0.1709, 0.1709, 0.8291, 0.8291])\n"
     ]
    },
    {
     "name": "stderr",
     "output_type": "stream",
     "text": [
      "Meanfield Pfaffian training:   5%|▌         | 250/5000 [00:56<17:59,  4.40it/s]"
     ]
    },
    {
     "name": "stdout",
     "output_type": "stream",
     "text": [
      "Current E var: 0.0307\n"
     ]
    },
    {
     "name": "stderr",
     "output_type": "stream",
     "text": [
      "Meanfield Pfaffian training:  10%|█         | 500/5000 [01:53<17:08,  4.38it/s]"
     ]
    },
    {
     "name": "stdout",
     "output_type": "stream",
     "text": [
      "Current E var: 0.0218\n"
     ]
    },
    {
     "name": "stderr",
     "output_type": "stream",
     "text": [
      "Meanfield Pfaffian training:  10%|█         | 501/5000 [01:53<17:03,  4.40it/s]\n",
      "NN Wave Function training (w/o mf):   5%|▌         | 250/5000 [01:03<18:36,  4.25it/s]"
     ]
    },
    {
     "name": "stdout",
     "output_type": "stream",
     "text": [
      "Current E var: 0.0764\n"
     ]
    },
    {
     "name": "stderr",
     "output_type": "stream",
     "text": [
      "NN Wave Function training (w/o mf):  10%|█         | 500/5000 [02:02<17:54,  4.19it/s]"
     ]
    },
    {
     "name": "stdout",
     "output_type": "stream",
     "text": [
      "Current E var: 0.0084\n"
     ]
    },
    {
     "name": "stderr",
     "output_type": "stream",
     "text": [
      "NN Wave Function training (w/o mf):  14%|█▍        | 714/5000 [02:54<17:24,  4.10it/s]\n"
     ]
    },
    {
     "name": "stdout",
     "output_type": "stream",
     "text": [
      "Convergent variance of energy: 0.0010\n",
      "DM_emb:  tensor([0.1748, 0.1748, 0.8242, 0.8242])\n",
      "\t ## Err of current loop 18: 0.0304, lam_emb: 1.8415, N_emb: 2.00\n",
      "Find E_fermi: 1.7998\n",
      "DM_kin:  tensor([0.1710, 0.1710, 0.8290, 0.8290])\n"
     ]
    },
    {
     "name": "stderr",
     "output_type": "stream",
     "text": [
      "Meanfield Pfaffian training:   0%|          | 0/5000 [00:00<?, ?it/s]\n",
      "NN Wave Function training (w mf):   5%|▌         | 250/5000 [01:00<18:36,  4.25it/s]"
     ]
    },
    {
     "name": "stdout",
     "output_type": "stream",
     "text": [
      "Current E var: 0.0688\n"
     ]
    },
    {
     "name": "stderr",
     "output_type": "stream",
     "text": [
      "NN Wave Function training (w mf):  10%|█         | 500/5000 [02:00<17:51,  4.20it/s]"
     ]
    },
    {
     "name": "stdout",
     "output_type": "stream",
     "text": [
      "Current E var: 0.0094\n"
     ]
    },
    {
     "name": "stderr",
     "output_type": "stream",
     "text": [
      "NN Wave Function training (w mf):  14%|█▍        | 710/5000 [02:50<17:08,  4.17it/s]\n"
     ]
    },
    {
     "name": "stdout",
     "output_type": "stream",
     "text": [
      "Convergent variance of energy: 0.0010\n",
      "DM_emb:  tensor([0.1711, 0.1711, 0.8337, 0.8337])\n",
      "\t ## Err of current loop 19: 0.0282, lam_emb: 1.8548, N_emb: 2.01\n",
      "Find E_fermi: 1.7969\n",
      "DM_kin:  tensor([0.1710, 0.1710, 0.8290, 0.8290])\n"
     ]
    },
    {
     "name": "stderr",
     "output_type": "stream",
     "text": [
      "Meanfield Pfaffian training:   5%|▍         | 242/5000 [00:55<18:01,  4.40it/s]\n",
      "NN Wave Function training (w mf):   5%|▌         | 250/5000 [01:00<18:39,  4.24it/s]"
     ]
    },
    {
     "name": "stdout",
     "output_type": "stream",
     "text": [
      "Current E var: 0.0776\n"
     ]
    },
    {
     "name": "stderr",
     "output_type": "stream",
     "text": [
      "NN Wave Function training (w mf):  10%|█         | 500/5000 [02:00<17:46,  4.22it/s]"
     ]
    },
    {
     "name": "stdout",
     "output_type": "stream",
     "text": [
      "Current E var: 0.0076\n"
     ]
    },
    {
     "name": "stderr",
     "output_type": "stream",
     "text": [
      "NN Wave Function training (w mf):  14%|█▍        | 695/5000 [02:46<17:11,  4.17it/s]\n"
     ]
    },
    {
     "name": "stdout",
     "output_type": "stream",
     "text": [
      "Convergent variance of energy: 0.0010\n",
      "DM_emb:  tensor([0.1733, 0.1733, 0.8285, 0.8285])\n",
      "\t ## Err of current loop 20: 0.0285, lam_emb: 1.8498, N_emb: 2.00\n",
      "Find E_fermi: 1.7941\n",
      "DM_kin:  tensor([0.1710, 0.1710, 0.8290, 0.8290])\n"
     ]
    },
    {
     "name": "stderr",
     "output_type": "stream",
     "text": [
      "Meanfield Pfaffian training:   5%|▍         | 240/5000 [00:54<17:59,  4.41it/s]\n",
      "NN Wave Function training (w mf):   5%|▌         | 250/5000 [01:00<18:57,  4.18it/s]"
     ]
    },
    {
     "name": "stdout",
     "output_type": "stream",
     "text": [
      "Current E var: 0.0718\n"
     ]
    },
    {
     "name": "stderr",
     "output_type": "stream",
     "text": [
      "NN Wave Function training (w mf):  10%|█         | 500/5000 [01:59<17:51,  4.20it/s]"
     ]
    },
    {
     "name": "stdout",
     "output_type": "stream",
     "text": [
      "Current E var: 0.0072\n"
     ]
    },
    {
     "name": "stderr",
     "output_type": "stream",
     "text": [
      "NN Wave Function training (w mf):  14%|█▎        | 685/5000 [02:43<17:11,  4.18it/s]\n"
     ]
    },
    {
     "name": "stdout",
     "output_type": "stream",
     "text": [
      "Convergent variance of energy: 0.0010\n",
      "DM_emb:  tensor([0.1720, 0.1720, 0.8309, 0.8309])\n",
      "\t ## Err of current loop 21: 0.0317, lam_emb: 1.8469, N_emb: 2.01\n",
      "Find E_fermi: 1.7938\n",
      "DM_kin:  tensor([0.1710, 0.1710, 0.8290, 0.8290])\n"
     ]
    },
    {
     "name": "stderr",
     "output_type": "stream",
     "text": [
      "Meanfield Pfaffian training:   5%|▍         | 234/5000 [00:53<18:03,  4.40it/s]\n",
      "NN Wave Function training (w mf):   5%|▌         | 250/5000 [01:00<19:02,  4.16it/s]"
     ]
    },
    {
     "name": "stdout",
     "output_type": "stream",
     "text": [
      "Current E var: 0.0710\n"
     ]
    },
    {
     "name": "stderr",
     "output_type": "stream",
     "text": [
      "NN Wave Function training (w mf):  10%|█         | 500/5000 [02:00<18:00,  4.17it/s]"
     ]
    },
    {
     "name": "stdout",
     "output_type": "stream",
     "text": [
      "Current E var: 0.0066\n"
     ]
    },
    {
     "name": "stderr",
     "output_type": "stream",
     "text": [
      "NN Wave Function training (w mf):  14%|█▎        | 686/5000 [02:44<17:16,  4.16it/s]\n"
     ]
    },
    {
     "name": "stdout",
     "output_type": "stream",
     "text": [
      "Convergent variance of energy: 0.0010\n",
      "DM_emb:  tensor([0.1726, 0.1726, 0.8249, 0.8249])\n",
      "\t ## Err of current loop 22: 0.0451, lam_emb: 1.8495, N_emb: 2.00\n",
      "Find E_fermi: 1.7912\n",
      "DM_kin:  tensor([0.1710, 0.1710, 0.8290, 0.8290])\n"
     ]
    },
    {
     "name": "stderr",
     "output_type": "stream",
     "text": [
      "Meanfield Pfaffian training:   4%|▎         | 186/5000 [00:42<18:16,  4.39it/s]\n",
      "NN Wave Function training (w mf):   5%|▌         | 250/5000 [01:02<19:19,  4.10it/s]"
     ]
    },
    {
     "name": "stdout",
     "output_type": "stream",
     "text": [
      "Current E var: 0.0689\n"
     ]
    },
    {
     "name": "stderr",
     "output_type": "stream",
     "text": [
      "NN Wave Function training (w mf):  10%|█         | 500/5000 [02:03<18:10,  4.13it/s]"
     ]
    },
    {
     "name": "stdout",
     "output_type": "stream",
     "text": [
      "Current E var: 0.0067\n"
     ]
    },
    {
     "name": "stderr",
     "output_type": "stream",
     "text": [
      "NN Wave Function training (w mf):  14%|█▍        | 698/5000 [02:52<17:40,  4.06it/s]\n"
     ]
    },
    {
     "name": "stdout",
     "output_type": "stream",
     "text": [
      "Convergent variance of energy: 0.0009\n",
      "DM_emb:  tensor([0.1701, 0.1701, 0.8284, 0.8284])\n",
      "\t ## Err of current loop 23: 0.0310, lam_emb: 1.8430, N_emb: 2.00\n",
      "Find E_fermi: 1.7969\n",
      "DM_kin:  tensor([0.1711, 0.1711, 0.8289, 0.8289])\n"
     ]
    },
    {
     "name": "stderr",
     "output_type": "stream",
     "text": [
      "Meanfield Pfaffian training:   3%|▎         | 161/5000 [00:36<18:31,  4.35it/s]\n",
      "NN Wave Function training (w mf):   5%|▌         | 250/5000 [01:00<18:55,  4.18it/s]"
     ]
    },
    {
     "name": "stdout",
     "output_type": "stream",
     "text": [
      "Current E var: 0.0663\n"
     ]
    },
    {
     "name": "stderr",
     "output_type": "stream",
     "text": [
      "NN Wave Function training (w mf):  10%|█         | 500/5000 [02:00<17:51,  4.20it/s]"
     ]
    },
    {
     "name": "stdout",
     "output_type": "stream",
     "text": [
      "Current E var: 0.0064\n"
     ]
    },
    {
     "name": "stderr",
     "output_type": "stream",
     "text": [
      "NN Wave Function training (w mf):  14%|█▎        | 686/5000 [02:44<17:15,  4.17it/s]\n"
     ]
    },
    {
     "name": "stdout",
     "output_type": "stream",
     "text": [
      "Convergent variance of energy: 0.0010\n",
      "DM_emb:  tensor([0.1620, 0.1620, 0.8312, 0.8312])\n",
      "\t ## Err of current loop 24: 0.0279, lam_emb: 1.8534, N_emb: 1.99\n",
      "Find E_fermi: 1.7999\n",
      "DM_kin:  tensor([0.1710, 0.1710, 0.8290, 0.8290])\n"
     ]
    },
    {
     "name": "stderr",
     "output_type": "stream",
     "text": [
      "Meanfield Pfaffian training:   0%|          | 16/5000 [00:03<20:26,  4.06it/s]\n",
      "NN Wave Function training (w mf):   5%|▌         | 250/5000 [01:00<18:56,  4.18it/s]"
     ]
    },
    {
     "name": "stdout",
     "output_type": "stream",
     "text": [
      "Current E var: 0.0680\n"
     ]
    },
    {
     "name": "stderr",
     "output_type": "stream",
     "text": [
      "NN Wave Function training (w mf):  10%|█         | 500/5000 [01:59<17:33,  4.27it/s]"
     ]
    },
    {
     "name": "stdout",
     "output_type": "stream",
     "text": [
      "Current E var: 0.0069\n"
     ]
    },
    {
     "name": "stderr",
     "output_type": "stream",
     "text": [
      "NN Wave Function training (w mf):  14%|█▎        | 679/5000 [02:42<17:16,  4.17it/s]\n"
     ]
    },
    {
     "name": "stdout",
     "output_type": "stream",
     "text": [
      "Convergent variance of energy: 0.0010\n",
      "DM_emb:  tensor([0.1795, 0.1795, 0.8229, 0.8229])\n",
      "\t ## Err of current loop 25: 0.0270, lam_emb: 1.8469, N_emb: 2.00\n",
      "Find E_fermi: 1.7996\n",
      "DM_kin:  tensor([0.1713, 0.1713, 0.8287, 0.8287])\n"
     ]
    },
    {
     "name": "stderr",
     "output_type": "stream",
     "text": [
      "Meanfield Pfaffian training:   2%|▏         | 99/5000 [00:22<18:27,  4.43it/s]\n",
      "NN Wave Function training (w mf):   5%|▌         | 250/5000 [01:00<19:15,  4.11it/s]"
     ]
    },
    {
     "name": "stdout",
     "output_type": "stream",
     "text": [
      "Current E var: 0.0634\n"
     ]
    },
    {
     "name": "stderr",
     "output_type": "stream",
     "text": [
      "NN Wave Function training (w mf):  10%|█         | 500/5000 [01:59<17:54,  4.19it/s]"
     ]
    },
    {
     "name": "stdout",
     "output_type": "stream",
     "text": [
      "Current E var: 0.0074\n"
     ]
    },
    {
     "name": "stderr",
     "output_type": "stream",
     "text": [
      "NN Wave Function training (w mf):  14%|█▎        | 685/5000 [02:44<17:14,  4.17it/s]\n"
     ]
    },
    {
     "name": "stdout",
     "output_type": "stream",
     "text": [
      "Convergent variance of energy: 0.0010\n",
      "DM_emb:  tensor([0.1669, 0.1669, 0.8340, 0.8340])\n",
      "\t ## Err of current loop 26: 0.0199, lam_emb: 1.8566, N_emb: 2.00\n",
      "Find E_fermi: 1.7996\n",
      "DM_kin:  tensor([0.1710, 0.1710, 0.8290, 0.8290])\n"
     ]
    },
    {
     "name": "stderr",
     "output_type": "stream",
     "text": [
      "Meanfield Pfaffian training:   3%|▎         | 148/5000 [00:33<18:29,  4.37it/s]\n",
      "NN Wave Function training (w mf):   5%|▌         | 250/5000 [01:01<19:03,  4.16it/s]"
     ]
    },
    {
     "name": "stdout",
     "output_type": "stream",
     "text": [
      "Current E var: 0.0626\n"
     ]
    },
    {
     "name": "stderr",
     "output_type": "stream",
     "text": [
      "NN Wave Function training (w mf):  10%|█         | 500/5000 [02:00<17:51,  4.20it/s]"
     ]
    },
    {
     "name": "stdout",
     "output_type": "stream",
     "text": [
      "Current E var: 0.0057\n"
     ]
    },
    {
     "name": "stderr",
     "output_type": "stream",
     "text": [
      "NN Wave Function training (w mf):  13%|█▎        | 671/5000 [02:41<17:22,  4.15it/s]\n"
     ]
    },
    {
     "name": "stdout",
     "output_type": "stream",
     "text": [
      "Convergent variance of energy: 0.0010\n",
      "DM_emb:  tensor([0.1777, 0.1777, 0.8286, 0.8286])\n",
      "\t ## Err of current loop 27: 0.0246, lam_emb: 1.8492, N_emb: 2.01\n",
      "Find E_fermi: 1.7959\n",
      "DM_kin:  tensor([0.1714, 0.1714, 0.8286, 0.8286])\n"
     ]
    },
    {
     "name": "stderr",
     "output_type": "stream",
     "text": [
      "Meanfield Pfaffian training:   1%|          | 30/5000 [00:07<19:36,  4.22it/s]\n",
      "NN Wave Function training (w mf):   5%|▌         | 250/5000 [01:00<18:47,  4.21it/s]"
     ]
    },
    {
     "name": "stdout",
     "output_type": "stream",
     "text": [
      "Current E var: 0.0647\n"
     ]
    },
    {
     "name": "stderr",
     "output_type": "stream",
     "text": [
      "NN Wave Function training (w mf):  10%|█         | 500/5000 [02:03<18:11,  4.12it/s]  "
     ]
    },
    {
     "name": "stdout",
     "output_type": "stream",
     "text": [
      "Current E var: 0.0053\n"
     ]
    },
    {
     "name": "stderr",
     "output_type": "stream",
     "text": [
      "NN Wave Function training (w mf):  13%|█▎        | 666/5000 [02:42<17:40,  4.09it/s]\n"
     ]
    },
    {
     "name": "stdout",
     "output_type": "stream",
     "text": [
      "Convergent variance of energy: 0.0010\n",
      "DM_emb:  tensor([0.1723, 0.1723, 0.8308, 0.8308])\n",
      "\t ## Err of current loop 28: 0.0383, lam_emb: 1.8552, N_emb: 2.01\n",
      "Find E_fermi: 1.7872\n",
      "DM_kin:  tensor([0.1710, 0.1710, 0.8290, 0.8290])\n"
     ]
    },
    {
     "name": "stderr",
     "output_type": "stream",
     "text": [
      "Meanfield Pfaffian training:   1%|          | 60/5000 [00:13<18:56,  4.35it/s]\n",
      "NN Wave Function training (w mf):   5%|▌         | 250/5000 [01:00<18:52,  4.20it/s]"
     ]
    },
    {
     "name": "stdout",
     "output_type": "stream",
     "text": [
      "Current E var: 0.0615\n"
     ]
    },
    {
     "name": "stderr",
     "output_type": "stream",
     "text": [
      "NN Wave Function training (w mf):  10%|█         | 500/5000 [01:59<17:45,  4.22it/s]"
     ]
    },
    {
     "name": "stdout",
     "output_type": "stream",
     "text": [
      "Current E var: 0.0053\n"
     ]
    },
    {
     "name": "stderr",
     "output_type": "stream",
     "text": [
      "NN Wave Function training (w mf):  13%|█▎        | 665/5000 [02:38<17:14,  4.19it/s]\n"
     ]
    },
    {
     "name": "stdout",
     "output_type": "stream",
     "text": [
      "Convergent variance of energy: 0.0009\n",
      "DM_emb:  tensor([0.1683, 0.1683, 0.8284, 0.8284])\n",
      "\t ## Err of current loop 29: 0.0448, lam_emb: 1.8379, N_emb: 1.99\n",
      "Find E_fermi: 1.7973\n",
      "DM_kin:  tensor([0.1712, 0.1712, 0.8288, 0.8288])\n"
     ]
    },
    {
     "name": "stderr",
     "output_type": "stream",
     "text": [
      "Meanfield Pfaffian training:   2%|▏         | 82/5000 [00:18<18:49,  4.35it/s]\n",
      "NN Wave Function training (w mf):   5%|▌         | 250/5000 [01:00<18:55,  4.18it/s]"
     ]
    },
    {
     "name": "stdout",
     "output_type": "stream",
     "text": [
      "Current E var: 0.0676\n"
     ]
    },
    {
     "name": "stderr",
     "output_type": "stream",
     "text": [
      "NN Wave Function training (w mf):  10%|█         | 500/5000 [02:00<17:36,  4.26it/s]"
     ]
    },
    {
     "name": "stdout",
     "output_type": "stream",
     "text": [
      "Current E var: 0.0054\n"
     ]
    },
    {
     "name": "stderr",
     "output_type": "stream",
     "text": [
      "NN Wave Function training (w mf):  13%|█▎        | 654/5000 [02:36<17:23,  4.17it/s]\n"
     ]
    },
    {
     "name": "stdout",
     "output_type": "stream",
     "text": [
      "Convergent variance of energy: 0.0010\n"
     ]
    },
    {
     "ename": "KeyboardInterrupt",
     "evalue": "",
     "output_type": "error",
     "traceback": [
      "\u001b[0;31m---------------------------------------------------------------------------\u001b[0m",
      "\u001b[0;31mKeyboardInterrupt\u001b[0m                         Traceback (most recent call last)",
      "Cell \u001b[0;32mIn[2], line 56\u001b[0m\n\u001b[1;32m     52\u001b[0m errs \u001b[38;5;241m=\u001b[39m []\n\u001b[1;32m     53\u001b[0m \u001b[38;5;28;01mfor\u001b[39;00m i \u001b[38;5;129;01min\u001b[39;00m \u001b[38;5;28mrange\u001b[39m(\u001b[38;5;241m300\u001b[39m):\n\u001b[1;32m     54\u001b[0m     \u001b[38;5;66;03m# print(gga.gGAtomic.LAM_C[\"C\"][1].abs().max())\u001b[39;00m\n\u001b[1;32m     55\u001b[0m     \u001b[38;5;66;03m# err, RDM, RDM_fit, LAMS = gga.update(atomicdata)\u001b[39;00m\n\u001b[0;32m---> 56\u001b[0m     err, RDM \u001b[38;5;241m=\u001b[39m \u001b[43mgga\u001b[49m\u001b[38;5;241;43m.\u001b[39;49m\u001b[43mupdate\u001b[49m\u001b[43m(\u001b[49m\u001b[43matomicdata\u001b[49m\u001b[43m)\u001b[49m\n\u001b[1;32m     57\u001b[0m     \u001b[38;5;28mprint\u001b[39m(\u001b[38;5;124m\"\u001b[39m\u001b[38;5;130;01m\\t\u001b[39;00m\u001b[38;5;124m ## Err of current loop \u001b[39m\u001b[38;5;132;01m{:d}\u001b[39;00m\u001b[38;5;124m: \u001b[39m\u001b[38;5;132;01m{:.4f}\u001b[39;00m\u001b[38;5;124m, lam_emb: \u001b[39m\u001b[38;5;132;01m{:.4f}\u001b[39;00m\u001b[38;5;124m, N_emb: \u001b[39m\u001b[38;5;132;01m{:.2f}\u001b[39;00m\u001b[38;5;124m\"\u001b[39m\u001b[38;5;241m.\u001b[39mformat(i\u001b[38;5;241m+\u001b[39m\u001b[38;5;241m1\u001b[39m, err, gga\u001b[38;5;241m.\u001b[39mgGAtomic\u001b[38;5;241m.\u001b[39mLAM_C[\u001b[38;5;124m\"\u001b[39m\u001b[38;5;124mC\u001b[39m\u001b[38;5;124m\"\u001b[39m][\u001b[38;5;241m0\u001b[39m]\u001b[38;5;241m.\u001b[39mabs()\u001b[38;5;241m.\u001b[39mmax()\u001b[38;5;241m.\u001b[39mitem(), RDM[\u001b[38;5;124m\"\u001b[39m\u001b[38;5;124mC\u001b[39m\u001b[38;5;124m\"\u001b[39m][\u001b[38;5;241m0\u001b[39m]\u001b[38;5;241m.\u001b[39mtrace()\u001b[38;5;241m.\u001b[39mreal))\u001b[38;5;66;03m# , RDM_fit[\"C\"][0].trace()))\u001b[39;00m\n\u001b[1;32m     58\u001b[0m     \u001b[38;5;66;03m# print(torch.linalg.eigvalsh(RDM[\"C\"][0]))\u001b[39;00m\n",
      "File \u001b[0;32m/homes/nessa/zhanghao/dev/Hubbard/gGA/nn/ghostG.py:137\u001b[0m, in \u001b[0;36mGhostGutzwiller.update\u001b[0;34m(self, data)\u001b[0m\n\u001b[1;32m    133\u001b[0m \u001b[38;5;28mself\u001b[39m\u001b[38;5;241m.\u001b[39mgGAtomic\u001b[38;5;241m.\u001b[39mupdate_RDM(RDM)\n\u001b[1;32m    134\u001b[0m \u001b[38;5;66;03m# self.gGAtomic.update_LAM(LAM)\u001b[39;00m\n\u001b[1;32m    135\u001b[0m \n\u001b[1;32m    136\u001b[0m \u001b[38;5;66;03m# update gGA part, for LAM_C, RDM, R\u001b[39;00m\n\u001b[0;32m--> 137\u001b[0m \u001b[38;5;28;43mself\u001b[39;49m\u001b[38;5;241;43m.\u001b[39;49m\u001b[43mgGAtomic\u001b[49m\u001b[38;5;241;43m.\u001b[39;49m\u001b[43mupdate\u001b[49m\u001b[43m(\u001b[49m\u001b[43mphy_onsite\u001b[49m\u001b[43m,\u001b[49m\u001b[43m \u001b[49m\u001b[38;5;28;43mself\u001b[39;49m\u001b[38;5;241;43m.\u001b[39;49m\u001b[43mintparams\u001b[49m\u001b[43m,\u001b[49m\u001b[43m \u001b[49m\u001b[43mE_fermi\u001b[49m\u001b[38;5;241;43m=\u001b[39;49m\u001b[38;5;241;43m0.\u001b[39;49m\u001b[43m)\u001b[49m\n\u001b[1;32m    139\u001b[0m RDM_emb \u001b[38;5;241m=\u001b[39m \u001b[38;5;28mself\u001b[39m\u001b[38;5;241m.\u001b[39mgGAtomic\u001b[38;5;241m.\u001b[39mRDM\n\u001b[1;32m    140\u001b[0m \u001b[38;5;28mprint\u001b[39m(\u001b[38;5;124m\"\u001b[39m\u001b[38;5;124mDM_emb: \u001b[39m\u001b[38;5;124m\"\u001b[39m, torch\u001b[38;5;241m.\u001b[39mlinalg\u001b[38;5;241m.\u001b[39meigvalsh(RDM_emb[\u001b[38;5;124m\"\u001b[39m\u001b[38;5;124mC\u001b[39m\u001b[38;5;124m\"\u001b[39m][\u001b[38;5;241m0\u001b[39m]))\n",
      "File \u001b[0;32m/homes/nessa/zhanghao/dev/Hubbard/gGA/nn/ansatz.py:483\u001b[0m, in \u001b[0;36mgGAtomic.update\u001b[0;34m(self, t, intparams, E_fermi)\u001b[0m\n\u001b[1;32m    481\u001b[0m         \u001b[38;5;28;01massert\u001b[39;00m t_a\u001b[38;5;241m.\u001b[39mshape[\u001b[38;5;241m1\u001b[39m] \u001b[38;5;241m==\u001b[39m \u001b[38;5;28mself\u001b[39m\u001b[38;5;241m.\u001b[39midp_phy\u001b[38;5;241m.\u001b[39matom_norb[\u001b[38;5;28mself\u001b[39m\u001b[38;5;241m.\u001b[39midp_phy\u001b[38;5;241m.\u001b[39mchemical_symbol_to_type[sym]], \u001b[38;5;124m\"\u001b[39m\u001b[38;5;124mShape of t is not correct!\u001b[39m\u001b[38;5;124m\"\u001b[39m\n\u001b[1;32m    482\u001b[0m         t_a \u001b[38;5;241m=\u001b[39m [t_a[s\u001b[38;5;241m*\u001b[39msfactor:s\u001b[38;5;241m*\u001b[39msfactor\u001b[38;5;241m+\u001b[39m\u001b[38;5;28mself\u001b[39m\u001b[38;5;241m.\u001b[39midp_phy\u001b[38;5;241m.\u001b[39mlistnorbs[sym][\u001b[38;5;28mself\u001b[39m\u001b[38;5;241m.\u001b[39midx_intorb[sym][i]]\u001b[38;5;241m*\u001b[39msfactor,s\u001b[38;5;241m*\u001b[39msfactor:s\u001b[38;5;241m*\u001b[39msfactor\u001b[38;5;241m+\u001b[39m\u001b[38;5;28mself\u001b[39m\u001b[38;5;241m.\u001b[39midp_phy\u001b[38;5;241m.\u001b[39mlistnorbs[sym][\u001b[38;5;28mself\u001b[39m\u001b[38;5;241m.\u001b[39midx_intorb[sym][i]]\u001b[38;5;241m*\u001b[39msfactor] \u001b[38;5;28;01mfor\u001b[39;00m i, s \u001b[38;5;129;01min\u001b[39;00m \u001b[38;5;28menumerate\u001b[39m(\u001b[38;5;28mself\u001b[39m\u001b[38;5;241m.\u001b[39mstart_phy_orbs[sym])]\n\u001b[0;32m--> 483\u001b[0m         \u001b[38;5;28;43mself\u001b[39;49m\u001b[38;5;241;43m.\u001b[39;49m\u001b[43minteract_ansatz\u001b[49m\u001b[43m[\u001b[49m\u001b[43mia\u001b[49m\u001b[43m]\u001b[49m\u001b[38;5;241;43m.\u001b[39;49m\u001b[43mupdate\u001b[49m\u001b[43m(\u001b[49m\u001b[43mt_a\u001b[49m\u001b[43m,\u001b[49m\u001b[43m \u001b[49m\u001b[43mintparams\u001b[49m\u001b[43m[\u001b[49m\u001b[43msym\u001b[49m\u001b[43m]\u001b[49m\u001b[43m,\u001b[49m\u001b[43m \u001b[49m\u001b[43mE_fermi\u001b[49m\u001b[43m)\u001b[49m\n\u001b[1;32m    484\u001b[0m         \u001b[38;5;66;03m# update the R, RDM for each atomic system\u001b[39;00m\n\u001b[1;32m    486\u001b[0m \u001b[38;5;28;01mreturn\u001b[39;00m \u001b[38;5;28;01mTrue\u001b[39;00m\n",
      "File \u001b[0;32m/homes/nessa/zhanghao/dev/Hubbard/gGA/nn/ansatz.py:329\u001b[0m, in \u001b[0;36mgGAMultiOrb.update\u001b[0;34m(self, t, intparams, E_fermi)\u001b[0m\n\u001b[1;32m    327\u001b[0m \u001b[38;5;28;01mfor\u001b[39;00m iso, singleOrb \u001b[38;5;129;01min\u001b[39;00m \u001b[38;5;28menumerate\u001b[39m(\u001b[38;5;28mself\u001b[39m\u001b[38;5;241m.\u001b[39msingleOrbs):\n\u001b[1;32m    328\u001b[0m     t_so \u001b[38;5;241m=\u001b[39m t[iso] \u001b[38;5;66;03m# [aux_spinorb, aux_spinorb]\u001b[39;00m\n\u001b[0;32m--> 329\u001b[0m     \u001b[43msingleOrb\u001b[49m\u001b[38;5;241;43m.\u001b[39;49m\u001b[43mupdate\u001b[49m\u001b[43m(\u001b[49m\u001b[43mt_so\u001b[49m\u001b[43m,\u001b[49m\u001b[43m \u001b[49m\u001b[43mintparams\u001b[49m\u001b[43m[\u001b[49m\u001b[43miso\u001b[49m\u001b[43m]\u001b[49m\u001b[43m,\u001b[49m\u001b[43m \u001b[49m\u001b[43mE_fermi\u001b[49m\u001b[43m)\u001b[49m\n\u001b[1;32m    331\u001b[0m \u001b[38;5;28;01mreturn\u001b[39;00m \u001b[38;5;28;01mTrue\u001b[39;00m\n",
      "File \u001b[0;32m/homes/nessa/zhanghao/dev/Hubbard/gGA/nn/ansatz.py:132\u001b[0m, in \u001b[0;36mgGASingleOrb.update\u001b[0;34m(self, t, intparam, E_fermi)\u001b[0m\n\u001b[1;32m    130\u001b[0m \u001b[38;5;66;03m# update R, RDM\u001b[39;00m\n\u001b[1;32m    131\u001b[0m _t, _intparam \u001b[38;5;241m=\u001b[39m \u001b[38;5;28mself\u001b[39m\u001b[38;5;241m.\u001b[39mget_Hemb_param(t, intparam, E_fermi)\n\u001b[0;32m--> 132\u001b[0m RDM \u001b[38;5;241m=\u001b[39m \u001b[38;5;28;43mself\u001b[39;49m\u001b[38;5;241;43m.\u001b[39;49m\u001b[43msolver\u001b[49m\u001b[38;5;241;43m.\u001b[39;49m\u001b[43msolve\u001b[49m\u001b[43m(\u001b[49m\u001b[43m_t\u001b[49m\u001b[43m,\u001b[49m\u001b[43m \u001b[49m\u001b[43m_intparam\u001b[49m\u001b[43m,\u001b[49m\u001b[43m \u001b[49m\u001b[43mreturn_RDM\u001b[49m\u001b[38;5;241;43m=\u001b[39;49m\u001b[38;5;28;43;01mTrue\u001b[39;49;00m\u001b[43m)\u001b[49m\n\u001b[1;32m    134\u001b[0m \u001b[38;5;66;03m# compute R and RDM_bath\u001b[39;00m\n\u001b[1;32m    135\u001b[0m RDM_bath \u001b[38;5;241m=\u001b[39m torch\u001b[38;5;241m.\u001b[39meye(\u001b[38;5;28mself\u001b[39m\u001b[38;5;241m.\u001b[39maux_spinorb, device\u001b[38;5;241m=\u001b[39m\u001b[38;5;28mself\u001b[39m\u001b[38;5;241m.\u001b[39mdevice, dtype\u001b[38;5;241m=\u001b[39m\u001b[38;5;28mself\u001b[39m\u001b[38;5;241m.\u001b[39mdtype) \u001b[38;5;241m-\u001b[39m RDM[\u001b[38;5;241m-\u001b[39m\u001b[38;5;28mself\u001b[39m\u001b[38;5;241m.\u001b[39maux_spinorb:, \u001b[38;5;241m-\u001b[39m\u001b[38;5;28mself\u001b[39m\u001b[38;5;241m.\u001b[39maux_spinorb:]\n",
      "File \u001b[0;32m/homes/nessa/zhanghao/dev/Hubbard/gGA/solver/nqs_solver.py:203\u001b[0m, in \u001b[0;36mNQS_solver.solve\u001b[0;34m(self, T, intparam, return_RDM)\u001b[0m\n\u001b[1;32m    200\u001b[0m     state \u001b[38;5;241m=\u001b[39m \u001b[38;5;28mself\u001b[39m\u001b[38;5;241m.\u001b[39mmf_state\n\u001b[1;32m    202\u001b[0m \u001b[38;5;28;01mif\u001b[39;00m return_RDM:\n\u001b[0;32m--> 203\u001b[0m     RDM \u001b[38;5;241m=\u001b[39m \u001b[38;5;28mself\u001b[39m\u001b[38;5;241m.\u001b[39mcal_RDM(state\u001b[38;5;241m=\u001b[39mstate, sampler\u001b[38;5;241m=\u001b[39msampler)\n\u001b[1;32m    205\u001b[0m \u001b[38;5;28;01mreturn\u001b[39;00m RDM\u001b[38;5;241m.\u001b[39mto(device\u001b[38;5;241m=\u001b[39mT\u001b[38;5;241m.\u001b[39mdevice)\n",
      "File \u001b[0;32m/homes/nessa/zhanghao/dev/Hubbard/gGA/solver/nqs_solver.py:239\u001b[0m, in \u001b[0;36mNQS_solver.cal_RDM\u001b[0;34m(self, state, sampler)\u001b[0m\n\u001b[1;32m    237\u001b[0m \u001b[38;5;28;01mwhile\u001b[39;00m \u001b[38;5;129;01mnot\u001b[39;00m converge:\n\u001b[1;32m    238\u001b[0m     samples \u001b[38;5;241m=\u001b[39m sampler\u001b[38;5;241m.\u001b[39msweep()\n\u001b[0;32m--> 239\u001b[0m     vmean \u001b[38;5;241m=\u001b[39m \u001b[43mop\u001b[49m\u001b[38;5;241;43m.\u001b[39;49m\u001b[43mexpectation\u001b[49m\u001b[43m(\u001b[49m\u001b[43mstate\u001b[49m\u001b[43m,\u001b[49m\u001b[43m \u001b[49m\u001b[43msamples\u001b[49m\u001b[43m)\u001b[49m\n\u001b[1;32m    240\u001b[0m     new_mean \u001b[38;5;241m=\u001b[39m count\u001b[38;5;241m/\u001b[39m(count\u001b[38;5;241m+\u001b[39m\u001b[38;5;241m1\u001b[39m) \u001b[38;5;241m*\u001b[39m old_mean \u001b[38;5;241m+\u001b[39m \u001b[38;5;241m1\u001b[39m\u001b[38;5;241m/\u001b[39m(count\u001b[38;5;241m+\u001b[39m\u001b[38;5;241m1\u001b[39m) \u001b[38;5;241m*\u001b[39m vmean\n\u001b[1;32m    242\u001b[0m     \u001b[38;5;28;01mif\u001b[39;00m \u001b[38;5;28mabs\u001b[39m(new_mean \u001b[38;5;241m-\u001b[39m old_mean) \u001b[38;5;241m<\u001b[39m \u001b[38;5;28mself\u001b[39m\u001b[38;5;241m.\u001b[39mPtol:\n",
      "File \u001b[0;32m~/softwares/miniconda3/envs/hubbard/lib/python3.10/site-packages/quantax/operator/operator.py:493\u001b[0m, in \u001b[0;36mOperator.expectation\u001b[0;34m(self, state, samples, return_var)\u001b[0m\n\u001b[1;32m    471\u001b[0m \u001b[38;5;250m\u001b[39m\u001b[38;5;124mr\u001b[39m\u001b[38;5;124;03m\"\"\"\u001b[39;00m\n\u001b[1;32m    472\u001b[0m \u001b[38;5;124;03mThe expectation value of the operator\u001b[39;00m\n\u001b[1;32m    473\u001b[0m \n\u001b[0;32m   (...)\u001b[0m\n\u001b[1;32m    490\u001b[0m \u001b[38;5;124;03m        only returned when ``return_var = True``\u001b[39;00m\n\u001b[1;32m    491\u001b[0m \u001b[38;5;124;03m\"\"\"\u001b[39;00m\n\u001b[1;32m    492\u001b[0m reweight \u001b[38;5;241m=\u001b[39m samples\u001b[38;5;241m.\u001b[39mreweight_factor \u001b[38;5;28;01mif\u001b[39;00m \u001b[38;5;28misinstance\u001b[39m(samples, Samples) \u001b[38;5;28;01melse\u001b[39;00m \u001b[38;5;241m1.0\u001b[39m\n\u001b[0;32m--> 493\u001b[0m Oloc \u001b[38;5;241m=\u001b[39m \u001b[38;5;28;43mself\u001b[39;49m\u001b[38;5;241;43m.\u001b[39;49m\u001b[43mOloc\u001b[49m\u001b[43m(\u001b[49m\u001b[43mstate\u001b[49m\u001b[43m,\u001b[49m\u001b[43m \u001b[49m\u001b[43msamples\u001b[49m\u001b[43m)\u001b[49m\n\u001b[1;32m    494\u001b[0m Omean \u001b[38;5;241m=\u001b[39m jnp\u001b[38;5;241m.\u001b[39mmean(Oloc \u001b[38;5;241m*\u001b[39m reweight)\n\u001b[1;32m    495\u001b[0m \u001b[38;5;28;01mif\u001b[39;00m return_var:\n",
      "File \u001b[0;32m~/softwares/miniconda3/envs/hubbard/lib/python3.10/site-packages/quantax/operator/operator.py:463\u001b[0m, in \u001b[0;36mOperator.Oloc\u001b[0;34m(self, state, samples)\u001b[0m\n\u001b[1;32m    460\u001b[0m     wf \u001b[38;5;241m=\u001b[39m state(spins)\n\u001b[1;32m    461\u001b[0m     samples \u001b[38;5;241m=\u001b[39m Samples(spins, wf)\n\u001b[0;32m--> 463\u001b[0m \u001b[38;5;28;01mreturn\u001b[39;00m \u001b[38;5;28;43mself\u001b[39;49m\u001b[38;5;241;43m.\u001b[39;49m\u001b[43mpsiOloc\u001b[49m\u001b[43m(\u001b[49m\u001b[43mstate\u001b[49m\u001b[43m,\u001b[49m\u001b[43m \u001b[49m\u001b[43msamples\u001b[49m\u001b[43m)\u001b[49m \u001b[38;5;241m/\u001b[39m samples\u001b[38;5;241m.\u001b[39mwave_function\n",
      "File \u001b[0;32m~/softwares/miniconda3/envs/hubbard/lib/python3.10/site-packages/quantax/operator/operator.py:436\u001b[0m, in \u001b[0;36mOperator.psiOloc\u001b[0;34m(self, state, samples)\u001b[0m\n\u001b[1;32m    433\u001b[0m         \u001b[38;5;28;01mreturn\u001b[39;00m sharded_segment_sum(psiHx, segment, num_segments\u001b[38;5;241m=\u001b[39ms\u001b[38;5;241m.\u001b[39mshape[\u001b[38;5;241m0\u001b[39m])\n\u001b[1;32m    435\u001b[0m     get_psiHx \u001b[38;5;241m=\u001b[39m chunk_map(get_psiHx, chunk_size\u001b[38;5;241m=\u001b[39mref_chunk)\n\u001b[0;32m--> 436\u001b[0m     psiHx \u001b[38;5;241m+\u001b[39m\u001b[38;5;241m=\u001b[39m \u001b[43mget_psiHx\u001b[49m\u001b[43m(\u001b[49m\u001b[43ms\u001b[49m\u001b[43m,\u001b[49m\u001b[43m \u001b[49m\u001b[43ms_conn\u001b[49m\u001b[43m,\u001b[49m\u001b[43m \u001b[49m\u001b[43mH_conn\u001b[49m\u001b[43m)\u001b[49m\n\u001b[1;32m    438\u001b[0m \u001b[38;5;28;01mreturn\u001b[39;00m Hz \u001b[38;5;241m*\u001b[39m wf \u001b[38;5;241m+\u001b[39m psiHx\n",
      "File \u001b[0;32m~/softwares/miniconda3/envs/hubbard/lib/python3.10/site-packages/quantax/utils/function.py:141\u001b[0m, in \u001b[0;36mchunk_map.<locals>.chunked_f\u001b[0;34m(*args)\u001b[0m\n\u001b[1;32m    139\u001b[0m     args \u001b[38;5;241m=\u001b[39m jax\u001b[38;5;241m.\u001b[39mtree\u001b[38;5;241m.\u001b[39munflatten(treedef, args)\n\u001b[1;32m    140\u001b[0m     args \u001b[38;5;241m=\u001b[39m eqx\u001b[38;5;241m.\u001b[39mcombine(args, static_args)\n\u001b[0;32m--> 141\u001b[0m     outputs\u001b[38;5;241m.\u001b[39mappend(\u001b[43mf\u001b[49m\u001b[43m(\u001b[49m\u001b[38;5;241;43m*\u001b[39;49m\u001b[43margs\u001b[49m\u001b[43m)\u001b[49m)\n\u001b[1;32m    143\u001b[0m fn_concat \u001b[38;5;241m=\u001b[39m \u001b[38;5;28;01mlambda\u001b[39;00m \u001b[38;5;241m*\u001b[39mout: jnp\u001b[38;5;241m.\u001b[39mstack(out, axis\u001b[38;5;241m=\u001b[39m\u001b[38;5;241m0\u001b[39m)\n\u001b[1;32m    144\u001b[0m outputs \u001b[38;5;241m=\u001b[39m filter_tree_map(fn_concat, \u001b[38;5;241m*\u001b[39moutputs)\n",
      "File \u001b[0;32m~/softwares/miniconda3/envs/hubbard/lib/python3.10/site-packages/quantax/operator/operator.py:430\u001b[0m, in \u001b[0;36mOperator.psiOloc.<locals>.get_psiHx\u001b[0;34m(s, s_conn, H_conn)\u001b[0m\n\u001b[1;32m    428\u001b[0m \u001b[38;5;28;01mdef\u001b[39;00m \u001b[38;5;21mget_psiHx\u001b[39m(s, s_conn, H_conn):\n\u001b[1;32m    429\u001b[0m     segment, s_conn, H_conn \u001b[38;5;241m=\u001b[39m _get_conn(s_conn, H_conn, conn_size)\n\u001b[0;32m--> 430\u001b[0m     internal \u001b[38;5;241m=\u001b[39m \u001b[43mstate\u001b[49m\u001b[38;5;241;43m.\u001b[39;49m\u001b[43minit_internal\u001b[49m\u001b[43m(\u001b[49m\u001b[43ms\u001b[49m\u001b[43m)\u001b[49m\n\u001b[1;32m    431\u001b[0m     psi_conn \u001b[38;5;241m=\u001b[39m state\u001b[38;5;241m.\u001b[39mref_forward(s_conn, s, nflips, segment, internal)\n\u001b[1;32m    432\u001b[0m     psiHx \u001b[38;5;241m=\u001b[39m jnp\u001b[38;5;241m.\u001b[39mwhere(jnp\u001b[38;5;241m.\u001b[39misclose(H_conn, \u001b[38;5;241m0\u001b[39m), \u001b[38;5;241m0\u001b[39m, psi_conn \u001b[38;5;241m*\u001b[39m H_conn)\n",
      "File \u001b[0;32m~/softwares/miniconda3/envs/hubbard/lib/python3.10/site-packages/quantax/state/variational.py:320\u001b[0m, in \u001b[0;36mVariational.init_internal\u001b[0;34m(self, x)\u001b[0m\n\u001b[1;32m    318\u001b[0m \u001b[38;5;28;01mdef\u001b[39;00m \u001b[38;5;21minit_internal\u001b[39m(\u001b[38;5;28mself\u001b[39m, x: jax\u001b[38;5;241m.\u001b[39mArray) \u001b[38;5;241m-\u001b[39m\u001b[38;5;241m>\u001b[39m PyTree:\n\u001b[1;32m    319\u001b[0m     \u001b[38;5;28;01mif\u001b[39;00m \u001b[38;5;28misinstance\u001b[39m(\u001b[38;5;28mself\u001b[39m\u001b[38;5;241m.\u001b[39mmodel, RefModel):\n\u001b[0;32m--> 320\u001b[0m         \u001b[38;5;28;01mreturn\u001b[39;00m \u001b[38;5;28;43mself\u001b[39;49m\u001b[38;5;241;43m.\u001b[39;49m\u001b[43m_init_internal\u001b[49m\u001b[43m(\u001b[49m\u001b[38;5;28;43mself\u001b[39;49m\u001b[38;5;241;43m.\u001b[39;49m\u001b[43mmodel\u001b[49m\u001b[43m,\u001b[49m\u001b[43m \u001b[49m\u001b[43mx\u001b[49m\u001b[43m)\u001b[49m\n\u001b[1;32m    321\u001b[0m     \u001b[38;5;28;01melse\u001b[39;00m:\n\u001b[1;32m    322\u001b[0m         \u001b[38;5;28;01mreturn\u001b[39;00m \u001b[38;5;28;01mNone\u001b[39;00m\n",
      "    \u001b[0;31m[... skipping hidden 2 frame]\u001b[0m\n",
      "File \u001b[0;32m~/softwares/miniconda3/envs/hubbard/lib/python3.10/site-packages/equinox/_jit.py:248\u001b[0m, in \u001b[0;36m_JitWrapper._call\u001b[0;34m(self, is_lower, args, kwargs)\u001b[0m\n\u001b[1;32m    244\u001b[0m         marker, _, _ \u001b[38;5;241m=\u001b[39m out \u001b[38;5;241m=\u001b[39m \u001b[38;5;28mself\u001b[39m\u001b[38;5;241m.\u001b[39m_cached(\n\u001b[1;32m    245\u001b[0m             dynamic_donate, dynamic_nodonate, static\n\u001b[1;32m    246\u001b[0m         )\n\u001b[1;32m    247\u001b[0m     \u001b[38;5;28;01mif\u001b[39;00m \u001b[38;5;129;01mnot\u001b[39;00m jitting:\n\u001b[0;32m--> 248\u001b[0m         \u001b[43mmarker\u001b[49m\u001b[38;5;241;43m.\u001b[39;49m\u001b[43mblock_until_ready\u001b[49m\u001b[43m(\u001b[49m\u001b[43m)\u001b[49m\n\u001b[1;32m    249\u001b[0m \u001b[38;5;28;01mexcept\u001b[39;00m JaxRuntimeError \u001b[38;5;28;01mas\u001b[39;00m e:\n\u001b[1;32m    250\u001b[0m     \u001b[38;5;66;03m# Catch Equinox's runtime errors, and re-raise them with actually useful\u001b[39;00m\n\u001b[1;32m    251\u001b[0m     \u001b[38;5;66;03m# information. (By default XlaRuntimeError produces a lot of terrifying\u001b[39;00m\n\u001b[1;32m    252\u001b[0m     \u001b[38;5;66;03m# but useless information.)\u001b[39;00m\n\u001b[1;32m    253\u001b[0m     \u001b[38;5;28;01mif\u001b[39;00m (\n\u001b[1;32m    254\u001b[0m         last_msg \u001b[38;5;129;01mis\u001b[39;00m \u001b[38;5;129;01mnot\u001b[39;00m \u001b[38;5;28;01mNone\u001b[39;00m\n\u001b[1;32m    255\u001b[0m         \u001b[38;5;129;01mand\u001b[39;00m last_stack \u001b[38;5;129;01mis\u001b[39;00m \u001b[38;5;129;01mnot\u001b[39;00m \u001b[38;5;28;01mNone\u001b[39;00m\n\u001b[0;32m   (...)\u001b[0m\n\u001b[1;32m    260\u001b[0m         \u001b[38;5;66;03m# callback necessarily executed in the same interpreter as we are in\u001b[39;00m\n\u001b[1;32m    261\u001b[0m         \u001b[38;5;66;03m# here?\u001b[39;00m\n",
      "\u001b[0;31mKeyboardInterrupt\u001b[0m: "
     ]
    }
   ],
   "source": [
    "from gGA.data import block_to_feature\n",
    "from ase.io import read\n",
    "from gGA.data import AtomicData\n",
    "from gGA.utils.make_kpoints import kmesh_sampling\n",
    "import torch\n",
    "from gGA.nn.ghostG import GhostGutzwiller\n",
    "from gGA.utils.tools import setup_seed\n",
    "\n",
    "setup_seed(1234)\n",
    "\n",
    "torch.set_default_dtype(torch.float64)\n",
    "U = 1.2\n",
    "J = 0. # 0.25 * U\n",
    "Up = U - 2*J\n",
    "Jp = J\n",
    "\n",
    "gga = GhostGutzwiller(\n",
    "    atomic_number=torch.tensor([6]),\n",
    "    nocc={\"C\":[2]},\n",
    "    basis={\"C\":[2]},\n",
    "    idx_intorb={\"C\":[0]},\n",
    "    naux=1,\n",
    "    intparams={\"C\":[{\"U\":U,\"Up\":Up,\"J\":J, \"Jp\":Jp}]},\n",
    "    nspin=1, \n",
    "    device=torch.device(\"cpu\"),\n",
    "    kBT=0.002,\n",
    "    solver=\"NQS\",\n",
    "    mixer_options={},\n",
    "    iscomplex=True,\n",
    "    solver_options={\"mfepmin\":500, \"channels\": 10},\n",
    ")\n",
    "\n",
    "block = {\n",
    "    \"0_0_0_0_0\": 0.2*torch.diag(torch.tensor([1.,-1.])),\n",
    "    \"0_0_0_0_1\": -torch.eye(2)*(1/6),\n",
    "    \"0_0_0_1_0\": -torch.eye(2)*(1/6),\n",
    "    \"0_0_1_0_0\": -torch.eye(2)*(1/6)\n",
    "}\n",
    "\n",
    "\n",
    "atomicdata = AtomicData.from_ase(\n",
    "    read(\"/nessa/users/zhanghao/dev/Hubbard/gGA/test/C_cube.vasp\"),\n",
    "    r_max=3.1\n",
    "    )\n",
    "\n",
    "atomicdata[\"kpoint\"] = torch.tensor(kmesh_sampling([10,10,10], True)).to(torch.get_default_dtype())\n",
    "block_to_feature(atomicdata, gga.kinetic.idp_phy, block)\n",
    "atomicdata = AtomicData.to_AtomicDataDict(atomicdata)\n",
    "\n",
    "import matplotlib.pyplot as plt\n",
    "\n",
    "errs = []\n",
    "for i in range(300):\n",
    "    # print(gga.gGAtomic.LAM_C[\"C\"][1].abs().max())\n",
    "    # err, RDM, RDM_fit, LAMS = gga.update(atomicdata)\n",
    "    err, RDM = gga.update(atomicdata)\n",
    "    print(\"\\t ## Err of current loop {:d}: {:.4f}, lam_emb: {:.4f}, N_emb: {:.2f}\".format(i+1, err, gga.gGAtomic.LAM_C[\"C\"][0].abs().max().item(), RDM[\"C\"][0].trace().real))# , RDM_fit[\"C\"][0].trace()))\n",
    "    # print(torch.linalg.eigvalsh(RDM[\"C\"][0]))\n",
    "    errs.append(err)\n",
    "\n",
    "    # print(gga.gGAtomic.LAM_C)\n",
    "    # print(RDM[\"C\"][0])\n",
    "    # print(err)\n",
    "    # print(torch.linalg.eigvalsh(RDM[\"C\"][0]), RDM[\"C\"][0].trace())\n",
    "\n",
    "plt.matshow(RDM[\"C\"][0].detach().real, cmap=\"bwr\", vmax=1.0, vmin=-1.0)\n",
    "plt.matshow(RDM[\"C\"][0].detach().imag, cmap=\"bwr\", vmax=1.0, vmin=-1.0)\n",
    "plt.show()\n",
    "# DM_kin:  tensor([0.1600, 0.1600, 0.8400, 0.8400])\n",
    "\n",
    "# 100: 2.9294, 20: 4.9967"
   ]
  },
  {
   "cell_type": "code",
   "execution_count": null,
   "metadata": {},
   "outputs": [
    {
     "data": {
      "text/plain": [
       "tensor([[ 1.1577e-04-7.5531e-05j,  0.0000e+00-0.0000e+00j,\n",
       "         -3.4048e-06+7.0920e-05j,  0.0000e+00-0.0000e+00j],\n",
       "        [ 0.0000e+00-0.0000e+00j,  1.1577e-04-7.5531e-05j,\n",
       "          0.0000e+00-0.0000e+00j, -3.4048e-06+7.0920e-05j],\n",
       "        [-4.9980e-05+3.9346e-05j,  0.0000e+00-0.0000e+00j,\n",
       "         -5.3170e-05+1.1385e-04j,  0.0000e+00-0.0000e+00j],\n",
       "        [ 0.0000e+00-0.0000e+00j, -4.9980e-05+3.9346e-05j,\n",
       "          0.0000e+00-0.0000e+00j, -5.3170e-05+1.1385e-04j]])"
      ]
     },
     "execution_count": 2,
     "metadata": {},
     "output_type": "execute_result"
    }
   ],
   "source": [
    "gga.gGAtomic.interact_ansatz[0].singleOrbs[0].D"
   ]
  },
  {
   "cell_type": "code",
   "execution_count": null,
   "metadata": {},
   "outputs": [
    {
     "name": "stdout",
     "output_type": "stream",
     "text": [
      "tensor([[ 1.7522e-01,  0.0000e+00, -6.2133e-17,  0.0000e+00],\n",
      "        [ 0.0000e+00,  1.7522e-01,  0.0000e+00, -8.3787e-16],\n",
      "        [-6.2133e-17,  0.0000e+00,  8.2196e-01,  0.0000e+00],\n",
      "        [ 0.0000e+00, -8.3787e-16,  0.0000e+00,  8.2196e-01]])\n"
     ]
    },
    {
     "data": {
      "image/png": "[encoded data removed]",
      "text/plain": [
       "<Figure size 480x480 with 1 Axes>"
      ]
     },
     "metadata": {},
     "output_type": "display_data"
    }
   ],
   "source": [
    "# gga.gGAtomic.E\n",
    "\n",
    "print(gga.gGAtomic.fRDM[\"C\"][0][:4,:4])\n",
    "plt.matshow(gga.gGAtomic.fRDM[\"C\"][0].detach(), cmap=\"bwr\", vmax=1.0, vmin=-1.0)\n",
    "plt.show()"
   ]
  },
  {
   "cell_type": "code",
   "execution_count": null,
   "metadata": {},
   "outputs": [
    {
     "data": {
      "text/plain": [
       "tensor([[[0.7071+0.0000j, 0.0000+0.0000j, 0.0000+0.0000j, 0.0000+0.0000j],\n",
       "         [0.0000+0.0000j, 0.7071+0.0000j, 0.0000+0.0000j, 0.0000+0.0000j],\n",
       "         [0.0000+0.0000j, 0.0000+0.0000j, 0.0000+0.0000j, 0.0000+0.0000j],\n",
       "         [0.0000+0.0000j, 0.0000+0.0000j, 0.0000+0.0000j, 0.0000+0.0000j]],\n",
       "\n",
       "        [[0.0000+0.0000j, 0.0000+0.0000j, 0.7071+0.0000j, 0.0000+0.0000j],\n",
       "         [0.0000+0.0000j, 0.0000+0.0000j, 0.0000+0.0000j, 0.7071+0.0000j],\n",
       "         [0.0000+0.0000j, 0.0000+0.0000j, 0.0000+0.0000j, 0.0000+0.0000j],\n",
       "         [0.0000+0.0000j, 0.0000+0.0000j, 0.0000+0.0000j, 0.0000+0.0000j]],\n",
       "\n",
       "        [[0.0000+0.0000j, 0.0000+0.0000j, 0.0000+0.0000j, 0.0000+0.0000j],\n",
       "         [0.0000+0.0000j, 0.0000+0.0000j, 0.0000+0.0000j, 0.0000+0.0000j],\n",
       "         [0.7071+0.0000j, 0.0000+0.0000j, 0.0000+0.0000j, 0.0000+0.0000j],\n",
       "         [0.0000+0.0000j, 0.7071+0.0000j, 0.0000+0.0000j, 0.0000+0.0000j]],\n",
       "\n",
       "        [[0.0000+0.0000j, 0.0000+0.0000j, 0.0000+0.0000j, 0.0000+0.0000j],\n",
       "         [0.0000+0.0000j, 0.0000+0.0000j, 0.0000+0.0000j, 0.0000+0.0000j],\n",
       "         [0.0000+0.0000j, 0.0000+0.0000j, 0.7071+0.0000j, 0.0000+0.0000j],\n",
       "         [0.0000+0.0000j, 0.0000+0.0000j, 0.0000+0.0000j, 0.7071+0.0000j]],\n",
       "\n",
       "        [[0.0000+0.7071j, 0.0000+0.0000j, 0.0000+0.0000j, 0.0000+0.0000j],\n",
       "         [0.0000+0.0000j, 0.0000+0.7071j, 0.0000+0.0000j, 0.0000+0.0000j],\n",
       "         [0.0000+0.0000j, 0.0000+0.0000j, 0.0000+0.0000j, 0.0000+0.0000j],\n",
       "         [0.0000+0.0000j, 0.0000+0.0000j, 0.0000+0.0000j, 0.0000+0.0000j]],\n",
       "\n",
       "        [[0.0000+0.0000j, 0.0000+0.0000j, 0.0000+0.7071j, 0.0000+0.0000j],\n",
       "         [0.0000+0.0000j, 0.0000+0.0000j, 0.0000+0.0000j, 0.0000+0.7071j],\n",
       "         [0.0000+0.0000j, 0.0000+0.0000j, 0.0000+0.0000j, 0.0000+0.0000j],\n",
       "         [0.0000+0.0000j, 0.0000+0.0000j, 0.0000+0.0000j, 0.0000+0.0000j]],\n",
       "\n",
       "        [[0.0000+0.0000j, 0.0000+0.0000j, 0.0000+0.0000j, 0.0000+0.0000j],\n",
       "         [0.0000+0.0000j, 0.0000+0.0000j, 0.0000+0.0000j, 0.0000+0.0000j],\n",
       "         [0.0000+0.7071j, 0.0000+0.0000j, 0.0000+0.0000j, 0.0000+0.0000j],\n",
       "         [0.0000+0.0000j, 0.0000+0.7071j, 0.0000+0.0000j, 0.0000+0.0000j]],\n",
       "\n",
       "        [[0.0000+0.0000j, 0.0000+0.0000j, 0.0000+0.0000j, 0.0000+0.0000j],\n",
       "         [0.0000+0.0000j, 0.0000+0.0000j, 0.0000+0.0000j, 0.0000+0.0000j],\n",
       "         [0.0000+0.0000j, 0.0000+0.0000j, 0.0000+0.7071j, 0.0000+0.0000j],\n",
       "         [0.0000+0.0000j, 0.0000+0.0000j, 0.0000+0.0000j, 0.0000+0.7071j]]])"
      ]
     },
     "execution_count": 14,
     "metadata": {},
     "output_type": "execute_result"
    }
   ],
   "source": [
    "from gGA.utils.tools import trans_basis_nspin\n",
    "\n",
    "trans_basis_nspin(4,4,1,True)"
   ]
  }
 ],
 "metadata": {
  "kernelspec": {
   "display_name": "hubbard",
   "language": "python",
   "name": "python3"
  },
  "language_info": {
   "codemirror_mode": {
    "name": "ipython",
    "version": 3
   },
   "file_extension": ".py",
   "mimetype": "text/x-python",
   "name": "python",
   "nbconvert_exporter": "python",
   "pygments_lexer": "ipython3",
   "version": "3.10.13"
  }
 },
 "nbformat": 4,
 "nbformat_minor": 2
}
