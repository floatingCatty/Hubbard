{
 "cells": [
  {
   "cell_type": "code",
   "execution_count": 10,
   "metadata": {},
   "outputs": [],
   "source": [
    "from ase.io import read\n",
    "from gGA.data import AtomicData\n",
    "from gGA.gutz import GhostGutzwiller\n",
    "from gGA.utils.tools import setup_seed\n",
    "from gGA.utils.make_kpoints import kmesh_sampling\n",
    "from gGA.data import block_to_feature\n",
    "import numpy as np\n",
    "from gGA.data import _keys\n",
    "\n",
    "setup_seed(124)\n",
    "U = 0.5\n",
    "J = 0.0 * U # 0.25 * U\n",
    "Up = U - 2*J\n",
    "Jp = J\n",
    "\n",
    "t = 0.5\n",
    "Delta = 0.25\n",
    "\n",
    "intparams = {\"C\":[{\"U\":U,\"Up\":Up,\"J\":J, \"Jp\":Jp}]}\n",
    "\n",
    "\n",
    "gga = GhostGutzwiller(\n",
    "    atomic_number=np.array([6]),\n",
    "    nocc=5,\n",
    "    basis={\"C\":[5]},\n",
    "    idx_intorb={\"C\":[0]},\n",
    "    naux=1,\n",
    "    intparams=intparams,\n",
    "    nspin=4,\n",
    "    kBT=0.0002,\n",
    "    mutol=1e-4,\n",
    "    natural_orbital=False,\n",
    "    solver=\"ED\",\n",
    "    mixer_options={\"method\": \"Linear\", \"a\": 0.3},\n",
    "    iscomplex=True,\n",
    "    solver_options={}#{\"mfepmin\":2000, \"channels\": 10, \"Ptol\": 1e-5},\n",
    ")\n",
    "\n",
    "onsite = np.zeros((5,5))\n",
    "onsite[:3,:3] = np.eye(3) * Delta\n",
    "\n",
    "block = {\n",
    "    \"0_0_0_0_0\": onsite,\n",
    "    \n",
    "    # 1nn for 0\n",
    "    \"0_0_0_0_1\": -t*np.eye(5),\n",
    "    \"0_0_0_1_0\": -t*np.eye(5),\n",
    "    \"0_0_1_0_0\": -t*np.eye(5),\n",
    "\n",
    "}\n",
    "\n",
    "for k in block:\n",
    "    block[k] = np.kron(block[k], np.eye(2))\n",
    "\n",
    "for k in block:\n",
    "    block[k] = np.kron(block[k], np.eye(2))\n",
    "\n",
    "atomicdata = AtomicData.from_ase(\n",
    "    read(\"/nessa/users/zhanghao/dev/Hubbard/gGA/test/C_cube.vasp\"),\n",
    "    r_max=3.1\n",
    "    )\n",
    "\n",
    "atoms = atomicdata.to_ase()\n",
    "\n",
    "atomicdata[\"kpoint\"] = kmesh_sampling([10,10,10], True)\n",
    "block_to_feature(atomicdata, gga.kinetic.idp_phy, block)\n",
    "atomicdata = AtomicData.to_AtomicDataDict(atomicdata)\n",
    "atomicdata = gga.kinetic.idp_phy(atomicdata)"
   ]
  },
  {
   "cell_type": "code",
   "execution_count": null,
   "metadata": {},
   "outputs": [
    {
     "name": "stdout",
     "output_type": "stream",
     "text": [
      "DM_kin:  [0.16305849 0.16305849 0.47846774 0.47846774 0.50006269 0.50006269\n",
      " 0.54300158 0.54300158 0.81540707 0.81540707]\n",
      " -- Current error: 0.43473\n",
      "DM_kin:  [0.33525461 0.33525461 0.4999223  0.4999223  0.50005435 0.50005435\n",
      " 0.52176301 0.52176301 0.64300574 0.64300574]\n",
      " -- Current error: 0.36924\n",
      "DM_kin:  [0.45219265 0.45219265 0.4999843  0.4999843  0.5        0.5\n",
      " 0.50010308 0.50010308 0.54771998 0.54771998]\n"
     ]
    }
   ],
   "source": [
    "gga.run(atomicdata, 10, 1e-5)"
   ]
  },
  {
   "cell_type": "code",
   "execution_count": null,
   "metadata": {},
   "outputs": [
    {
     "ename": "KeyError",
     "evalue": "'hamiltonians'",
     "output_type": "error",
     "traceback": [
      "\u001b[0;31m---------------------------------------------------------------------------\u001b[0m",
      "\u001b[0;31mKeyError\u001b[0m                                  Traceback (most recent call last)",
      "Cell \u001b[0;32mIn[8], line 1\u001b[0m\n\u001b[0;32m----> 1\u001b[0m \u001b[43matomicdata\u001b[49m\u001b[43m[\u001b[49m\u001b[38;5;124;43m\"\u001b[39;49m\u001b[38;5;124;43mhamiltonians\u001b[39;49m\u001b[38;5;124;43m\"\u001b[39;49m\u001b[43m]\u001b[49m\n",
      "\u001b[0;31mKeyError\u001b[0m: 'hamiltonians'"
     ]
    }
   ],
   "source": []
  }
 ],
 "metadata": {
  "kernelspec": {
   "display_name": "hubbard",
   "language": "python",
   "name": "python3"
  },
  "language_info": {
   "codemirror_mode": {
    "name": "ipython",
    "version": 3
   },
   "file_extension": ".py",
   "mimetype": "text/x-python",
   "name": "python",
   "nbconvert_exporter": "python",
   "pygments_lexer": "ipython3",
   "version": "3.10.13"
  }
 },
 "nbformat": 4,
 "nbformat_minor": 2
}
