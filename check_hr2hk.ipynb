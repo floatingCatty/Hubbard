{
 "cells": [
  {
   "cell_type": "code",
   "execution_count": 70,
   "metadata": {},
   "outputs": [],
   "source": [
    "from gGA.data import AtomicData, _keys\n",
    "from ase.io import read\n",
    "from gGA.data import OrbitalMapper\n",
    "from dptb.data import OrbitalMapper as OrbitalMapper_dptb\n",
    "import torch\n",
    "from gGA.data import block_to_feature\n",
    "from gGA.utils.make_kpoints import kmesh_sampling\n",
    "from gGA.nn.hr2hk import GGAHR2HK\n",
    "from dptb.nn import HR2HK\n",
    "\n",
    "data = AtomicData.from_ase(read(\"/root/Hubbard/gGA/test/C_cube.vasp\"), r_max=3.1)\n",
    "basis = {\"C\":[3]}\n",
    "idp_phy = OrbitalMapper(basis=basis, spin_deg=True)"
   ]
  },
  {
   "cell_type": "code",
   "execution_count": 71,
   "metadata": {},
   "outputs": [],
   "source": [
    "R = torch.tensor([[ 0.3185, -0.4645, -0.8821,  1.1261, -0.8537, -1.0408],\n",
    "        [ 0.1954,  0.2708,  1.3779, -0.3707, -0.9616, -0.3749],\n",
    "        [-0.6813, -1.0173,  1.5940, -0.6498, -0.3480,  1.9673],\n",
    "        [ 1.1107,  0.8750,  1.6304, -1.2158, -1.2708,  0.7721],\n",
    "        [ 1.3959,  0.9850, -2.1727, -1.1793,  0.6760, -0.9001],\n",
    "        [-0.0047, -0.2934, -1.0373,  0.4029,  1.1813,  0.5374]])\n",
    "\n",
    "block = {\n",
    "    \"0_0_0_0_0\": torch.zeros(3,3),\n",
    "    \"0_0_0_0_1\": -torch.eye(3)*(1/6),\n",
    "    \"0_0_0_1_0\": -torch.eye(3)*(1/6),\n",
    "    \"0_0_1_0_0\": -torch.eye(3)*(1/6)\n",
    "}\n",
    "\n",
    "block_to_feature(data, idp_phy, block)\n",
    "\n",
    "kpoints = torch.tensor(kmesh_sampling([5,5,5], False)).float()\n",
    "data[_keys.KPOINT_KEY] = kpoints\n",
    "data[_keys.R_MATRIX_KEY] = R.unsqueeze(0)\n",
    "data = idp_phy(data)\n",
    "data = AtomicData.to_AtomicDataDict(data)"
   ]
  },
  {
   "cell_type": "code",
   "execution_count": 72,
   "metadata": {},
   "outputs": [],
   "source": [
    "hr2k = HR2HK(\n",
    "    idp=OrbitalMapper_dptb(basis=idp_phy.basis),\n",
    ")\n",
    "ghr2k = GGAHR2HK(\n",
    "        idp_phy=idp_phy,\n",
    "        idp_aux=OrbitalMapper(basis=basis, spin_deg=False),\n",
    "        naux=1\n",
    "    )"
   ]
  },
  {
   "cell_type": "code",
   "execution_count": 73,
   "metadata": {},
   "outputs": [],
   "source": [
    "data_org = hr2k(data.copy())\n",
    "data_gga = ghr2k(data.copy())"
   ]
  },
  {
   "cell_type": "code",
   "execution_count": null,
   "metadata": {},
   "outputs": [],
   "source": []
  },
  {
   "cell_type": "code",
   "execution_count": 83,
   "metadata": {},
   "outputs": [
    {
     "data": {
      "text/plain": [
       "(tensor([[0.8090+0.j, 0.0000+0.j, 0.0000+0.j],\n",
       "         [0.0000+0.j, 0.8090+0.j, 0.0000+0.j],\n",
       "         [0.0000+0.j, 0.0000+0.j, 0.8090+0.j]]),\n",
       " tensor([[ 3.3780+0.0000e+00j, -0.3926-3.7253e-09j, -2.9390+0.0000e+00j,\n",
       "          -2.0862+0.0000e+00j,  0.7567-1.4901e-08j, -0.0520+0.0000e+00j],\n",
       "         [-0.3926+3.7253e-09j,  2.5992+0.0000e+00j,  1.3153-2.9802e-08j,\n",
       "           3.3038+5.9605e-08j, -1.8848+0.0000e+00j, -2.4242-2.9802e-08j],\n",
       "         [-2.9390+0.0000e+00j,  1.3153+2.9802e-08j,  6.8390+0.0000e+00j,\n",
       "           2.9960+0.0000e+00j, -5.3849+0.0000e+00j, -0.7827+1.4901e-08j],\n",
       "         [-2.0862+0.0000e+00j,  3.3038-5.9605e-08j,  2.9960+0.0000e+00j,\n",
       "           6.7526+0.0000e+00j, -1.0115+1.4901e-08j, -2.8552+0.0000e+00j],\n",
       "         [ 0.7567+1.4901e-08j, -1.8848+0.0000e+00j, -5.3849+0.0000e+00j,\n",
       "          -1.0115-1.4901e-08j,  8.3307+0.0000e+00j,  1.4545-1.4901e-08j],\n",
       "         [-0.0520+0.0000e+00j, -2.4242+2.9802e-08j, -0.7827-1.4901e-08j,\n",
       "          -2.8552+0.0000e+00j,  1.4545+1.4901e-08j,  2.4341+0.0000e+00j]]))"
      ]
     },
     "execution_count": 83,
     "metadata": {},
     "output_type": "execute_result"
    }
   ],
   "source": [
    "(data_org[\"hamiltonian\"][0], data_gga[\"hamiltonian\"][0])"
   ]
  },
  {
   "cell_type": "code",
   "execution_count": 82,
   "metadata": {},
   "outputs": [
    {
     "data": {
      "text/plain": [
       "tensor([[ 3.3780, -0.3926, -2.9389, -2.0862,  0.7567, -0.0520],\n",
       "        [-0.3926,  2.5991,  1.3152,  3.3038, -1.8847, -2.4241],\n",
       "        [-2.9389,  1.3152,  6.8389,  2.9959, -5.3847, -0.7827],\n",
       "        [-2.0862,  3.3038,  2.9959,  6.7525, -1.0115, -2.8552],\n",
       "        [ 0.7567, -1.8847, -5.3847, -1.0115,  8.3305,  1.4545],\n",
       "        [-0.0520, -2.4241, -0.7827, -2.8552,  1.4545,  2.4340]])"
      ]
     },
     "execution_count": 82,
     "metadata": {},
     "output_type": "execute_result"
    }
   ],
   "source": [
    "R @ (torch.eye(6) * 0.8090) @ R.T"
   ]
  },
  {
   "cell_type": "code",
   "execution_count": 61,
   "metadata": {},
   "outputs": [
    {
     "data": {
      "text/plain": [
       "(tensor([[0.4363+0.j, 0.0000+0.j, 0.0000+0.j],\n",
       "         [0.0000+0.j, 0.4363+0.j, 0.0000+0.j],\n",
       "         [0.0000+0.j, 0.0000+0.j, 0.4363+0.j]]),\n",
       " tensor(0.4363))"
      ]
     },
     "execution_count": 61,
     "metadata": {},
     "output_type": "execute_result"
    }
   ],
   "source": [
    "N = 5\n",
    "data_org[\"hamiltonian\"][N], -(data[\"kpoint\"][N] * torch.pi*2).cos().sum() / 3"
   ]
  },
  {
   "cell_type": "code",
   "execution_count": null,
   "metadata": {},
   "outputs": [],
   "source": []
  }
 ],
 "metadata": {
  "kernelspec": {
   "display_name": "deeptb",
   "language": "python",
   "name": "python3"
  },
  "language_info": {
   "codemirror_mode": {
    "name": "ipython",
    "version": 3
   },
   "file_extension": ".py",
   "mimetype": "text/x-python",
   "name": "python",
   "nbconvert_exporter": "python",
   "pygments_lexer": "ipython3",
   "version": "3.8.13"
  }
 },
 "nbformat": 4,
 "nbformat_minor": 2
}
