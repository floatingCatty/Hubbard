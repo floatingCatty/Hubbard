{
 "cells": [
  {
   "cell_type": "code",
   "execution_count": 1,
   "metadata": {},
   "outputs": [
    {
     "name": "stdout",
     "output_type": "stream",
     "text": [
      "driver threads:   OpenMP = 1 TBB = 0 BLIS = 0 MKL = NONE  SeqType = Tasked MKLIntLen = 4\n",
      " THREADING = 2 layers : Global | Operator BatchedGEMM \n",
      " NUMBER : Global = 1 Operator = 1 Quanta = 0 MKL = 1\n",
      " COMPLEX = 1 SINGLE-PREC = 0 KSYMM = 0\n"
     ]
    }
   ],
   "source": [
    "from hubbard.solver import DMRG_solver\n",
    "import numpy as np\n",
    "\n",
    "solver = DMRG_solver(\n",
    "    n_int=2, # interacting sites\n",
    "    n_noint=0, # no-interacting sites (bath), 0 if not impurity system\n",
    "    n_elec=2, # number of electrons\n",
    "    nspin=1, # 1: spin-degenerate, 2: spin collinear, 4: spin noncollinear\n",
    "\n",
    "    # optional\n",
    "    bond_dim=100,\n",
    ")"
   ]
  },
  {
   "cell_type": "code",
   "execution_count": 2,
   "metadata": {},
   "outputs": [
    {
     "data": {
      "text/plain": [
       "True"
      ]
     },
     "execution_count": 2,
     "metadata": {},
     "output_type": "execute_result"
    }
   ],
   "source": [
    "solver.solve(\n",
    "    T=np.kron(np.array([ # single particle part\n",
    "        [-1,0.5],\n",
    "        [0.5,-1]\n",
    "    ]), np.eye(2)),\n",
    "    intparam={\"U\":3.0,\"Up\":3.0,\"J\":0.0, \"Jp\":0.0} # interacting part\n",
    ")"
   ]
  },
  {
   "cell_type": "code",
   "execution_count": 3,
   "metadata": {},
   "outputs": [
    {
     "data": {
      "text/plain": [
       "array([[ 0.5,  0. , -0.5, -0. ],\n",
       "       [ 0. ,  0.5, -0. , -0.5],\n",
       "       [-0.5, -0. ,  0.5,  0. ],\n",
       "       [-0. , -0.5,  0. ,  0.5]])"
      ]
     },
     "execution_count": 3,
     "metadata": {},
     "output_type": "execute_result"
    }
   ],
   "source": [
    "solver.RDM()"
   ]
  }
 ],
 "metadata": {
  "kernelspec": {
   "display_name": "hubbard",
   "language": "python",
   "name": "python3"
  },
  "language_info": {
   "codemirror_mode": {
    "name": "ipython",
    "version": 3
   },
   "file_extension": ".py",
   "mimetype": "text/x-python",
   "name": "python",
   "nbconvert_exporter": "python",
   "pygments_lexer": "ipython3",
   "version": "3.10.13"
  }
 },
 "nbformat": 4,
 "nbformat_minor": 2
}
