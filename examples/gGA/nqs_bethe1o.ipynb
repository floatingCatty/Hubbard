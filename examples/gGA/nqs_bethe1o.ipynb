{
 "cells": [
  {
   "cell_type": "code",
   "execution_count": 2,
   "metadata": {},
   "outputs": [
    {
     "name": "stderr",
     "output_type": "stream",
     "text": [
      "/nessa/users/zhanghao/softwares/miniconda3/envs/hubbard/lib/python3.10/site-packages/quantax/sites/sites.py:37: UserWarning: A second 'sites' is defined.\n",
      "  warn(\"A second 'sites' is defined.\")\n",
      "/nessa/users/zhanghao/softwares/miniconda3/envs/hubbard/lib/python3.10/site-packages/hubbard/solver/graph_net.py:191: UserWarning: A JAX array is being set as static! This can result in unexpected behavior and is usually a mistake to do.\n",
      "  layers = [ReshapeSite(dtype), EmbedLayer(d_emb, dtype), *blocks, eqx.nn.Lambda(lambda x: jnp.swapaxes(x, -1, -2)), scale]\n"
     ]
    },
    {
     "name": "stdout",
     "output_type": "stream",
     "text": [
      "DM_kin:  [0.00992037 0.00992037 0.50047442 0.50047442 0.98965505 0.98965505\n",
      " 0.99994985 0.99994985]\n",
      "--- Einf: -0.5187, Ehf: -3.0811\n"
     ]
    },
    {
     "name": "stderr",
     "output_type": "stream",
     "text": [
      "Meanfield Pfaffian training: 100%|██████████| 5/5 [00:03<00:00,  1.56it/s]\n",
      "Neural Pfaffian training:   0%|          | 0/5 [00:11<?, ?it/s]\n"
     ]
    },
    {
     "ename": "RuntimeError",
     "evalue": "Require a `Lattice`, but got a general `Sites`",
     "output_type": "error",
     "traceback": [
      "\u001b[0;31m---------------------------------------------------------------------------\u001b[0m",
      "\u001b[0;31mRuntimeError\u001b[0m                              Traceback (most recent call last)",
      "Cell \u001b[0;32mIn[2], line 73\u001b[0m\n\u001b[1;32m     70\u001b[0m atomicdata[_keys\u001b[38;5;241m.\u001b[39mPHY_ONSITE_KEY] \u001b[38;5;241m=\u001b[39m phy_onsite\n\u001b[1;32m     72\u001b[0m \u001b[38;5;66;03m# gga.load(\"./gGA/test/nqs/bethe1o/stateU5P-1P1e-4E1e-3.npz\")\u001b[39;00m\n\u001b[0;32m---> 73\u001b[0m \u001b[43mgga\u001b[49m\u001b[38;5;241;43m.\u001b[39;49m\u001b[43mrun\u001b[49m\u001b[43m(\u001b[49m\u001b[43matomicdata\u001b[49m\u001b[43m,\u001b[49m\u001b[43m \u001b[49m\u001b[38;5;241;43m500\u001b[39;49m\u001b[43m,\u001b[49m\u001b[43m \u001b[49m\u001b[38;5;241;43m1e-3\u001b[39;49m\u001b[43m)\u001b[49m\n",
      "File \u001b[0;32m~/softwares/miniconda3/envs/hubbard/lib/python3.10/site-packages/hubbard/gutz/ghostG.py:217\u001b[0m, in \u001b[0;36mGhostGutzwiller.run\u001b[0;34m(self, data, maxiter, tol, ckptpath, ckptprefix)\u001b[0m\n\u001b[1;32m    215\u001b[0m \u001b[38;5;28;01mdef\u001b[39;00m \u001b[38;5;21mrun\u001b[39m(\u001b[38;5;28mself\u001b[39m, data, maxiter, tol, ckptpath\u001b[38;5;241m=\u001b[39m\u001b[38;5;124m\"\u001b[39m\u001b[38;5;124m./\u001b[39m\u001b[38;5;124m\"\u001b[39m, ckptprefix\u001b[38;5;241m=\u001b[39m\u001b[38;5;28;01mNone\u001b[39;00m):\n\u001b[1;32m    216\u001b[0m     \u001b[38;5;28;01mfor\u001b[39;00m i \u001b[38;5;129;01min\u001b[39;00m \u001b[38;5;28mrange\u001b[39m(maxiter):\n\u001b[0;32m--> 217\u001b[0m         err, RDM \u001b[38;5;241m=\u001b[39m \u001b[38;5;28;43mself\u001b[39;49m\u001b[38;5;241;43m.\u001b[39;49m\u001b[43mupdate\u001b[49m\u001b[43m(\u001b[49m\u001b[43mdata\u001b[49m\u001b[43m)\u001b[49m\n\u001b[1;32m    219\u001b[0m         \u001b[38;5;28;01mif\u001b[39;00m err \u001b[38;5;241m<\u001b[39m tol:\n\u001b[1;32m    220\u001b[0m             \u001b[38;5;28mprint\u001b[39m(\u001b[38;5;124m\"\u001b[39m\u001b[38;5;124mConvergence achieved!\u001b[39m\u001b[38;5;130;01m\\n\u001b[39;00m\u001b[38;5;124m\"\u001b[39m)\n",
      "File \u001b[0;32m~/softwares/miniconda3/envs/hubbard/lib/python3.10/site-packages/hubbard/gutz/ghostG.py:200\u001b[0m, in \u001b[0;36mGhostGutzwiller.update\u001b[0;34m(self, data)\u001b[0m\n\u001b[1;32m    196\u001b[0m \u001b[38;5;28mself\u001b[39m\u001b[38;5;241m.\u001b[39mgGAtomic\u001b[38;5;241m.\u001b[39mupdate_RDM(\u001b[38;5;28mself\u001b[39m\u001b[38;5;241m.\u001b[39mRDM_kin)\n\u001b[1;32m    197\u001b[0m \u001b[38;5;66;03m# self.gGAtomic.update_LAM(LAM)\u001b[39;00m\n\u001b[1;32m    198\u001b[0m \n\u001b[1;32m    199\u001b[0m \u001b[38;5;66;03m# update gGA part, for LAM_C, RDM, R\u001b[39;00m\n\u001b[0;32m--> 200\u001b[0m \u001b[38;5;28;43mself\u001b[39;49m\u001b[38;5;241;43m.\u001b[39;49m\u001b[43mgGAtomic\u001b[49m\u001b[38;5;241;43m.\u001b[39;49m\u001b[43mupdate\u001b[49m\u001b[43m(\u001b[49m\u001b[43mphy_onsite\u001b[49m\u001b[43m,\u001b[49m\u001b[43m \u001b[49m\u001b[38;5;28;43mself\u001b[39;49m\u001b[38;5;241;43m.\u001b[39;49m\u001b[43mintparams\u001b[49m\u001b[43m,\u001b[49m\u001b[43m \u001b[49m\u001b[43mE_fermi\u001b[49m\u001b[38;5;241;43m=\u001b[39;49m\u001b[38;5;241;43m0.\u001b[39;49m\u001b[43m)\u001b[49m\n\u001b[1;32m    202\u001b[0m RDM_emb \u001b[38;5;241m=\u001b[39m \u001b[38;5;28mself\u001b[39m\u001b[38;5;241m.\u001b[39mgGAtomic\u001b[38;5;241m.\u001b[39mRDM\n\u001b[1;32m    204\u001b[0m \u001b[38;5;66;03m# compute error\u001b[39;00m\n",
      "File \u001b[0;32m~/softwares/miniconda3/envs/hubbard/lib/python3.10/site-packages/hubbard/gutz/ansatz.py:617\u001b[0m, in \u001b[0;36mgGAtomic.update\u001b[0;34m(self, t, intparams, E_fermi)\u001b[0m\n\u001b[1;32m    615\u001b[0m     \u001b[38;5;28;01massert\u001b[39;00m t_a\u001b[38;5;241m.\u001b[39mshape[\u001b[38;5;241m1\u001b[39m] \u001b[38;5;241m==\u001b[39m \u001b[38;5;28msum\u001b[39m(\u001b[38;5;28mself\u001b[39m\u001b[38;5;241m.\u001b[39midp_phy\u001b[38;5;241m.\u001b[39mlistnorbs[sym])\u001b[38;5;241m*\u001b[39m\u001b[38;5;241m2\u001b[39m, \u001b[38;5;124m\"\u001b[39m\u001b[38;5;124mShape of t is not correct!\u001b[39m\u001b[38;5;124m\"\u001b[39m\n\u001b[1;32m    616\u001b[0m     t_a \u001b[38;5;241m=\u001b[39m [t_a[s\u001b[38;5;241m*\u001b[39m\u001b[38;5;241m2\u001b[39m:s\u001b[38;5;241m*\u001b[39m\u001b[38;5;241m2\u001b[39m\u001b[38;5;241m+\u001b[39m\u001b[38;5;28mself\u001b[39m\u001b[38;5;241m.\u001b[39midp_phy\u001b[38;5;241m.\u001b[39mlistnorbs[sym][\u001b[38;5;28mself\u001b[39m\u001b[38;5;241m.\u001b[39midx_intorb[sym][i]]\u001b[38;5;241m*\u001b[39m\u001b[38;5;241m2\u001b[39m,s\u001b[38;5;241m*\u001b[39m\u001b[38;5;241m2\u001b[39m:s\u001b[38;5;241m*\u001b[39m\u001b[38;5;241m2\u001b[39m\u001b[38;5;241m+\u001b[39m\u001b[38;5;28mself\u001b[39m\u001b[38;5;241m.\u001b[39midp_phy\u001b[38;5;241m.\u001b[39mlistnorbs[sym][\u001b[38;5;28mself\u001b[39m\u001b[38;5;241m.\u001b[39midx_intorb[sym][i]]\u001b[38;5;241m*\u001b[39m\u001b[38;5;241m2\u001b[39m] \u001b[38;5;28;01mfor\u001b[39;00m i, s \u001b[38;5;129;01min\u001b[39;00m \u001b[38;5;28menumerate\u001b[39m(\u001b[38;5;28mself\u001b[39m\u001b[38;5;241m.\u001b[39mstart_phy_orbs[sym])]\n\u001b[0;32m--> 617\u001b[0m     \u001b[38;5;28;43mself\u001b[39;49m\u001b[38;5;241;43m.\u001b[39;49m\u001b[43minteract_ansatz\u001b[49m\u001b[43m[\u001b[49m\u001b[43midx\u001b[49m\u001b[43m]\u001b[49m\u001b[38;5;241;43m.\u001b[39;49m\u001b[43mupdate\u001b[49m\u001b[43m(\u001b[49m\u001b[43mt_a\u001b[49m\u001b[43m,\u001b[49m\u001b[43m \u001b[49m\u001b[43mintparams\u001b[49m\u001b[43m[\u001b[49m\u001b[43msym\u001b[49m\u001b[43m]\u001b[49m\u001b[43m,\u001b[49m\u001b[43m \u001b[49m\u001b[43mE_fermi\u001b[49m\u001b[43m)\u001b[49m\n\u001b[1;32m    618\u001b[0m         \u001b[38;5;66;03m# update the R, RDM for each atomic system\u001b[39;00m\n\u001b[1;32m    620\u001b[0m \u001b[38;5;28;01mreturn\u001b[39;00m \u001b[38;5;28;01mTrue\u001b[39;00m\n",
      "File \u001b[0;32m~/softwares/miniconda3/envs/hubbard/lib/python3.10/site-packages/hubbard/gutz/ansatz.py:428\u001b[0m, in \u001b[0;36mgGAMultiOrb.update\u001b[0;34m(self, t, intparams, E_fermi)\u001b[0m\n\u001b[1;32m    426\u001b[0m \u001b[38;5;28;01mfor\u001b[39;00m iso, singleOrb \u001b[38;5;129;01min\u001b[39;00m \u001b[38;5;28menumerate\u001b[39m(\u001b[38;5;28mself\u001b[39m\u001b[38;5;241m.\u001b[39msingleOrbs):\n\u001b[1;32m    427\u001b[0m     t_so \u001b[38;5;241m=\u001b[39m t[iso] \u001b[38;5;66;03m# [aux_spinorb, aux_spinorb]\u001b[39;00m\n\u001b[0;32m--> 428\u001b[0m     \u001b[43msingleOrb\u001b[49m\u001b[38;5;241;43m.\u001b[39;49m\u001b[43mupdate\u001b[49m\u001b[43m(\u001b[49m\u001b[43mt_so\u001b[49m\u001b[43m,\u001b[49m\u001b[43m \u001b[49m\u001b[43mintparams\u001b[49m\u001b[43m[\u001b[49m\u001b[43miso\u001b[49m\u001b[43m]\u001b[49m\u001b[43m,\u001b[49m\u001b[43m \u001b[49m\u001b[43mE_fermi\u001b[49m\u001b[43m)\u001b[49m\n\u001b[1;32m    430\u001b[0m \u001b[38;5;28;01mreturn\u001b[39;00m \u001b[38;5;28;01mTrue\u001b[39;00m\n",
      "File \u001b[0;32m~/softwares/miniconda3/envs/hubbard/lib/python3.10/site-packages/hubbard/gutz/ansatz.py:182\u001b[0m, in \u001b[0;36mgGASingleOrb.update\u001b[0;34m(self, t, intparam, E_fermi)\u001b[0m\n\u001b[1;32m    180\u001b[0m \u001b[38;5;66;03m# update R, RDM\u001b[39;00m\n\u001b[1;32m    181\u001b[0m _t, _intparam \u001b[38;5;241m=\u001b[39m \u001b[38;5;28mself\u001b[39m\u001b[38;5;241m.\u001b[39mget_Hemb_param(t, intparam, E_fermi)\n\u001b[0;32m--> 182\u001b[0m \u001b[38;5;28;43mself\u001b[39;49m\u001b[38;5;241;43m.\u001b[39;49m\u001b[43msolver\u001b[49m\u001b[38;5;241;43m.\u001b[39;49m\u001b[43msolve\u001b[49m\u001b[43m(\u001b[49m\u001b[43m_t\u001b[49m\u001b[43m,\u001b[49m\u001b[43m \u001b[49m\u001b[43m_intparam\u001b[49m\u001b[43m)\u001b[49m\n\u001b[1;32m    183\u001b[0m RDM \u001b[38;5;241m=\u001b[39m \u001b[38;5;28mself\u001b[39m\u001b[38;5;241m.\u001b[39msolver\u001b[38;5;241m.\u001b[39mRDM()\n\u001b[1;32m    185\u001b[0m \u001b[38;5;66;03m# compute R and RDM_bath\u001b[39;00m\n",
      "File \u001b[0;32m~/softwares/miniconda3/envs/hubbard/lib/python3.10/site-packages/hubbard/solver/nqs_solver.py:224\u001b[0m, in \u001b[0;36mNQS_solver.solve\u001b[0;34m(self, T, intparam)\u001b[0m\n\u001b[1;32m    221\u001b[0m \u001b[38;5;66;03m# end = time() - start\u001b[39;00m\n\u001b[1;32m    222\u001b[0m \u001b[38;5;66;03m# print(\"Time for sampling: \", end- start)\u001b[39;00m\n\u001b[1;32m    223\u001b[0m step \u001b[38;5;241m=\u001b[39m tdvp\u001b[38;5;241m.\u001b[39mget_step(samples)\n\u001b[0;32m--> 224\u001b[0m \u001b[38;5;28;43mself\u001b[39;49m\u001b[38;5;241;43m.\u001b[39;49m\u001b[43mnn_state\u001b[49m\u001b[38;5;241;43m.\u001b[39;49m\u001b[43mupdate\u001b[49m\u001b[43m(\u001b[49m\u001b[43mstep\u001b[49m\u001b[38;5;241;43m*\u001b[39;49m\u001b[38;5;241;43m0.01\u001b[39;49m\u001b[43m)\u001b[49m\n\u001b[1;32m    225\u001b[0m \u001b[38;5;66;03m# print(\"Time for update: \", time() - end)\u001b[39;00m\n\u001b[1;32m    227\u001b[0m VarE \u001b[38;5;241m=\u001b[39m tdvp\u001b[38;5;241m.\u001b[39mVarE\n",
      "File \u001b[0;32m~/softwares/miniconda3/envs/hubbard/lib/python3.10/site-packages/quantax/state/variational.py:520\u001b[0m, in \u001b[0;36mVariational.update\u001b[0;34m(self, step, rescale)\u001b[0m\n\u001b[1;32m    517\u001b[0m     \u001b[38;5;28mself\u001b[39m\u001b[38;5;241m.\u001b[39m_model \u001b[38;5;241m=\u001b[39m \u001b[38;5;28mself\u001b[39m\u001b[38;5;241m.\u001b[39mcombine(new_params, others)\n\u001b[1;32m    519\u001b[0m \u001b[38;5;28;01mif\u001b[39;00m rescale:\n\u001b[0;32m--> 520\u001b[0m     \u001b[38;5;28;43mself\u001b[39;49m\u001b[38;5;241;43m.\u001b[39;49m\u001b[43mrescale\u001b[49m\u001b[43m(\u001b[49m\u001b[43m)\u001b[49m\n",
      "File \u001b[0;32m~/softwares/miniconda3/envs/hubbard/lib/python3.10/site-packages/quantax/state/variational.py:484\u001b[0m, in \u001b[0;36mVariational.rescale\u001b[0;34m(self)\u001b[0m\n\u001b[1;32m    482\u001b[0m \u001b[38;5;28;01mif\u001b[39;00m jnp\u001b[38;5;241m.\u001b[39misfinite(\u001b[38;5;28mself\u001b[39m\u001b[38;5;241m.\u001b[39m_maximum) \u001b[38;5;241m&\u001b[39m \u001b[38;5;241m~\u001b[39mjnp\u001b[38;5;241m.\u001b[39misclose(\u001b[38;5;28mself\u001b[39m\u001b[38;5;241m.\u001b[39m_maximum, \u001b[38;5;241m0.0\u001b[39m):\n\u001b[1;32m    483\u001b[0m     \u001b[38;5;28;01mif\u001b[39;00m \u001b[38;5;28mhasattr\u001b[39m(\u001b[38;5;28mself\u001b[39m\u001b[38;5;241m.\u001b[39mmodel, \u001b[38;5;124m\"\u001b[39m\u001b[38;5;124mrescale\u001b[39m\u001b[38;5;124m\"\u001b[39m):\n\u001b[0;32m--> 484\u001b[0m         \u001b[38;5;28mself\u001b[39m\u001b[38;5;241m.\u001b[39m_model \u001b[38;5;241m=\u001b[39m \u001b[38;5;28;43mself\u001b[39;49m\u001b[38;5;241;43m.\u001b[39;49m\u001b[43m_model\u001b[49m\u001b[38;5;241;43m.\u001b[39;49m\u001b[43mrescale\u001b[49m\u001b[43m(\u001b[49m\u001b[38;5;28;43mself\u001b[39;49m\u001b[38;5;241;43m.\u001b[39;49m\u001b[43m_maximum\u001b[49m\u001b[43m)\u001b[49m\n\u001b[1;32m    485\u001b[0m         \u001b[38;5;28mself\u001b[39m\u001b[38;5;241m.\u001b[39m_maximum \u001b[38;5;241m=\u001b[39m jnp\u001b[38;5;241m.\u001b[39mzeros_like(\u001b[38;5;28mself\u001b[39m\u001b[38;5;241m.\u001b[39m_maximum)\n",
      "    \u001b[0;31m[... skipping hidden 1 frame]\u001b[0m\n",
      "File \u001b[0;32m~/softwares/miniconda3/envs/hubbard/lib/python3.10/site-packages/quantax/model/neural_fermion.py:401\u001b[0m, in \u001b[0;36mHiddenPfaffian.rescale\u001b[0;34m(self, maximum)\u001b[0m\n\u001b[1;32m    399\u001b[0m \u001b[38;5;28;01mdef\u001b[39;00m \u001b[38;5;21mrescale\u001b[39m(\u001b[38;5;28mself\u001b[39m, maximum: jax\u001b[38;5;241m.\u001b[39mArray) \u001b[38;5;241m-\u001b[39m\u001b[38;5;241m>\u001b[39m HiddenPfaffian:\n\u001b[1;32m    400\u001b[0m     scale \u001b[38;5;241m=\u001b[39m \u001b[38;5;28mself\u001b[39m\u001b[38;5;241m.\u001b[39mfull_orbs_layer\u001b[38;5;241m.\u001b[39mscale_layer\u001b[38;5;241m.\u001b[39mscale\n\u001b[0;32m--> 401\u001b[0m     Ntotal \u001b[38;5;241m=\u001b[39m \u001b[43mget_lattice\u001b[49m\u001b[43m(\u001b[49m\u001b[43m)\u001b[49m\u001b[38;5;241m.\u001b[39mNtotal \u001b[38;5;241m+\u001b[39m \u001b[38;5;28mself\u001b[39m\u001b[38;5;241m.\u001b[39mNhidden\n\u001b[1;32m    402\u001b[0m     scale \u001b[38;5;241m/\u001b[39m\u001b[38;5;241m=\u001b[39m maximum\u001b[38;5;241m.\u001b[39mastype(scale\u001b[38;5;241m.\u001b[39mdtype) \u001b[38;5;241m*\u001b[39m\u001b[38;5;241m*\u001b[39m (\u001b[38;5;241m2\u001b[39m \u001b[38;5;241m/\u001b[39m Ntotal)\n\u001b[1;32m    403\u001b[0m     where \u001b[38;5;241m=\u001b[39m \u001b[38;5;28;01mlambda\u001b[39;00m tree: tree\u001b[38;5;241m.\u001b[39mfull_orbs_layer\u001b[38;5;241m.\u001b[39mscale_layer\u001b[38;5;241m.\u001b[39mscale\n",
      "File \u001b[0;32m~/softwares/miniconda3/envs/hubbard/lib/python3.10/site-packages/quantax/global_defs.py:107\u001b[0m, in \u001b[0;36mget_lattice\u001b[0;34m()\u001b[0m\n\u001b[1;32m    105\u001b[0m sites \u001b[38;5;241m=\u001b[39m get_sites()\n\u001b[1;32m    106\u001b[0m \u001b[38;5;28;01mif\u001b[39;00m \u001b[38;5;129;01mnot\u001b[39;00m \u001b[38;5;28misinstance\u001b[39m(sites, Lattice):\n\u001b[0;32m--> 107\u001b[0m     \u001b[38;5;28;01mraise\u001b[39;00m \u001b[38;5;167;01mRuntimeError\u001b[39;00m(\u001b[38;5;124m\"\u001b[39m\u001b[38;5;124mRequire a `Lattice`, but got a general `Sites`\u001b[39m\u001b[38;5;124m\"\u001b[39m)\n\u001b[1;32m    108\u001b[0m \u001b[38;5;28;01mreturn\u001b[39;00m sites\n",
      "\u001b[0;31mRuntimeError\u001b[0m: Require a `Lattice`, but got a general `Sites`"
     ]
    }
   ],
   "source": [
    "from ase.io import read\n",
    "from hubbard.data import AtomicData\n",
    "from hubbard.gutz import GhostGutzwiller\n",
    "from hubbard.utils.tools import setup_seed\n",
    "from hubbard.utils.tools import get_semicircle_e_list\n",
    "import numpy as np\n",
    "from hubbard.data import _keys\n",
    "\n",
    "setup_seed(123)\n",
    "U = 0.5\n",
    "J = 0.0 * U # 0.25 * U\n",
    "Up = U - 2*J\n",
    "Jp = J\n",
    "\n",
    "alpha = 1.\n",
    "V = 1.0\n",
    "ep = -1.0\n",
    "e_list = get_semicircle_e_list(nmesh=1000)\n",
    "\n",
    "eks = np.zeros((len(e_list), 2, 2))+0j\n",
    "eks += np.array([[[0.,  V],\n",
    "                 [V,   ep]]],dtype=np.complex128)\n",
    "eks[:,1,1] += alpha * e_list\n",
    "\n",
    "phy_onsite = {\n",
    "    \"C\": np.array([\n",
    "        [[-U/2, 0.],\n",
    "        [0., 0.]]\n",
    "    ]),\n",
    "}\n",
    "\n",
    "intparams = {\"C\":[{\"U\":U,\"Up\":Up,\"J\":J, \"Jp\":Jp}]}\n",
    "\n",
    "gga = GhostGutzwiller(\n",
    "    atomic_number=np.array([6]),\n",
    "    nocc=3,\n",
    "    basis={\"C\":[1,1]},\n",
    "    idx_intorb={\"C\":[0]},\n",
    "    naux=3,\n",
    "    intparams=intparams,\n",
    "    nspin=2,\n",
    "    kBT=0.0002,\n",
    "    mutol=1e-6,\n",
    "    solver=\"NQS\",\n",
    "    mixer_options={\"method\": \"Linear\", \"a\": 0.3},\n",
    "    iscomplex=False,\n",
    "    solver_options={\n",
    "        \"mfepmax\":5,\n",
    "        \"nnepmax\":5,\n",
    "        \"d_emb\": 4,\n",
    "        \"nblocks\":3,\n",
    "        \"hidden_channels\":8,\n",
    "        \"out_channels\":8,\n",
    "        \"ffn_hidden\":[8],\n",
    "        \"heads\":4,\n",
    "        \"Ptol\": 1e-4, # this value should be smaller than at least 2e-4 if expecting 1e-3 convergence\n",
    "        \"Etol\": 6e-4\n",
    "        },\n",
    ")\n",
    "\n",
    "atomicdata = AtomicData.from_ase(\n",
    "    read(\"../../hubbard/test/C_cube.vasp\"),\n",
    "    r_max=3.1\n",
    "    )\n",
    "\n",
    "# atomicdata[\"kpoint\"] = torch.tensor(kmesh_sampling([10,10,10], True)).to(torch.get_default_dtype())\n",
    "# block_to_feature(atomicdata, gga.kinetic.idp_phy, block)\n",
    "atomicdata = AtomicData.to_AtomicDataDict(atomicdata)\n",
    "atomicdata[_keys.HAMILTONIAN_KEY] = eks\n",
    "atomicdata[_keys.PHY_ONSITE_KEY] = phy_onsite\n",
    "\n",
    "# gga.load(\"./gGA/test/nqs/bethe1o/stateU5P-1P1e-4E1e-3.npz\")\n",
    "gga.run(atomicdata, 500, 1e-3)"
   ]
  }
 ],
 "metadata": {
  "kernelspec": {
   "display_name": "hubbard",
   "language": "python",
   "name": "python3"
  },
  "language_info": {
   "codemirror_mode": {
    "name": "ipython",
    "version": 3
   },
   "file_extension": ".py",
   "mimetype": "text/x-python",
   "name": "python",
   "nbconvert_exporter": "python",
   "pygments_lexer": "ipython3",
   "version": "3.10.13"
  }
 },
 "nbformat": 4,
 "nbformat_minor": 2
}
