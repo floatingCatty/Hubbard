{
 "cells": [
  {
   "cell_type": "code",
   "execution_count": null,
   "metadata": {},
   "outputs": [
    {
     "name": "stdout",
     "output_type": "stream",
     "text": [
      "driver threads:   OpenMP = 1 TBB = 0 BLIS = 0 MKL = NONE  SeqType = Tasked MKLIntLen = 4\n",
      " THREADING = 2 layers : Global | Operator BatchedGEMM \n",
      " NUMBER : Global = 15 Operator = 15 Quanta = 0 MKL = 1\n",
      " COMPLEX = 1 SINGLE-PREC = 0 KSYMM = 0\n"
     ]
    }
   ],
   "source": [
    "from ase.io import read\n",
    "from hubbard.data import AtomicData\n",
    "from hubbard.gutz import GhostGutzwiller\n",
    "from hubbard.utils.tools import setup_seed\n",
    "from hubbard.utils.make_kpoints import kmesh_sampling\n",
    "from hubbard.data import block_to_feature\n",
    "from hubbard.utils.tools import get_semicircle_e_list\n",
    "import numpy as np\n",
    "from hubbard.data import _keys\n",
    "\n",
    "setup_seed(1234)\n",
    "U = 1.\n",
    "J = 0.05 * U\n",
    "Up = U - 2*J\n",
    "Jp = J\n",
    "\n",
    "alpha = 1.\n",
    "Delta = 0.25\n",
    "e_list = get_semicircle_e_list(nmesh=1000)\n",
    "eks = alpha * e_list[:,None,None] * np.eye(5)[None,:,:]\n",
    "\n",
    "onsite = np.eye(5) * Delta\n",
    "onsite[0,0] = 0.\n",
    "onsite[1,1] = 0.\n",
    "onsite = onsite[None,:,:]\n",
    "phy_onsite = {\n",
    "    \"C\": onsite\n",
    "}\n",
    "\n",
    "intparams = {\"C\":[{\"U\":U,\"Up\":Up,\"J\":J, \"Jp\":Jp}]}\n",
    "\n",
    "\n",
    "gga = GhostGutzwiller(\n",
    "    atomic_number=np.array([6]),\n",
    "    nocc=6,\n",
    "    basis={\"C\":[5]},\n",
    "    idx_intorb={\"C\":[0]},\n",
    "    naux=1,\n",
    "    intparams=intparams,\n",
    "    nspin=1,\n",
    "    kBT=0.002,\n",
    "    mutol=1e-4,\n",
    "    natural_orbital=True,\n",
    "    decouple_bath=False,\n",
    "    solver=\"DMRG\",\n",
    "    mixer_options={\"method\": \"PDIIS\", \"a\": 0.5, \"k\": 1},\n",
    "    iscomplex=False,\n",
    "    solver_options={\"reorder\": True, \"n_threads\": 15, \"nupdate\": 8, \"eig_cutoff\": 1e-7, \"bond_dim\": 1500, \"su2\": False, \"iprint\": 1, \"scratch_dir\": \"./tmp_dmrg\"},\n",
    ")\n",
    "\n",
    "atomicdata = AtomicData.from_ase(\n",
    "    read(\"./gGA/test/C_cube.vasp\"),\n",
    "    r_max=3.1\n",
    "    )\n",
    "\n",
    "atomicdata = AtomicData.to_AtomicDataDict(atomicdata)\n",
    "atomicdata[_keys.HAMILTONIAN_KEY] = eks\n",
    "atomicdata[_keys.PHY_ONSITE_KEY] = phy_onsite"
   ]
  },
  {
   "cell_type": "code",
   "execution_count": 2,
   "metadata": {},
   "outputs": [
    {
     "name": "stdout",
     "output_type": "stream",
     "text": [
      "DM_kin:  [0.15349909 0.15349909 0.37542716 0.37542716 0.50007125 0.50007125\n",
      " 0.97251639 0.97251639 0.99844381 0.99844381]\n",
      "[[-6.65770300e-10 -9.09709058e-10 -1.07210886e-10 -1.07318918e-10\n",
      "  -5.23236870e-11 -3.47943924e-10  2.44727266e-10  1.92878864e-10\n",
      "  -5.51475254e-11  2.52138296e-10]\n",
      " [-9.09709058e-10 -1.26830707e-09 -2.75713272e-11 -4.69734529e-11\n",
      "  -4.88513952e-11 -3.05089037e-10  4.31746042e-10  1.59590129e-10\n",
      "  -1.83551924e-10  2.63564025e-10]\n",
      " [-1.07210886e-10 -2.75713272e-11 -4.80515849e-10 -1.99723266e-10\n",
      "   3.38243281e-10 -6.72617517e-11 -2.44444937e-10 -1.62939773e-10\n",
      "   5.08645653e-10  1.48040288e-10]\n",
      " [-1.07318918e-10 -4.69734529e-11 -1.99723266e-10  4.77345385e-11\n",
      "   3.72896575e-10  3.84612286e-10 -3.57171015e-10 -1.29864217e-10\n",
      "   4.09491739e-10 -7.67152331e-11]\n",
      " [-5.23236870e-11 -4.88513952e-11  3.38243281e-10  3.72896575e-10\n",
      "   1.54972452e-10  8.04922129e-10 -4.05427608e-10  1.17680990e-10\n",
      "  -4.82075491e-12 -3.29146849e-10]\n",
      " [-3.47943924e-10 -3.05089037e-10 -6.72617517e-11  3.84612286e-10\n",
      "   8.04922129e-10  9.64678892e-10 -2.27097091e-10  9.68815583e-11\n",
      "   2.97683045e-10 -1.86124095e-10]\n",
      " [ 2.44727266e-10  4.31746042e-10 -2.44444937e-10 -3.57171015e-10\n",
      "  -4.05427608e-10 -2.27097091e-10  4.03977185e-10  1.12430384e-10\n",
      "  -3.60372693e-10  6.32147112e-13]\n",
      " [ 1.92878864e-10  1.59590129e-10 -1.62939773e-10 -1.29864217e-10\n",
      "   1.17680990e-10  9.68815583e-11  1.12430384e-10  1.13125620e-10\n",
      "  -2.34070806e-10 -1.25775574e-10]\n",
      " [-5.51475254e-11 -1.83551924e-10  5.08645653e-10  4.09491739e-10\n",
      "  -4.82075491e-12  2.97683045e-10 -3.60372693e-10 -2.34070806e-10\n",
      "   6.24568397e-10  1.33598868e-10]\n",
      " [ 2.52138296e-10  2.63564025e-10  1.48040288e-10 -7.67152331e-11\n",
      "  -3.29146849e-10 -1.86124095e-10  6.32147112e-13 -1.25775574e-10\n",
      "   1.33598868e-10  1.05539799e-10]]\n",
      "occ for up spin: 5.0, occ for down spin: 5.0\n",
      "### Transformation NAO up:\n",
      "error for H:  6.800116025829084e-16\n",
      "error for D:  1.6410484082740595e-15\n",
      "### Transformation Bonding up:\n",
      "error for H:  2.220446049250313e-15\n",
      "error for D:  5.557093260902386e-16\n",
      "### Transformation Chain up:\n",
      "error for H:  1.7763568394002505e-15\n",
      "error for D:  4.440892098500626e-16\n",
      "error for imp:  2.220446049250313e-15\n",
      "error for H dn:  6.661338147750939e-15\n",
      "error for D dn:  3.552713678800501e-15\n",
      "error for imp dn:  3.552713678800501e-15\n",
      "error for H:  6.661338147750939e-15\n",
      "error for D:  3.552713678800501e-15\n",
      "error for imp:  3.552713678800501e-15\n"
     ]
    },
    {
     "name": "stderr",
     "output_type": "stream",
     "text": [
      "/homes/nessa/zhanghao/dev/Hubbard/gGA/nao/lanczos.py:42: UserWarning: loss of orthogonality @icgs.\n",
      "  warnings.warn('loss of orthogonality @icgs.')\n"
     ]
    },
    {
     "name": "stdout",
     "output_type": "stream",
     "text": [
      "\n",
      "Sweep =    0 | Direction =  forward | Bond dimension = 1500 | Noise =  1.00e-04 | Dav threshold =  1.00e-05\n",
      "Time elapsed =      0.964 | E =      -0.3407807642 | DW = 1.70329e-06\n",
      "\n",
      "Sweep =    1 | Direction = backward | Bond dimension = 1500 | Noise =  1.00e-04 | Dav threshold =  1.00e-05\n",
      "Time elapsed =      1.123 | E =      -0.3410230794 | DE = -2.42e-04 | DW = 1.58379e-06\n",
      "\n",
      "Sweep =    2 | Direction =  forward | Bond dimension = 1500 | Noise =  1.00e-04 | Dav threshold =  1.00e-05\n",
      "Time elapsed =      1.292 | E =      -0.3410314775 | DE = -8.40e-06 | DW = 1.45785e-06\n",
      "\n",
      "Sweep =    3 | Direction = backward | Bond dimension = 1500 | Noise =  1.00e-04 | Dav threshold =  1.00e-05\n",
      "Time elapsed =      1.451 | E =      -0.3410295050 | DE = 1.97e-06 | DW = 1.26791e-06\n",
      "\n",
      "Sweep =    4 | Direction =  forward | Bond dimension = 1500 | Noise =  1.00e-04 | Dav threshold =  1.00e-05\n",
      "Time elapsed =      1.621 | E =      -0.3410295951 | DE = -9.01e-08 | DW = 1.29128e-06\n",
      "\n",
      "Sweep =    5 | Direction = backward | Bond dimension = 1500 | Noise =  1.00e-04 | Dav threshold =  1.00e-05\n",
      "Time elapsed =      1.783 | E =      -0.3410295438 | DE = 5.13e-08 | DW = 1.19688e-06\n",
      "\n",
      "Sweep =    6 | Direction =  forward | Bond dimension = 1500 | Noise =  1.00e-04 | Dav threshold =  1.00e-05\n",
      "Time elapsed =      1.961 | E =      -0.3410296318 | DE = -8.79e-08 | DW = 1.27670e-06\n",
      "\n",
      "Sweep =    7 | Direction = backward | Bond dimension = 1500 | Noise =  1.00e-04 | Dav threshold =  1.00e-05\n",
      "Time elapsed =      2.138 | E =      -0.3410295321 | DE = 9.96e-08 | DW = 1.19365e-06\n",
      "\n",
      "Sweep =    8 | Direction =  forward | Bond dimension = 3000 | Noise =  1.00e-05 | Dav threshold =  1.00e-07\n",
      "Time elapsed =      2.330 | E =      -0.3410316526 | DE = -2.12e-06 | DW = 1.40632e-06\n",
      "\n",
      "Sweep =    9 | Direction = backward | Bond dimension = 3000 | Noise =  1.00e-05 | Dav threshold =  1.00e-07\n",
      "Time elapsed =      2.508 | E =      -0.3410317434 | DE = -9.08e-08 | DW = 1.42194e-06\n",
      "\n",
      "Sweep =   10 | Direction =  forward | Bond dimension = 3000 | Noise =  1.00e-05 | Dav threshold =  1.00e-07\n",
      "Time elapsed =      2.701 | E =      -0.3410318927 | DE = -1.49e-07 | DW = 1.40771e-06\n",
      "\n",
      "Sweep =   11 | Direction = backward | Bond dimension = 3000 | Noise =  1.00e-05 | Dav threshold =  1.00e-07\n",
      "Time elapsed =      2.893 | E =      -0.3410318945 | DE = -1.77e-09 | DW = 1.33588e-06\n",
      "\n",
      "Sweep =   12 | Direction =  forward | Bond dimension = 3000 | Noise =  1.00e-05 | Dav threshold =  1.00e-07\n",
      "Time elapsed =      3.083 | E =      -0.3410318960 | DE = -1.54e-09 | DW = 1.40849e-06\n",
      "\n",
      "Sweep =   13 | Direction = backward | Bond dimension = 3000 | Noise =  1.00e-05 | Dav threshold =  1.00e-07\n",
      "Time elapsed =      3.268 | E =      -0.3410318950 | DE = 1.02e-09 | DW = 1.33505e-06\n",
      "\n",
      "Sweep =   14 | Direction =  forward | Bond dimension = 3000 | Noise =  1.00e-05 | Dav threshold =  1.00e-07\n",
      "Time elapsed =      3.453 | E =      -0.3410319375 | DE = -4.25e-08 | DW = 1.40870e-06\n",
      "\n",
      "Sweep =   15 | Direction = backward | Bond dimension = 3000 | Noise =  1.00e-05 | Dav threshold =  1.00e-07\n",
      "Time elapsed =      3.633 | E =      -0.3410319361 | DE = 1.42e-09 | DW = 1.32694e-06\n",
      "\n",
      "Sweep =   16 | Direction =  forward | Bond dimension = 3000 | Noise =  0.00e+00 | Dav threshold =  1.00e-07\n",
      "Time elapsed =      3.796 | E =      -0.3410309359 | DE = 1.00e-06 | DW = 1.17840e-06\n",
      "\n",
      "Sweep =   17 | Direction = backward | Bond dimension = 3000 | Noise =  0.00e+00 | Dav threshold =  1.00e-07\n",
      "Time elapsed =      3.950 | E =      -0.3410309357 | DE = 2.50e-10 | DW = 1.16950e-06\n",
      "\n",
      " -- Current error: 2.12595\n",
      "DM_kin:  [0.03330217 0.03330217 0.39660313 0.39660313 0.6250463  0.6250463\n",
      " 0.96450818 0.96450818 0.98056937 0.98056937]\n",
      "[[-0.99388805  0.0095145   0.00562829  0.01786629  0.02460359 -0.04093866\n",
      "  -0.00326715  0.01544602 -0.03862722  0.01897558]\n",
      " [ 0.0095145  -0.96386729 -0.00544217  0.02780354  0.01472733 -0.11140372\n",
      "   0.07889853  0.01141734 -0.07793999  0.0401649 ]\n",
      " [ 0.00562829 -0.00544217 -0.94476622  0.04412382  0.03702246 -0.12591221\n",
      "  -0.08854909  0.01797801  0.11750347 -0.00750319]\n",
      " [ 0.01786629  0.02780354  0.04412382 -0.9284719   0.07202411 -0.2059177\n",
      "  -0.02979983  0.04260343 -0.02356803  0.02263936]\n",
      " [ 0.02460359  0.01472733  0.03702246  0.07202411 -0.87149153 -0.11364889\n",
      "  -0.12224891  0.11191041 -0.15265323  0.01649453]\n",
      " [-0.04093866 -0.11140372 -0.12591221 -0.2059177  -0.11364889 -0.16243897\n",
      "   0.0503799   0.12549685  0.01241196  0.09312036]\n",
      " [-0.00326715  0.07889853 -0.08854909 -0.02979983 -0.12224891  0.0503799\n",
      "   0.71899011 -0.33486273  0.04968309  0.036415  ]\n",
      " [ 0.01544602  0.01141734  0.01797801  0.04260343  0.11191041  0.12549685\n",
      "  -0.33486273  0.18429805  0.05468383 -0.06248048]\n",
      " [-0.03862722 -0.07793999  0.11750347 -0.02356803 -0.15265323  0.01241196\n",
      "   0.04968309  0.05468383 -0.07221039  0.11224681]\n",
      " [ 0.01897558  0.0401649  -0.00750319  0.02263936  0.01649453  0.09312036\n",
      "   0.036415   -0.06248048  0.11224681  0.03384617]]\n"
     ]
    },
    {
     "ename": "AssertionError",
     "evalue": "spin symmetry breaking error 0.9938880458936515",
     "output_type": "error",
     "traceback": [
      "\u001b[0;31m---------------------------------------------------------------------------\u001b[0m",
      "\u001b[0;31mAssertionError\u001b[0m                            Traceback (most recent call last)",
      "Cell \u001b[0;32mIn[2], line 1\u001b[0m\n\u001b[0;32m----> 1\u001b[0m \u001b[43mgga\u001b[49m\u001b[38;5;241;43m.\u001b[39;49m\u001b[43mrun\u001b[49m\u001b[43m(\u001b[49m\u001b[43matomicdata\u001b[49m\u001b[43m,\u001b[49m\u001b[43m \u001b[49m\u001b[38;5;241;43m200\u001b[39;49m\u001b[43m,\u001b[49m\u001b[43m \u001b[49m\u001b[38;5;241;43m1e-4\u001b[39;49m\u001b[43m,\u001b[49m\u001b[43m \u001b[49m\u001b[43mckptprefix\u001b[49m\u001b[38;5;241;43m=\u001b[39;49m\u001b[38;5;124;43m\"\u001b[39;49m\u001b[38;5;124;43mh5odmrg\u001b[39;49m\u001b[38;5;124;43m\"\u001b[39;49m\u001b[43m)\u001b[49m\n",
      "File \u001b[0;32m/homes/nessa/zhanghao/dev/Hubbard/gGA/gutz/ghostG.py:215\u001b[0m, in \u001b[0;36mGhostGutzwiller.run\u001b[0;34m(self, data, maxiter, tol, ckptpath, ckptprefix)\u001b[0m\n\u001b[1;32m    213\u001b[0m \u001b[38;5;28;01mdef\u001b[39;00m \u001b[38;5;21mrun\u001b[39m(\u001b[38;5;28mself\u001b[39m, data, maxiter, tol, ckptpath\u001b[38;5;241m=\u001b[39m\u001b[38;5;124m\"\u001b[39m\u001b[38;5;124m./\u001b[39m\u001b[38;5;124m\"\u001b[39m, ckptprefix\u001b[38;5;241m=\u001b[39m\u001b[38;5;28;01mNone\u001b[39;00m):\n\u001b[1;32m    214\u001b[0m     \u001b[38;5;28;01mfor\u001b[39;00m i \u001b[38;5;129;01min\u001b[39;00m \u001b[38;5;28mrange\u001b[39m(maxiter):\n\u001b[0;32m--> 215\u001b[0m         err, RDM \u001b[38;5;241m=\u001b[39m \u001b[38;5;28;43mself\u001b[39;49m\u001b[38;5;241;43m.\u001b[39;49m\u001b[43mupdate\u001b[49m\u001b[43m(\u001b[49m\u001b[43mdata\u001b[49m\u001b[43m)\u001b[49m\n\u001b[1;32m    217\u001b[0m         \u001b[38;5;28;01mif\u001b[39;00m err \u001b[38;5;241m<\u001b[39m tol:\n\u001b[1;32m    218\u001b[0m             \u001b[38;5;28mprint\u001b[39m(\u001b[38;5;124m\"\u001b[39m\u001b[38;5;124mConvergence achieved!\u001b[39m\u001b[38;5;130;01m\\n\u001b[39;00m\u001b[38;5;124m\"\u001b[39m)\n",
      "File \u001b[0;32m/homes/nessa/zhanghao/dev/Hubbard/gGA/gutz/ghostG.py:198\u001b[0m, in \u001b[0;36mGhostGutzwiller.update\u001b[0;34m(self, data)\u001b[0m\n\u001b[1;32m    194\u001b[0m \u001b[38;5;28mself\u001b[39m\u001b[38;5;241m.\u001b[39mgGAtomic\u001b[38;5;241m.\u001b[39mupdate_RDM(\u001b[38;5;28mself\u001b[39m\u001b[38;5;241m.\u001b[39mRDM_kin)\n\u001b[1;32m    195\u001b[0m \u001b[38;5;66;03m# self.gGAtomic.update_LAM(LAM)\u001b[39;00m\n\u001b[1;32m    196\u001b[0m \n\u001b[1;32m    197\u001b[0m \u001b[38;5;66;03m# update gGA part, for LAM_C, RDM, R\u001b[39;00m\n\u001b[0;32m--> 198\u001b[0m \u001b[38;5;28;43mself\u001b[39;49m\u001b[38;5;241;43m.\u001b[39;49m\u001b[43mgGAtomic\u001b[49m\u001b[38;5;241;43m.\u001b[39;49m\u001b[43mupdate\u001b[49m\u001b[43m(\u001b[49m\u001b[43mphy_onsite\u001b[49m\u001b[43m,\u001b[49m\u001b[43m \u001b[49m\u001b[38;5;28;43mself\u001b[39;49m\u001b[38;5;241;43m.\u001b[39;49m\u001b[43mintparams\u001b[49m\u001b[43m,\u001b[49m\u001b[43m \u001b[49m\u001b[43mE_fermi\u001b[49m\u001b[38;5;241;43m=\u001b[39;49m\u001b[38;5;241;43m0.\u001b[39;49m\u001b[43m)\u001b[49m\n\u001b[1;32m    200\u001b[0m RDM_emb \u001b[38;5;241m=\u001b[39m \u001b[38;5;28mself\u001b[39m\u001b[38;5;241m.\u001b[39mgGAtomic\u001b[38;5;241m.\u001b[39mRDM\n\u001b[1;32m    202\u001b[0m \u001b[38;5;66;03m# compute error\u001b[39;00m\n",
      "File \u001b[0;32m/homes/nessa/zhanghao/dev/Hubbard/gGA/gutz/ansatz.py:575\u001b[0m, in \u001b[0;36mgGAtomic.update\u001b[0;34m(self, t, intparams, E_fermi)\u001b[0m\n\u001b[1;32m    573\u001b[0m     \u001b[38;5;28;01massert\u001b[39;00m t_a\u001b[38;5;241m.\u001b[39mshape[\u001b[38;5;241m1\u001b[39m] \u001b[38;5;241m==\u001b[39m \u001b[38;5;28msum\u001b[39m(\u001b[38;5;28mself\u001b[39m\u001b[38;5;241m.\u001b[39midp_phy\u001b[38;5;241m.\u001b[39mlistnorbs[sym])\u001b[38;5;241m*\u001b[39m\u001b[38;5;241m2\u001b[39m, \u001b[38;5;124m\"\u001b[39m\u001b[38;5;124mShape of t is not correct!\u001b[39m\u001b[38;5;124m\"\u001b[39m\n\u001b[1;32m    574\u001b[0m     t_a \u001b[38;5;241m=\u001b[39m [t_a[s\u001b[38;5;241m*\u001b[39m\u001b[38;5;241m2\u001b[39m:s\u001b[38;5;241m*\u001b[39m\u001b[38;5;241m2\u001b[39m\u001b[38;5;241m+\u001b[39m\u001b[38;5;28mself\u001b[39m\u001b[38;5;241m.\u001b[39midp_phy\u001b[38;5;241m.\u001b[39mlistnorbs[sym][\u001b[38;5;28mself\u001b[39m\u001b[38;5;241m.\u001b[39midx_intorb[sym][i]]\u001b[38;5;241m*\u001b[39m\u001b[38;5;241m2\u001b[39m,s\u001b[38;5;241m*\u001b[39m\u001b[38;5;241m2\u001b[39m:s\u001b[38;5;241m*\u001b[39m\u001b[38;5;241m2\u001b[39m\u001b[38;5;241m+\u001b[39m\u001b[38;5;28mself\u001b[39m\u001b[38;5;241m.\u001b[39midp_phy\u001b[38;5;241m.\u001b[39mlistnorbs[sym][\u001b[38;5;28mself\u001b[39m\u001b[38;5;241m.\u001b[39midx_intorb[sym][i]]\u001b[38;5;241m*\u001b[39m\u001b[38;5;241m2\u001b[39m] \u001b[38;5;28;01mfor\u001b[39;00m i, s \u001b[38;5;129;01min\u001b[39;00m \u001b[38;5;28menumerate\u001b[39m(\u001b[38;5;28mself\u001b[39m\u001b[38;5;241m.\u001b[39mstart_phy_orbs[sym])]\n\u001b[0;32m--> 575\u001b[0m     \u001b[38;5;28;43mself\u001b[39;49m\u001b[38;5;241;43m.\u001b[39;49m\u001b[43minteract_ansatz\u001b[49m\u001b[43m[\u001b[49m\u001b[43midx\u001b[49m\u001b[43m]\u001b[49m\u001b[38;5;241;43m.\u001b[39;49m\u001b[43mupdate\u001b[49m\u001b[43m(\u001b[49m\u001b[43mt_a\u001b[49m\u001b[43m,\u001b[49m\u001b[43m \u001b[49m\u001b[43mintparams\u001b[49m\u001b[43m[\u001b[49m\u001b[43msym\u001b[49m\u001b[43m]\u001b[49m\u001b[43m,\u001b[49m\u001b[43m \u001b[49m\u001b[43mE_fermi\u001b[49m\u001b[43m)\u001b[49m\n\u001b[1;32m    576\u001b[0m         \u001b[38;5;66;03m# update the R, RDM for each atomic system\u001b[39;00m\n\u001b[1;32m    578\u001b[0m \u001b[38;5;28;01mreturn\u001b[39;00m \u001b[38;5;28;01mTrue\u001b[39;00m\n",
      "File \u001b[0;32m/homes/nessa/zhanghao/dev/Hubbard/gGA/gutz/ansatz.py:396\u001b[0m, in \u001b[0;36mgGAMultiOrb.update\u001b[0;34m(self, t, intparams, E_fermi)\u001b[0m\n\u001b[1;32m    394\u001b[0m \u001b[38;5;28;01mfor\u001b[39;00m iso, singleOrb \u001b[38;5;129;01min\u001b[39;00m \u001b[38;5;28menumerate\u001b[39m(\u001b[38;5;28mself\u001b[39m\u001b[38;5;241m.\u001b[39msingleOrbs):\n\u001b[1;32m    395\u001b[0m     t_so \u001b[38;5;241m=\u001b[39m t[iso] \u001b[38;5;66;03m# [aux_spinorb, aux_spinorb]\u001b[39;00m\n\u001b[0;32m--> 396\u001b[0m     \u001b[43msingleOrb\u001b[49m\u001b[38;5;241;43m.\u001b[39;49m\u001b[43mupdate\u001b[49m\u001b[43m(\u001b[49m\u001b[43mt_so\u001b[49m\u001b[43m,\u001b[49m\u001b[43m \u001b[49m\u001b[43mintparams\u001b[49m\u001b[43m[\u001b[49m\u001b[43miso\u001b[49m\u001b[43m]\u001b[49m\u001b[43m,\u001b[49m\u001b[43m \u001b[49m\u001b[43mE_fermi\u001b[49m\u001b[43m)\u001b[49m\n\u001b[1;32m    398\u001b[0m \u001b[38;5;28;01mreturn\u001b[39;00m \u001b[38;5;28;01mTrue\u001b[39;00m\n",
      "File \u001b[0;32m/homes/nessa/zhanghao/dev/Hubbard/gGA/gutz/ansatz.py:167\u001b[0m, in \u001b[0;36mgGASingleOrb.update\u001b[0;34m(self, t, intparam, E_fermi)\u001b[0m\n\u001b[1;32m    165\u001b[0m \u001b[38;5;66;03m# update R, RDM\u001b[39;00m\n\u001b[1;32m    166\u001b[0m _t, _intparam \u001b[38;5;241m=\u001b[39m \u001b[38;5;28mself\u001b[39m\u001b[38;5;241m.\u001b[39mget_Hemb_param(t, intparam, E_fermi)\n\u001b[0;32m--> 167\u001b[0m RDM \u001b[38;5;241m=\u001b[39m \u001b[38;5;28;43mself\u001b[39;49m\u001b[38;5;241;43m.\u001b[39;49m\u001b[43msolver\u001b[49m\u001b[38;5;241;43m.\u001b[39;49m\u001b[43msolve\u001b[49m\u001b[43m(\u001b[49m\u001b[43m_t\u001b[49m\u001b[43m,\u001b[49m\u001b[43m \u001b[49m\u001b[43m_intparam\u001b[49m\u001b[43m,\u001b[49m\u001b[43m \u001b[49m\u001b[43mreturn_RDM\u001b[49m\u001b[38;5;241;43m=\u001b[39;49m\u001b[38;5;28;43;01mTrue\u001b[39;49;00m\u001b[43m)\u001b[49m\n\u001b[1;32m    169\u001b[0m \u001b[38;5;66;03m# compute R and RDM_bath\u001b[39;00m\n\u001b[1;32m    170\u001b[0m RDM_bath \u001b[38;5;241m=\u001b[39m np\u001b[38;5;241m.\u001b[39meye(\u001b[38;5;28mself\u001b[39m\u001b[38;5;241m.\u001b[39maux_spinorb, dtype\u001b[38;5;241m=\u001b[39m\u001b[38;5;28mself\u001b[39m\u001b[38;5;241m.\u001b[39mdtype) \u001b[38;5;241m-\u001b[39m RDM[\u001b[38;5;241m-\u001b[39m\u001b[38;5;28mself\u001b[39m\u001b[38;5;241m.\u001b[39maux_spinorb:, \u001b[38;5;241m-\u001b[39m\u001b[38;5;28mself\u001b[39m\u001b[38;5;241m.\u001b[39maux_spinorb:]\n",
      "File \u001b[0;32m/homes/nessa/zhanghao/dev/Hubbard/gGA/solver/dmrg_solver.py:341\u001b[0m, in \u001b[0;36mDMRG_solver.solve\u001b[0;34m(self, T, intparam, return_RDM)\u001b[0m\n\u001b[1;32m    339\u001b[0m \u001b[38;5;28;01mdef\u001b[39;00m \u001b[38;5;21msolve\u001b[39m(\u001b[38;5;28mself\u001b[39m, T, intparam, return_RDM: \u001b[38;5;28mbool\u001b[39m\u001b[38;5;241m=\u001b[39m\u001b[38;5;28;01mFalse\u001b[39;00m):\n\u001b[1;32m    340\u001b[0m     RDM \u001b[38;5;241m=\u001b[39m \u001b[38;5;28;01mNone\u001b[39;00m\n\u001b[0;32m--> 341\u001b[0m     Hemb \u001b[38;5;241m=\u001b[39m \u001b[38;5;28;43mself\u001b[39;49m\u001b[38;5;241;43m.\u001b[39;49m\u001b[43mget_Hemb\u001b[49m\u001b[43m(\u001b[49m\u001b[43mT\u001b[49m\u001b[38;5;241;43m=\u001b[39;49m\u001b[43mT\u001b[49m\u001b[43m,\u001b[49m\u001b[43m \u001b[49m\u001b[43mintparam\u001b[49m\u001b[38;5;241;43m=\u001b[39;49m\u001b[43mintparam\u001b[49m\u001b[43m)\u001b[49m\n\u001b[1;32m    342\u001b[0m     nsites \u001b[38;5;241m=\u001b[39m \u001b[38;5;28mself\u001b[39m\u001b[38;5;241m.\u001b[39mnorb\u001b[38;5;241m*\u001b[39m(\u001b[38;5;28mself\u001b[39m\u001b[38;5;241m.\u001b[39mnaux\u001b[38;5;241m+\u001b[39m\u001b[38;5;241m1\u001b[39m)\n\u001b[1;32m    343\u001b[0m     \u001b[38;5;66;03m# Nparticle = [(self.norb*(self.naux+1)//2,self.norb*(self.naux+1)//2)]\u001b[39;00m\n",
      "File \u001b[0;32m/homes/nessa/zhanghao/dev/Hubbard/gGA/solver/dmrg_solver.py:337\u001b[0m, in \u001b[0;36mDMRG_solver.get_Hemb\u001b[0;34m(self, T, intparam)\u001b[0m\n\u001b[1;32m    336\u001b[0m \u001b[38;5;28;01mdef\u001b[39;00m \u001b[38;5;21mget_Hemb\u001b[39m(\u001b[38;5;28mself\u001b[39m, T, intparam):\n\u001b[0;32m--> 337\u001b[0m     \u001b[38;5;28;01mreturn\u001b[39;00m \u001b[38;5;28;43mself\u001b[39;49m\u001b[38;5;241;43m.\u001b[39;49m\u001b[43m_construct_Hemb\u001b[49m\u001b[43m(\u001b[49m\u001b[43mT\u001b[49m\u001b[43m,\u001b[49m\u001b[43m \u001b[49m\u001b[43mintparam\u001b[49m\u001b[43m)\u001b[49m\n",
      "File \u001b[0;32m/homes/nessa/zhanghao/dev/Hubbard/gGA/solver/dmrg_solver.py:229\u001b[0m, in \u001b[0;36mDMRG_solver._construct_Hemb\u001b[0;34m(self, T, intparam)\u001b[0m\n\u001b[1;32m    227\u001b[0m \u001b[38;5;28;01melif\u001b[39;00m \u001b[38;5;28mself\u001b[39m\u001b[38;5;241m.\u001b[39mnatural_orbital:\n\u001b[1;32m    228\u001b[0m     \u001b[38;5;28;01massert\u001b[39;00m T\u001b[38;5;241m.\u001b[39mshape[\u001b[38;5;241m0\u001b[39m] \u001b[38;5;241m==\u001b[39m (\u001b[38;5;28mself\u001b[39m\u001b[38;5;241m.\u001b[39mnaux\u001b[38;5;241m+\u001b[39m\u001b[38;5;241m1\u001b[39m) \u001b[38;5;241m*\u001b[39m \u001b[38;5;28mself\u001b[39m\u001b[38;5;241m.\u001b[39mnorb \u001b[38;5;241m*\u001b[39m \u001b[38;5;241m2\u001b[39m\n\u001b[0;32m--> 229\u001b[0m     T \u001b[38;5;241m=\u001b[39m \u001b[38;5;28;43mself\u001b[39;49m\u001b[38;5;241;43m.\u001b[39;49m\u001b[43mto_natrual_orbital\u001b[49m\u001b[43m(\u001b[49m\u001b[43mT\u001b[49m\u001b[38;5;241;43m=\u001b[39;49m\u001b[43mT\u001b[49m\u001b[43m,\u001b[49m\u001b[43m \u001b[49m\u001b[43mintparams\u001b[49m\u001b[38;5;241;43m=\u001b[39;49m\u001b[43mintparam\u001b[49m\u001b[43m)\u001b[49m\n\u001b[1;32m    231\u001b[0m intparam \u001b[38;5;241m=\u001b[39m copy\u001b[38;5;241m.\u001b[39mdeepcopy(intparam)\n\u001b[1;32m    232\u001b[0m intparam[\u001b[38;5;124m\"\u001b[39m\u001b[38;5;124mt\u001b[39m\u001b[38;5;124m\"\u001b[39m] \u001b[38;5;241m=\u001b[39m T\u001b[38;5;241m.\u001b[39mcopy()\n",
      "File \u001b[0;32m/homes/nessa/zhanghao/dev/Hubbard/gGA/solver/dmrg_solver.py:177\u001b[0m, in \u001b[0;36mDMRG_solver.to_natrual_orbital\u001b[0;34m(self, T, intparams)\u001b[0m\n\u001b[1;32m    175\u001b[0m     err \u001b[38;5;241m=\u001b[39m np\u001b[38;5;241m.\u001b[39mabs(D[:,\u001b[38;5;241m0\u001b[39m,:,\u001b[38;5;241m0\u001b[39m]\u001b[38;5;241m-\u001b[39mD[:,\u001b[38;5;241m1\u001b[39m,:,\u001b[38;5;241m1\u001b[39m])\u001b[38;5;241m.\u001b[39mmax()\n\u001b[1;32m    176\u001b[0m     \u001b[38;5;28mprint\u001b[39m(D[:,\u001b[38;5;241m0\u001b[39m,:,\u001b[38;5;241m0\u001b[39m]\u001b[38;5;241m-\u001b[39mD[:,\u001b[38;5;241m1\u001b[39m,:,\u001b[38;5;241m1\u001b[39m])\n\u001b[0;32m--> 177\u001b[0m     \u001b[38;5;28;01massert\u001b[39;00m err \u001b[38;5;241m<\u001b[39m \u001b[38;5;241m1e-8\u001b[39m, \u001b[38;5;124m\"\u001b[39m\u001b[38;5;124mspin symmetry breaking error \u001b[39m\u001b[38;5;132;01m{}\u001b[39;00m\u001b[38;5;124m\"\u001b[39m\u001b[38;5;241m.\u001b[39mformat(err)\n\u001b[1;32m    180\u001b[0m D \u001b[38;5;241m=\u001b[39m D\u001b[38;5;241m.\u001b[39mreshape((\u001b[38;5;28mself\u001b[39m\u001b[38;5;241m.\u001b[39mnaux\u001b[38;5;241m+\u001b[39m\u001b[38;5;241m1\u001b[39m)\u001b[38;5;241m*\u001b[39m\u001b[38;5;28mself\u001b[39m\u001b[38;5;241m.\u001b[39mnorb\u001b[38;5;241m*\u001b[39m\u001b[38;5;241m2\u001b[39m, (\u001b[38;5;28mself\u001b[39m\u001b[38;5;241m.\u001b[39mnaux\u001b[38;5;241m+\u001b[39m\u001b[38;5;241m1\u001b[39m)\u001b[38;5;241m*\u001b[39m\u001b[38;5;28mself\u001b[39m\u001b[38;5;241m.\u001b[39mnorb\u001b[38;5;241m*\u001b[39m\u001b[38;5;241m2\u001b[39m)\n\u001b[1;32m    182\u001b[0m _, D_meanfield, \u001b[38;5;28mself\u001b[39m\u001b[38;5;241m.\u001b[39mtransmat \u001b[38;5;241m=\u001b[39m nao_two_chain(\n\u001b[1;32m    183\u001b[0m                             h_mat\u001b[38;5;241m=\u001b[39mF,\n\u001b[1;32m    184\u001b[0m                             D\u001b[38;5;241m=\u001b[39mD,\n\u001b[0;32m   (...)\u001b[0m\n\u001b[1;32m    187\u001b[0m                             nspin\u001b[38;5;241m=\u001b[39m\u001b[38;5;28mself\u001b[39m\u001b[38;5;241m.\u001b[39mnspin,\n\u001b[1;32m    188\u001b[0m                         )\n",
      "\u001b[0;31mAssertionError\u001b[0m: spin symmetry breaking error 0.9938880458936515"
     ]
    }
   ],
   "source": [
    "gga.run(atomicdata, 200, 1e-4, ckptprefix=\"h5odmrg\")"
   ]
  },
  {
   "cell_type": "code",
   "execution_count": 7,
   "metadata": {},
   "outputs": [
    {
     "name": "stdout",
     "output_type": "stream",
     "text": [
      "{'C': array([[2.07962856]])}\n"
     ]
    }
   ],
   "source": [
    "np.linalg.eigvalsh(gga.RDM[\"C\"][0])\n",
    "print(gga.gGAtomic.S2)"
   ]
  },
  {
   "cell_type": "markdown",
   "metadata": {},
   "source": [
    "QH SU2: array([0.54767732, 0.54767732, 0.54795683, 0.54795683, 0.55593804,\n",
    "       0.55593804, 0.67414707, 0.67414707, 0.67428104, 0.67428104])\n",
    "\n",
    "SGF: array([0.51778631, 0.51779986, 0.51779994, 0.51780276, 0.51781543,\n",
    "       0.5178351 , 0.72141419, 0.72141427, 0.72141495, 0.72142095])\n",
    "\n",
    "QH SZ: array([0.54765287, 0.54765287, 0.54790089, 0.54790089, 0.55592029,\n",
    "       0.55592029, 0.67419743, 0.67419743, 0.67432851, 0.67432851])"
   ]
  },
  {
   "cell_type": "code",
   "execution_count": 3,
   "metadata": {},
   "outputs": [],
   "source": [
    "from gGA.operator import Slater_Kanamori, Operator\n",
    "import numpy as np\n",
    "\n",
    "N = 4\n",
    "U = 1\n",
    "J = 0.25 * U\n",
    "Up = U-2*J\n",
    "Jp = J\n",
    "\n",
    "BD = 1500\n",
    "\n",
    "# T = gga.gGAtomic.interact_ansatz[0].singleOrbs[0].solver._t\n",
    "T = np.random.randn(N,N)\n",
    "T = T + T.T\n",
    "T = np.kron(T, np.eye(2))\n",
    "sop = Slater_Kanamori(nsites=N, t=T, U=U, Up=Up, J=J, Jp=Jp, n_noninteracting=1)"
   ]
  },
  {
   "cell_type": "code",
   "execution_count": 4,
   "metadata": {},
   "outputs": [
    {
     "name": "stdout",
     "output_type": "stream",
     "text": [
      "\n",
      "Sweep =    0 | Direction =  forward | Bond dimension = 1500 | Noise =  1.00e-04 | Dav threshold =  1.00e-05\n",
      "Time elapsed =      0.008 | E =     -10.3074867066 | DW = 3.88297e-06\n",
      "\n",
      "Sweep =    1 | Direction = backward | Bond dimension = 1500 | Noise =  1.00e-04 | Dav threshold =  1.00e-05\n",
      "Time elapsed =      0.013 | E =     -10.3074867101 | DE = -3.51e-09 | DW = 8.06616e-08\n",
      "\n",
      "Sweep =    2 | Direction =  forward | Bond dimension = 1500 | Noise =  1.00e-04 | Dav threshold =  1.00e-05\n",
      "Time elapsed =      0.018 | E =     -10.3074867092 | DE = 9.38e-10 | DW = 3.88280e-06\n",
      "\n",
      "Sweep =    3 | Direction = backward | Bond dimension = 1500 | Noise =  1.00e-04 | Dav threshold =  1.00e-05\n",
      "Time elapsed =      0.023 | E =     -10.3074867116 | DE = -2.39e-09 | DW = 8.06480e-08\n",
      "\n",
      "Sweep =    4 | Direction =  forward | Bond dimension = 1500 | Noise =  1.00e-04 | Dav threshold =  1.00e-05\n",
      "Time elapsed =      0.028 | E =     -10.3074867106 | DE = 9.82e-10 | DW = 3.88262e-06\n",
      "\n",
      "Sweep =    5 | Direction = backward | Bond dimension = 1500 | Noise =  1.00e-04 | Dav threshold =  1.00e-05\n",
      "Time elapsed =      0.033 | E =     -10.3074867119 | DE = -1.28e-09 | DW = 8.06343e-08\n",
      "\n",
      "Sweep =    6 | Direction =  forward | Bond dimension = 1500 | Noise =  1.00e-04 | Dav threshold =  1.00e-05\n",
      "Time elapsed =      0.038 | E =     -10.3074867108 | DE = 1.03e-09 | DW = 3.88244e-06\n",
      "\n",
      "Sweep =    7 | Direction = backward | Bond dimension = 3000 | Noise =  1.00e-05 | Dav threshold =  1.00e-07\n",
      "Time elapsed =      0.044 | E =     -10.3074874592 | DE = -7.48e-07 | DW = 8.08019e-09\n",
      "\n",
      "Sweep =    8 | Direction =  forward | Bond dimension = 3000 | Noise =  1.00e-05 | Dav threshold =  1.00e-07\n",
      "Time elapsed =      0.049 | E =     -10.3074874592 | DE = -1.52e-11 | DW = 1.38177e-06\n",
      "\n",
      "Sweep =    9 | Direction = backward | Bond dimension = 3000 | Noise =  1.00e-05 | Dav threshold =  1.00e-07\n",
      "Time elapsed =      0.054 | E =     -10.3074874593 | DE = -1.07e-10 | DW = 8.08002e-09\n",
      "\n",
      "Sweep =   10 | Direction =  forward | Bond dimension = 3000 | Noise =  1.00e-05 | Dav threshold =  1.00e-07\n",
      "Time elapsed =      0.059 | E =     -10.3074874594 | DE = -1.47e-11 | DW = 1.38177e-06\n",
      "\n",
      "Sweep =   11 | Direction = backward | Bond dimension = 3000 | Noise =  1.00e-05 | Dav threshold =  1.00e-07\n",
      "Time elapsed =      0.064 | E =     -10.3074874594 | DE = -7.45e-11 | DW = 8.07985e-09\n",
      "\n",
      "Sweep =   12 | Direction =  forward | Bond dimension = 3000 | Noise =  1.00e-05 | Dav threshold =  1.00e-07\n",
      "Time elapsed =      0.068 | E =     -10.3074874594 | DE = -1.42e-11 | DW = 1.38176e-06\n",
      "\n",
      "Sweep =   13 | Direction = backward | Bond dimension = 3000 | Noise =  1.00e-05 | Dav threshold =  1.00e-07\n",
      "Time elapsed =      0.073 | E =     -10.3074874595 | DE = -4.22e-11 | DW = 8.07968e-09\n",
      "\n",
      "Sweep =   14 | Direction =  forward | Bond dimension = 3000 | Noise =  0.00e+00 | Dav threshold =  1.00e-07\n",
      "Time elapsed =      0.077 | E =     -10.3074874595 | DE = -1.37e-11 | DW = 1.60545e-16\n",
      "\n"
     ]
    },
    {
     "data": {
      "text/plain": [
       "-10.307487459503928"
      ]
     },
     "execution_count": 4,
     "metadata": {},
     "output_type": "execute_result"
    }
   ],
   "source": [
    "from pyblock2.driver.core import DMRGDriver, SymmetryTypes\n",
    "\n",
    "h1e, g2e = sop.get_Hqc(nsites=N)\n",
    "ofd = 0.5 * (g2e[:N,:N,N:,N:] + g2e[N:,N:,:N,:N])\n",
    "g2e[:N,:N,N:,N:] = ofd.copy()\n",
    "g2e[N:,N:,:N,:N] = ofd.copy()\n",
    "sop_re = sop.from_Hqc(h1e, g2e)\n",
    "driver = DMRGDriver(\n",
    "    scratch=\"/tmp/\", \n",
    "    symm_type=SymmetryTypes.SZ, \n",
    "    n_threads=10,\n",
    "    stack_mem=5368709120\n",
    "    )\n",
    "driver.initialize_system(n_sites=N, n_elec=N, spin=0)\n",
    "Hemb = driver.get_qc_mpo(\n",
    "                h1e=[h1e[:N, :N], h1e[N:,N:]], \n",
    "                g2e=[g2e[:N, :N, :N, :N], g2e[:N, :N, N:, N:], g2e[N:, N:, N:, N:]], \n",
    "                ecore=0., \n",
    "                iprint=0,\n",
    "                reorder=\"gaopt\"\n",
    "                )\n",
    "\n",
    "# Hemb = driver.get_qc_mpo(\n",
    "#                 h1e=h1e[:N, :N], \n",
    "#                 g2e=g2e[:N, :N, N:, N:], \n",
    "#                 ecore=0., \n",
    "#                 iprint=0\n",
    "#                 )\n",
    "\n",
    "ket = driver.get_random_mps(tag=\"KET\", bond_dim=BD, nroots=1)\n",
    "bond_dims = [BD] * 7 + [2*BD] * 7\n",
    "noises = [1e-4] * 7 + [1e-5] * 7 + [0]\n",
    "thrds = [1e-5] * 7 + [1e-7] * 7\n",
    "driver.dmrg(\n",
    "            Hemb, ket, n_sweeps=20, bond_dims=bond_dims, \n",
    "            noises=noises, thrds=thrds, cutoff=1e-6, iprint=1,\n",
    "            cached_contraction=True, tol=1e-6\n",
    "            )"
   ]
  },
  {
   "cell_type": "code",
   "execution_count": 8,
   "metadata": {},
   "outputs": [
    {
     "data": {
      "text/plain": [
       "array([3, 2, 0, 1])"
      ]
     },
     "execution_count": 8,
     "metadata": {},
     "output_type": "execute_result"
    }
   ],
   "source": [
    "driver.orbital_reordering(h1e=[h1e[:N, :N], h1e[N:,N:]], g2e=[g2e[:N, :N, :N, :N], g2e[:N, :N, N:, N:], g2e[N:, N:, N:, N:]], method=\"gaopt\")"
   ]
  },
  {
   "cell_type": "code",
   "execution_count": 50,
   "metadata": {},
   "outputs": [
    {
     "data": {
      "text/plain": [
       "array([[ 0.7244673 ,  0.1553166 , -0.30538592, -0.81194645],\n",
       "       [ 0.1553166 ,  1.04230938, -0.91625405,  0.2850168 ],\n",
       "       [-0.30538592, -0.91625405,  0.85438904, -0.08809999],\n",
       "       [-0.81194645,  0.2850168 , -0.08809999,  1.37883428]])"
      ]
     },
     "execution_count": 50,
     "metadata": {},
     "output_type": "execute_result"
    }
   ],
   "source": [
    "driver.get_1pdm(ket)"
   ]
  },
  {
   "cell_type": "code",
   "execution_count": 53,
   "metadata": {},
   "outputs": [
    {
     "data": {
      "text/plain": [
       "array([[ 0.72451128,  0.15530942, -0.30535927, -0.8119761 ],\n",
       "       [ 0.15530942,  1.04233331, -0.91626022,  0.28499324],\n",
       "       [-0.30535927, -0.91626022,  0.85437543, -0.0881215 ],\n",
       "       [-0.8119761 ,  0.28499324, -0.0881215 ,  1.37877997]])"
      ]
     },
     "execution_count": 53,
     "metadata": {},
     "output_type": "execute_result"
    }
   ],
   "source": [
    "driver.get_1pdm(ket)"
   ]
  },
  {
   "cell_type": "code",
   "execution_count": 71,
   "metadata": {},
   "outputs": [
    {
     "data": {
      "text/plain": [
       "array([3, 2, 0, 1])"
      ]
     },
     "execution_count": 71,
     "metadata": {},
     "output_type": "execute_result"
    }
   ],
   "source": [
    "idx"
   ]
  },
  {
   "cell_type": "code",
   "execution_count": 80,
   "metadata": {},
   "outputs": [
    {
     "name": "stdout",
     "output_type": "stream",
     "text": [
      "\n",
      "Sweep =    0 | Direction =  forward | Bond dimension = 1500 | Noise =  1.00e-04 | Dav threshold =  1.00e-05\n",
      "Time elapsed =      0.009 | E =      -4.3437769154 | DW = 2.01289e-07\n",
      "\n",
      "Sweep =    1 | Direction = backward | Bond dimension = 1500 | Noise =  1.00e-04 | Dav threshold =  1.00e-05\n",
      "Time elapsed =      0.015 | E =      -4.3437769138 | DE = 1.54e-09 | DW = 1.90176e-07\n",
      "\n",
      "Sweep =    2 | Direction =  forward | Bond dimension = 1500 | Noise =  1.00e-04 | Dav threshold =  1.00e-05\n",
      "Time elapsed =      0.021 | E =      -4.3437769163 | DE = -2.52e-09 | DW = 2.01293e-07\n",
      "\n",
      "Sweep =    3 | Direction = backward | Bond dimension = 1500 | Noise =  1.00e-04 | Dav threshold =  1.00e-05\n",
      "Time elapsed =      0.027 | E =      -4.3437769148 | DE = 1.58e-09 | DW = 1.90175e-07\n",
      "\n",
      "Sweep =    4 | Direction =  forward | Bond dimension = 1500 | Noise =  1.00e-04 | Dav threshold =  1.00e-05\n",
      "Time elapsed =      0.033 | E =      -4.3437769173 | DE = -2.49e-09 | DW = 2.01297e-07\n",
      "\n",
      "Sweep =    5 | Direction = backward | Bond dimension = 1500 | Noise =  1.00e-04 | Dav threshold =  1.00e-05\n",
      "Time elapsed =      0.039 | E =      -4.3437769156 | DE = 1.62e-09 | DW = 1.90173e-07\n",
      "\n",
      "Sweep =    6 | Direction =  forward | Bond dimension = 1500 | Noise =  1.00e-04 | Dav threshold =  1.00e-05\n",
      "Time elapsed =      0.045 | E =      -4.3437769181 | DE = -2.46e-09 | DW = 2.01302e-07\n",
      "\n",
      "Sweep =    7 | Direction = backward | Bond dimension = 3000 | Noise =  1.00e-05 | Dav threshold =  1.00e-07\n",
      "Time elapsed =      0.052 | E =      -4.3437795135 | DE = -2.60e-06 | DW = 6.44152e-07\n",
      "\n",
      "Sweep =    8 | Direction =  forward | Bond dimension = 3000 | Noise =  1.00e-05 | Dav threshold =  1.00e-07\n",
      "Time elapsed =      0.058 | E =      -4.3437795134 | DE = 9.20e-11 | DW = 1.55095e-06\n",
      "\n",
      "Sweep =    9 | Direction = backward | Bond dimension = 3000 | Noise =  1.00e-05 | Dav threshold =  1.00e-07\n",
      "Time elapsed =      0.064 | E =      -4.3437795134 | DE = -3.94e-12 | DW = 6.44151e-07\n",
      "\n",
      "Sweep =   10 | Direction =  forward | Bond dimension = 3000 | Noise =  1.00e-05 | Dav threshold =  1.00e-07\n",
      "Time elapsed =      0.069 | E =      -4.3437795133 | DE = 1.19e-10 | DW = 1.55092e-06\n",
      "\n",
      "Sweep =   11 | Direction = backward | Bond dimension = 3000 | Noise =  1.00e-05 | Dav threshold =  1.00e-07\n",
      "Time elapsed =      0.075 | E =      -4.3437795132 | DE = 1.46e-10 | DW = 6.44150e-07\n",
      "\n",
      "Sweep =   12 | Direction =  forward | Bond dimension = 3000 | Noise =  1.00e-05 | Dav threshold =  1.00e-07\n",
      "Time elapsed =      0.081 | E =      -4.3437795130 | DE = 1.46e-10 | DW = 1.55090e-06\n",
      "\n",
      "Sweep =   13 | Direction = backward | Bond dimension = 3000 | Noise =  1.00e-05 | Dav threshold =  1.00e-07\n",
      "Time elapsed =      0.086 | E =      -4.3437795127 | DE = 2.96e-10 | DW = 6.44149e-07\n",
      "\n",
      "Sweep =   14 | Direction =  forward | Bond dimension = 3000 | Noise =  0.00e+00 | Dav threshold =  1.00e-07\n",
      "Time elapsed =      0.091 | E =      -4.3437795126 | DE = 1.73e-10 | DW = 1.45339e-16\n",
      "\n"
     ]
    },
    {
     "data": {
      "text/plain": [
       "-4.343779512563217"
      ]
     },
     "execution_count": 80,
     "metadata": {},
     "output_type": "execute_result"
    }
   ],
   "source": [
    "# reordered\n",
    "\n",
    "idx = driver.orbital_reordering(h1e=h1e[:N, :N], g2e=g2e[:N, :N, N:, N:], method=\"gaopt\")\n",
    "Hemb = driver.get_qc_mpo(\n",
    "                h1e=h1e[:N, :N], \n",
    "                g2e=g2e[:N, :N, N:, N:], \n",
    "                ecore=0., \n",
    "                iprint=0,\n",
    "                reorder=\"gaopt\"\n",
    "                )\n",
    "\n",
    "ket = driver.get_random_mps(tag=\"KET\", bond_dim=BD, nroots=1)\n",
    "bond_dims = [BD] * 7 + [2*BD] * 7\n",
    "noises = [1e-4] * 7 + [1e-5] * 7 + [0]\n",
    "thrds = [1e-5] * 7 + [1e-7] * 7\n",
    "driver.dmrg(\n",
    "            Hemb, ket, n_sweeps=20, bond_dims=bond_dims, \n",
    "            noises=noises, thrds=thrds, cutoff=1e-6, iprint=1,\n",
    "            cached_contraction=True, tol=1e-6\n",
    "            )"
   ]
  },
  {
   "cell_type": "code",
   "execution_count": null,
   "metadata": {},
   "outputs": [
    {
     "data": {
      "text/plain": [
       "array([2, 1, 0, 3, 6, 5, 4, 7])"
      ]
     },
     "execution_count": 16,
     "metadata": {},
     "output_type": "execute_result"
    }
   ],
   "source": [
    "driver.re"
   ]
  },
  {
   "cell_type": "code",
   "execution_count": 82,
   "metadata": {},
   "outputs": [
    {
     "name": "stdout",
     "output_type": "stream",
     "text": [
      "[-7.10542736e-15]\n",
      "[-4.34377954]\n"
     ]
    }
   ],
   "source": [
    "eigval, eigvec = sop.diagonalize(nsites=N, Nparticle=(N//2,N//2), k=1)\n",
    "eigvalr, eigvecr = sop_re.diagonalize(nsites=N, Nparticle=(N//2,N//2), k=1)\n",
    "print(eigval - eigvalr)\n",
    "print(eigval)\n",
    "\n",
    "# make sure the h1e and g2e generated dmrg solver gives the same result as ED."
   ]
  },
  {
   "cell_type": "code",
   "execution_count": 83,
   "metadata": {},
   "outputs": [],
   "source": [
    "idx = driver.reorder_idx"
   ]
  },
  {
   "cell_type": "code",
   "execution_count": 85,
   "metadata": {},
   "outputs": [
    {
     "name": "stdout",
     "output_type": "stream",
     "text": [
      "[0.31959775] [0.31960349]\n"
     ]
    }
   ],
   "source": [
    "from gGA.operator.site_operator import S_m, S_p, S_z\n",
    "S_m_ = sum(S_m(N, i) for i in range(N-1))\n",
    "S_p_ = sum(S_p(N, i) for i in range(N-1))\n",
    "S_z_ = sum(S_z(N, i) for i in range(N-1))\n",
    "\n",
    "S2 = S_m_ * S_p_ + S_z_ * S_z_ + S_z_\n",
    "\n",
    "v = S2.get_quspin_op(N, (N//2, N//2)).expt_value(eigvec)\n",
    "nsites = N\n",
    "h1e, g2e = S2.get_Hqc(nsites=nsites)\n",
    "# h1e = 0.5 * (h1e + h1e.T)\n",
    "ofd = 0.5 * (g2e[:nsites,:nsites,nsites:,nsites:] + g2e[nsites:,nsites:,:nsites,:nsites])\n",
    "g2e[:nsites,:nsites,nsites:,nsites:] = ofd.copy()\n",
    "g2e[nsites:,nsites:,:nsites,:nsites] = ofd.copy()\n",
    "# S2op = driver.get_qc_mpo(\n",
    "#     h1e=[h1e[:nsites, :nsites], h1e[nsites:,nsites:]], \n",
    "#     g2e=[g2e[:nsites, :nsites, :nsites, :nsites], g2e[:nsites, :nsites, nsites:, nsites:], g2e[nsites:, nsites:, nsites:, nsites:]], \n",
    "#     ecore=0., \n",
    "#     iprint=0\n",
    "#     )\n",
    "S2op = driver.get_qc_mpo(\n",
    "    h1e=h1e[:nsites, :nsites], \n",
    "    g2e=g2e[:nsites, :nsites, nsites:, nsites:], \n",
    "    ecore=0., \n",
    "    iprint=0,\n",
    "    reorder=idx\n",
    "    )\n",
    "vdmrg = np.array(driver.expectation(ket, S2op, ket).real).reshape(1,)\n",
    "print(v, vdmrg)"
   ]
  },
  {
   "cell_type": "code",
   "execution_count": null,
   "metadata": {},
   "outputs": [
    {
     "name": "stdout",
     "output_type": "stream",
     "text": [
      "None\n"
     ]
    }
   ],
   "source": [
    "driver.reorder_idx"
   ]
  },
  {
   "cell_type": "code",
   "execution_count": null,
   "metadata": {},
   "outputs": [],
   "source": [
    "S2.op_list"
   ]
  },
  {
   "cell_type": "code",
   "execution_count": null,
   "metadata": {},
   "outputs": [],
   "source": [
    "Operator.from_Hqc(h1e,g2e).op_list"
   ]
  },
  {
   "cell_type": "code",
   "execution_count": null,
   "metadata": {},
   "outputs": [],
   "source": [
    "eigvs, _ = S2.diagonalize(N, (N//2,N//2))\n",
    "\n",
    "eigvsr, _ = Operator.from_Hqc(h1e,g2e).diagonalize(N, (N//2,N//2))\n",
    "\n",
    "print(eigvs, eigvsr)"
   ]
  },
  {
   "cell_type": "code",
   "execution_count": null,
   "metadata": {},
   "outputs": [],
   "source": [
    "import matplotlib.pyplot as plt\n",
    "\n",
    "plt.matshow(h1e, cmap=\"bwr\", vmax=1., vmin=-1.)\n",
    "plt.show()"
   ]
  },
  {
   "cell_type": "code",
   "execution_count": null,
   "metadata": {},
   "outputs": [],
   "source": [
    "from gGA.operator.site_operator import create_d, annihilate_d, create_u, annihilate_u, number_d, number_u\n",
    "RDM = np.zeros((N, 2, N, 2))\n",
    "for a in range(N):\n",
    "    for s in range(2):\n",
    "        for b in range(a, N):\n",
    "            if a == b:\n",
    "                start = s\n",
    "            else:\n",
    "                start = 0\n",
    "\n",
    "            for s_ in range(start,2):\n",
    "                if s == 0 and s_ == 0:\n",
    "                    op = create_u(N, a) * annihilate_u(N, b)\n",
    "                elif s == 1 and s_ == 1:\n",
    "                    op = create_d(N, a) * annihilate_d(N, b)\n",
    "                elif s == 0 and s_ == 1:\n",
    "                    op = create_u(N, a) * annihilate_d(N, b)\n",
    "                else:\n",
    "                    op = create_d(N, a) * annihilate_u(N, b)\n",
    "                \n",
    "                v = op.get_quspin_op(N, (N//2,N//2)).expt_value(eigvec)\n",
    "                RDM[a, s, b, s_] = v\n",
    "                RDM[b, s_, a, s] = v.conj()\n",
    "\n",
    "RDM_r = np.zeros((N, 2, N, 2))\n",
    "for a in range(N):\n",
    "    for s in range(2):\n",
    "        for b in range(a, N):\n",
    "            if a == b:\n",
    "                start = s\n",
    "            else:\n",
    "                start = 0\n",
    "\n",
    "            for s_ in range(start,2):\n",
    "                if s == 0 and s_ == 0:\n",
    "                    op = create_u(N, a) * annihilate_u(N, b)\n",
    "                elif s == 1 and s_ == 1:\n",
    "                    op = create_d(N, a) * annihilate_d(N, b)\n",
    "                elif s == 0 and s_ == 1:\n",
    "                    op = create_u(N, a) * annihilate_d(N, b)\n",
    "                else:\n",
    "                    op = create_d(N, a) * annihilate_u(N, b)\n",
    "                \n",
    "                v = op.get_quspin_op(N, (N//2,N//2)).expt_value(eigvecr)\n",
    "                RDM_r[a, s, b, s_] = v\n",
    "                RDM_r[b, s_, a, s] = v.conj()"
   ]
  },
  {
   "cell_type": "code",
   "execution_count": null,
   "metadata": {},
   "outputs": [],
   "source": [
    "DMRG_RDM = driver.get_1pdm(ket)"
   ]
  },
  {
   "cell_type": "code",
   "execution_count": null,
   "metadata": {},
   "outputs": [],
   "source": [
    "(RDM[:,0,:,0] - DMRG_RDM[0]).max()"
   ]
  },
  {
   "cell_type": "code",
   "execution_count": null,
   "metadata": {},
   "outputs": [],
   "source": []
  },
  {
   "cell_type": "code",
   "execution_count": null,
   "metadata": {},
   "outputs": [],
   "source": []
  }
 ],
 "metadata": {
  "kernelspec": {
   "display_name": "hubbard",
   "language": "python",
   "name": "python3"
  },
  "language_info": {
   "codemirror_mode": {
    "name": "ipython",
    "version": 3
   },
   "file_extension": ".py",
   "mimetype": "text/x-python",
   "name": "python",
   "nbconvert_exporter": "python",
   "pygments_lexer": "ipython3",
   "version": "3.10.13"
  }
 },
 "nbformat": 4,
 "nbformat_minor": 2
}
