{
 "cells": [
  {
   "cell_type": "code",
   "execution_count": null,
   "metadata": {},
   "outputs": [],
   "source": [
    "from gGA.data import AtomicData, _keys\n",
    "from ase.io import read\n",
    "from gGA.data import OrbitalMapper\n",
    "import torch\n",
    "from gGA.data import block_to_feature\n",
    "from gGA.utils.make_kpoints import kmesh_sampling\n",
    "\n",
    "data = AtomicData.from_ase(read(\"/root/Hubbard/gGA/test/C_cube.vasp\"), r_max=3.1)\n",
    "basis = {\"C\":[2]}\n",
    "idp_phy = OrbitalMapper(basis=basis, spin_deg=True)"
   ]
  },
  {
   "cell_type": "code",
   "execution_count": null,
   "metadata": {},
   "outputs": [],
   "source": [
    "# hopping = torch.tensor([[1,0.2],[0.2,1]])\n",
    "block = {\n",
    "    \"0_0_0_0_0\": torch.zeros(2,2),\n",
    "    \"0_0_0_0_1\": -torch.eye(2)*(1/6),\n",
    "    \"0_0_0_1_0\": -torch.eye(2)*(1/6),\n",
    "    \"0_0_1_0_0\": -torch.eye(2)*(1/6)\n",
    "}\n",
    "\n",
    "# block = {\n",
    "#     \"0_0_0_0_0\": torch.zeros(2,2),\n",
    "#     \"0_0_0_0_1\": -hopping*(1/6),\n",
    "#     \"0_0_0_1_0\": -hopping*(1/6),\n",
    "#     \"0_0_1_0_0\": -hopping*(1/6)\n",
    "# }\n",
    "\n",
    "\n",
    "block_to_feature(data, idp_phy, block)\n",
    "\n",
    "kpoints = torch.tensor(kmesh_sampling([5,5,5], False)).float()\n",
    "data[_keys.KPOINT_KEY] = kpoints"
   ]
  },
  {
   "cell_type": "code",
   "execution_count": null,
   "metadata": {},
   "outputs": [],
   "source": [
    "from gGA.nn.gostG import GostGutzwiller\n",
    "\n",
    "U = 3.0\n",
    "J = 0. * U\n",
    "Up = U - 2*J\n",
    "Jp = J\n",
    "\n",
    "model = GostGutzwiller(\n",
    "    atomic_number=data[_keys.ATOMIC_NUMBERS_KEY], \n",
    "    nocc=2, \n",
    "    basis=basis, \n",
    "    naux=1,\n",
    "    Hint_params={\n",
    "        0: [{\"U\": U, \"Up\": Up, \"J\": J, \"Jp\": Jp, \"l\": torch.tensor([[0.2, 0], [0, -0.2]])}]\n",
    "    },\n",
    "    nk=125,\n",
    "    spin_deg=True,\n",
    "    device=\"cuda\",\n",
    "    kBT=0.0257, # corresponding to 298K - kBT = 0.0257 eV\n",
    ")\n",
    "# torch.tensor([[0.2, 0], [0, -0.2]])"
   ]
  },
  {
   "cell_type": "code",
   "execution_count": null,
   "metadata": {},
   "outputs": [],
   "source": [
    "data = idp_phy(data.to(model.device))\n",
    "data = AtomicData.to_AtomicDataDict(data)"
   ]
  },
  {
   "cell_type": "code",
   "execution_count": null,
   "metadata": {},
   "outputs": [],
   "source": [
    "from gGA.nn.loss import GhostLoss, GhostLA, GhostCriteria\n",
    "from gGA.nn.optimizer import AugmentedLagrange\n",
    "\n",
    "gloss = GhostLoss()\n",
    "gla = GhostLA()\n",
    "gc = GhostCriteria()\n",
    "\n",
    "AugLA = AugmentedLagrange(\n",
    "    model, \n",
    "    lr=1e-1, \n",
    "    lossfn=gloss, \n",
    "    lagrangefn=gla, \n",
    "    criterion=gc, \n",
    "    delta=5e-3,\n",
    "    delta_la=4e-3,\n",
    "    sch_gamma=1.,\n",
    "    sch_size=100,\n",
    "    patience=30,\n",
    ")"
   ]
  },
  {
   "cell_type": "code",
   "execution_count": null,
   "metadata": {},
   "outputs": [],
   "source": [
    "# grad = [[],[]]\n",
    "# phi = []\n",
    "# density = []\n",
    "coeff = []\n",
    "for itr in range(15000):\n",
    "\n",
    "    data, loss, crit = AugLA.step(data)\n",
    "    coeff.append(model.interaction[0].singleOrbs[0].SBamp.detach().clone())\n",
    "    # density.append(data[\"variational_density\"].detach().cpu()-data[\"reduced_density_matrix\"].detach().cpu())\n",
    "    # phi.append(model.interaction[0].singleOrbs[0].SBamp.clone())\n",
    "    # param = list(model.parameters())\n",
    "    # grad[0].append(param[0].grad.clone())\n",
    "    # grad[1].append(param[1].grad.clone())\n",
    "    # AugLA.optimizer.zero_grad()\n",
    "    RTR = torch.bmm(data[_keys.R_MATRIX_KEY].transpose(1,2), data[_keys.R_MATRIX_KEY])\n",
    "    \n",
    "    if itr % 5 == 0:\n",
    "        print(\"iter {}\\t loss: {:.4f}, CC: {:.6f}, T+U: {:.4f}, T: {:.4f}, U: {:.4f}, NI: {:.3f}, devD: {:.4f}, devR: {:.4f}, lr: {:.4f}, muD: {:.1f}\".format(\n",
    "            itr, \n",
    "            loss.detach().item(),\n",
    "            crit,\n",
    "            data[_keys.TOTAL_ENERGY_KEY].detach().item()+data[_keys.INTERACTION_ENERGY_KEY].detach().item(),\n",
    "            data[_keys.TOTAL_ENERGY_KEY].detach().item(), \n",
    "            data[_keys.INTERACTION_ENERGY_KEY].detach().item(),\n",
    "            data[_keys.VARIATIONAL_DENSITY_KEY].detach().diag().sum(),\n",
    "            (data[_keys.VARIATIONAL_DENSITY_KEY].detach()-data[_keys.REDUCED_DENSITY_MATRIX_KEY].detach()).abs().max(),\n",
    "            (RTR - gla.bdiag(gla.bdiag(RTR))).abs().max(),\n",
    "            AugLA.optimizer.param_groups[0][\"lr\"],\n",
    "            AugLA.muD,\n",
    "            # AugLA.muR\n",
    "            )\n",
    "        )\n",
    "        # print((model.interaction[0].singleOrbs[0].check_B()).norm().detach().item())\n",
    "\n",
    "# torch.save(grad, \"grad.pt\")\n"
   ]
  },
  {
   "cell_type": "code",
   "execution_count": null,
   "metadata": {},
   "outputs": [],
   "source": []
  },
  {
   "cell_type": "code",
   "execution_count": null,
   "metadata": {},
   "outputs": [],
   "source": [
    "model.lagrangian[0], model.augfactor[0]"
   ]
  },
  {
   "cell_type": "code",
   "execution_count": null,
   "metadata": {},
   "outputs": [],
   "source": [
    "AugLA.optimizer_la.zero_grad()\n",
    "AugLA.optimizer.zero_grad()"
   ]
  },
  {
   "cell_type": "code",
   "execution_count": null,
   "metadata": {},
   "outputs": [],
   "source": [
    "data = model(data) # it is not T or U 's backward make gradient of SBamp explode or non-vanishing"
   ]
  },
  {
   "cell_type": "code",
   "execution_count": null,
   "metadata": {},
   "outputs": [],
   "source": [
    "err = (torch.block_diag(*model.lagrangian) * (data[_keys.REDUCED_DENSITY_MATRIX_KEY] - data[_keys.VARIATIONAL_DENSITY_KEY])**2).abs().sum()"
   ]
  },
  {
   "cell_type": "code",
   "execution_count": null,
   "metadata": {},
   "outputs": [],
   "source": [
    "err.backward()"
   ]
  },
  {
   "cell_type": "code",
   "execution_count": null,
   "metadata": {},
   "outputs": [],
   "source": [
    "for p in model.parameters():\n",
    "    print(p.grad)"
   ]
  },
  {
   "cell_type": "code",
   "execution_count": null,
   "metadata": {},
   "outputs": [],
   "source": [
    "coeff = torch.stack(coeff)"
   ]
  },
  {
   "cell_type": "code",
   "execution_count": null,
   "metadata": {},
   "outputs": [],
   "source": [
    "import matplotlib.pyplot as plt\n",
    "plt.figure(figsize=(13,3))\n",
    "plt.plot(coeff.cpu().numpy())\n",
    "plt.show()"
   ]
  },
  {
   "cell_type": "code",
   "execution_count": null,
   "metadata": {},
   "outputs": [],
   "source": [
    "import matplotlib.pyplot as plt\n",
    "plt.matshow(model.interaction[0].singleOrbs[0].Hint.to_dense().cpu(), cmap=\"bwr\", vmin=-1, vmax=1)"
   ]
  },
  {
   "cell_type": "code",
   "execution_count": null,
   "metadata": {},
   "outputs": [],
   "source": [
    "torch.linalg.eigh(model.interaction[0].singleOrbs[0].Hint.to_dense())"
   ]
  },
  {
   "cell_type": "code",
   "execution_count": null,
   "metadata": {},
   "outputs": [],
   "source": [
    "SBamp = model.interaction[0].singleOrbs[0].SBamp\n",
    "\n",
    "vnorm = SBamp.norm()\n",
    "sb = torch.cat([2*SBamp, vnorm.unsqueeze(0)**2-1]) / (vnorm**2+1)\n",
    "sb = torch.sparse_coo_tensor(model.interaction[0].singleOrbs[0].indices, sb, model.interaction[0].singleOrbs[0].size).coalesce()"
   ]
  },
  {
   "cell_type": "code",
   "execution_count": null,
   "metadata": {},
   "outputs": [],
   "source": [
    "data[\"variational_density\"]"
   ]
  },
  {
   "cell_type": "code",
   "execution_count": null,
   "metadata": {},
   "outputs": [],
   "source": [
    "import matplotlib.pyplot as plt\n",
    "plt.matshow(sb.to_dense().detach().cpu())\n",
    "plt.plot()\n",
    "plt.matshow((sb.to_dense() @ sb.to_dense().T).detach().cpu())\n",
    "plt.plot()\n",
    "plt.matshow((sb.to_dense().T @ sb.to_dense()).detach().cpu())\n",
    "plt.plot()"
   ]
  },
  {
   "cell_type": "code",
   "execution_count": null,
   "metadata": {},
   "outputs": [],
   "source": [
    "from gGA.model.operators import annis\n",
    "plt.matshow((annis[(2, 1, 0)].to_dense().T @ annis[(2, 1, 0)].to_dense()).cpu())\n",
    "plt.show()\n"
   ]
  },
  {
   "cell_type": "markdown",
   "metadata": {},
   "source": []
  },
  {
   "cell_type": "code",
   "execution_count": null,
   "metadata": {},
   "outputs": [],
   "source": [
    "import matplotlib.pyplot as plt\n",
    "phi = torch.stack(phi)"
   ]
  },
  {
   "cell_type": "code",
   "execution_count": null,
   "metadata": {},
   "outputs": [],
   "source": [
    "plt.plot((phi / phi.norm(dim=0, keepdim=True)).detach().cpu().numpy())\n",
    "plt.show()"
   ]
  },
  {
   "cell_type": "code",
   "execution_count": null,
   "metadata": {},
   "outputs": [],
   "source": [
    "model.lagrangian[0], data[\"variational_density\"], data[\"reduced_density_matrix\"]"
   ]
  },
  {
   "cell_type": "code",
   "execution_count": null,
   "metadata": {},
   "outputs": [],
   "source": [
    "model.interaction[0].compute_density().reshape(4,4)"
   ]
  },
  {
   "cell_type": "code",
   "execution_count": null,
   "metadata": {},
   "outputs": [],
   "source": [
    "data[\"r_matrix\"][0].T @ data[\"r_matrix\"][0]"
   ]
  },
  {
   "cell_type": "code",
   "execution_count": null,
   "metadata": {},
   "outputs": [],
   "source": [
    "model.interaction[0].singleOrbs[0].check_B()"
   ]
  },
  {
   "cell_type": "code",
   "execution_count": null,
   "metadata": {},
   "outputs": [],
   "source": [
    "data[_keys.VARIATIONAL_DENSITY_KEY], data[_keys.REDUCED_DENSITY_MATRIX_KEY]"
   ]
  },
  {
   "cell_type": "code",
   "execution_count": null,
   "metadata": {},
   "outputs": [],
   "source": [
    "import matplotlib.pyplot as plt\n",
    "# phi = torch.stack(phi)\n",
    "phi = phi /  phi.norm(dim=-1, keepdim=True)\n",
    "plt.figure(figsize=(10,3))\n",
    "plt.plot(phi[:,:].cpu().detach().numpy())\n",
    "# plt.plot(grad[1].cpu().abs().reshape(448,-1).max(dim=1)[0])\n",
    "plt.show()"
   ]
  },
  {
   "cell_type": "code",
   "execution_count": null,
   "metadata": {},
   "outputs": [],
   "source": [
    "import matplotlib.pyplot as plt\n",
    "\n",
    "plt.matshow(model.interaction[0].singleOrbs[0].check_sbbs().to_dense().detach().cpu(), cmap=\"bwr\", vmax=0.1, vmin=-0.1)\n",
    "plt.show()\n",
    "\n",
    "plt.matshow(model.interaction[0].singleOrbs[0].Hint.to_dense().detach().cpu(), cmap=\"bwr\", vmax=0.1, vmin=-0.1)\n",
    "plt.show()"
   ]
  },
  {
   "cell_type": "code",
   "execution_count": null,
   "metadata": {},
   "outputs": [],
   "source": [
    "model.interaction[0].singleOrbs[0].compute_density().reshape(4,4)"
   ]
  },
  {
   "cell_type": "code",
   "execution_count": null,
   "metadata": {},
   "outputs": [],
   "source": [
    "mask = (model.interaction[0].singleOrbs[0].SBamp / model.interaction[0].singleOrbs[0].SBamp.norm()).abs().gt(0.08)"
   ]
  },
  {
   "cell_type": "code",
   "execution_count": null,
   "metadata": {},
   "outputs": [],
   "source": [
    "(model.interaction[0].singleOrbs[0].SBamp / model.interaction[0].singleOrbs[0].SBamp.norm())[mask]"
   ]
  },
  {
   "cell_type": "code",
   "execution_count": null,
   "metadata": {},
   "outputs": [],
   "source": [
    "torch.tensor(model.interaction[0].singleOrbs[0].basis)[mask.cpu()]"
   ]
  },
  {
   "cell_type": "code",
   "execution_count": null,
   "metadata": {},
   "outputs": [],
   "source": [
    "vec = torch.zeros(16)\n",
    "vec[5] = 1\n",
    "vec.T @ model.interaction[0].singleOrbs[0].Hint.to_dense().cpu() @ vec"
   ]
  },
  {
   "cell_type": "code",
   "execution_count": null,
   "metadata": {},
   "outputs": [],
   "source": [
    "mask = (model.interaction[0].singleOrbs[0].SBamp.abs() / model.interaction[0].singleOrbs[0].SBamp.norm()).gt(0.05)"
   ]
  },
  {
   "cell_type": "code",
   "execution_count": null,
   "metadata": {},
   "outputs": [],
   "source": [
    "torch.cat([model.interaction[0].singleOrbs[0].basis, model.interaction[0].singleOrbs[0].SBamp.unsqueeze(1)], dim=-1)[mask]"
   ]
  },
  {
   "cell_type": "code",
   "execution_count": null,
   "metadata": {},
   "outputs": [],
   "source": [
    "import torch\n",
    "\n",
    "M = torch.randn(10,10)\n",
    "M = M + M.T\n",
    "M[:5,:5] = 0"
   ]
  },
  {
   "cell_type": "code",
   "execution_count": null,
   "metadata": {},
   "outputs": [],
   "source": [
    "A = M[:3,3:].clone()\n",
    "B = M[3:,3:].clone()\n",
    "Binv = B.inverse()\n",
    "ABinv = torch.linalg.solve(B.T, A.T).T\n",
    "inv00 = -(ABinv @ A.T).inverse()\n",
    "inv01 = -inv00 @ ABinv\n",
    "inv11 = Binv - ABinv.T @ inv01\n",
    "\n"
   ]
  },
  {
   "cell_type": "code",
   "execution_count": null,
   "metadata": {},
   "outputs": [],
   "source": [
    "import matplotlib.pyplot as plt\n",
    "plt.matshow(M.inverse() - Minv, cmap=\"bwr\", vmax=0.1, vmin=-0.1)\n",
    "plt.show()"
   ]
  },
  {
   "cell_type": "code",
   "execution_count": 40,
   "metadata": {},
   "outputs": [],
   "source": [
    "import torch\n",
    "\n",
    "a = torch.randn(12,12)\n",
    "a = a + a.T"
   ]
  },
  {
   "cell_type": "code",
   "execution_count": 41,
   "metadata": {},
   "outputs": [],
   "source": [
    "val, vec = torch.linalg.eigh(a)\n",
    "vec = vec.T[7:]"
   ]
  },
  {
   "cell_type": "code",
   "execution_count": 42,
   "metadata": {},
   "outputs": [],
   "source": [
    "dm = vec.T @ vec"
   ]
  },
  {
   "cell_type": "code",
   "execution_count": 43,
   "metadata": {},
   "outputs": [],
   "source": [
    "bath = dm[4:,4:] # 4 spin orbital (interaction), 8 bath spin orbital"
   ]
  },
  {
   "cell_type": "code",
   "execution_count": 44,
   "metadata": {},
   "outputs": [],
   "source": [
    "bval, bvec = torch.linalg.eigh(bath)\n",
    "bvec = bvec.T[[3,4,5,6,0,1,2,7]]\n",
    "bval = bval[[3,4,5,6,0,1,2,7]]"
   ]
  },
  {
   "cell_type": "code",
   "execution_count": 45,
   "metadata": {},
   "outputs": [
    {
     "data": {
      "text/plain": [
       "tensor([ 4.4934e-01,  5.0382e-01,  6.5473e-01,  8.4197e-01, -1.0670e-07,\n",
       "        -2.6161e-08,  6.1539e-08,  1.0000e+00])"
      ]
     },
     "execution_count": 45,
     "metadata": {},
     "output_type": "execute_result"
    }
   ],
   "source": [
    "bval"
   ]
  },
  {
   "cell_type": "code",
   "execution_count": 46,
   "metadata": {},
   "outputs": [],
   "source": [
    "b = dm.clone()\n",
    "b[4:,4:] = bvec @ b[4:,4:] @ bvec.T\n",
    "b[4:,:4] = bvec @ b[4:,:4]\n",
    "b[:4, 4:] = b[:4, 4:] @ bvec.T\n",
    "\n",
    "hb = a.clone()\n",
    "hb[4:,4:] = bvec @ hb[4:,4:] @ bvec.T\n",
    "hb[4:,:4] = bvec @ hb[4:,:4]\n",
    "hb[:4, 4:] = hb[:4, 4:] @ bvec.T"
   ]
  },
  {
   "cell_type": "code",
   "execution_count": 47,
   "metadata": {},
   "outputs": [
    {
     "data": {
      "image/png": "[encoded data removed]",
      "text/plain": [
       "<Figure size 480x480 with 1 Axes>"
      ]
     },
     "metadata": {},
     "output_type": "display_data"
    },
    {
     "data": {
      "image/png": "[encoded data removed]",
      "text/plain": [
       "<Figure size 480x480 with 1 Axes>"
      ]
     },
     "metadata": {},
     "output_type": "display_data"
    }
   ],
   "source": [
    "import matplotlib.pyplot as plt\n",
    "plt.matshow(b, cmap=\"bwr\", vmax=0.1, vmin=-0.1)\n",
    "plt.show()\n",
    "\n",
    "plt.matshow(hb, cmap=\"bwr\", vmax=0.1, vmin=-0.1)\n",
    "plt.show()"
   ]
  },
  {
   "cell_type": "code",
   "execution_count": 48,
   "metadata": {},
   "outputs": [],
   "source": [
    "ibval, ibvec = torch.linalg.eigh(b[:8,:8])\n",
    "ibvec = ibvec.T"
   ]
  },
  {
   "cell_type": "code",
   "execution_count": 49,
   "metadata": {},
   "outputs": [],
   "source": [
    "dcb = hb.clone()\n",
    "dcb[:8,:8] = ibvec @ dcb[:8,:8] @ ibvec.T\n",
    "dcb[:8,8:] = ibvec @ dcb[:8,8:]\n",
    "dcb[8:,:8] = dcb[8:,:8] @ ibvec.T\n",
    "\n",
    "dcdm = b.clone()\n",
    "dcdm[:8,:8] = ibvec @ dcdm[:8,:8] @ ibvec.T\n",
    "dcdm[:8,8:] = ibvec @ dcdm[:8,8:]\n",
    "dcdm[8:,:8] = dcdm[8:,:8] @ ibvec.T"
   ]
  },
  {
   "cell_type": "code",
   "execution_count": 50,
   "metadata": {},
   "outputs": [
    {
     "data": {
      "image/png": "[encoded data removed]",
      "text/plain": [
       "<Figure size 480x480 with 1 Axes>"
      ]
     },
     "metadata": {},
     "output_type": "display_data"
    },
    {
     "data": {
      "image/png": "[encoded data removed]",
      "text/plain": [
       "<Figure size 480x480 with 1 Axes>"
      ]
     },
     "metadata": {},
     "output_type": "display_data"
    }
   ],
   "source": [
    "plt.matshow(dcb, cmap=\"bwr\", vmax=0.1, vmin=-0.1)\n",
    "plt.show()\n",
    "plt.matshow(dcdm, cmap=\"bwr\", vmax=0.1, vmin=-0.1)\n",
    "plt.show()"
   ]
  },
  {
   "cell_type": "code",
   "execution_count": 51,
   "metadata": {},
   "outputs": [],
   "source": [
    "cdcb = dcb.clone()\n",
    "\n",
    "_, bath_transform = torch.linalg.eigh(cdcb[8:11, 8:11])\n",
    "bath_transform = bath_transform.T"
   ]
  },
  {
   "cell_type": "code",
   "execution_count": 52,
   "metadata": {},
   "outputs": [],
   "source": [
    "cdcb[8:11, :] = bath_transform @ cdcb[8:11, :]\n",
    "cdcb[:, 8:11] = cdcb[:, 8:11] @ bath_transform.T\n",
    "\n",
    "conduction = torch.zeros(7,7)\n",
    "conduction[:4,:4] = cdcb[:4,:4]\n",
    "conduction[:4,4:] = cdcb[:4,8:11]\n",
    "conduction[4:,:4] = cdcb[8:11,:4]\n",
    "conduction[4:,4:] = cdcb[8:11,8:11]"
   ]
  },
  {
   "cell_type": "code",
   "execution_count": 53,
   "metadata": {},
   "outputs": [
    {
     "data": {
      "image/png": "[encoded data removed]",
      "text/plain": [
       "<Figure size 480x480 with 1 Axes>"
      ]
     },
     "metadata": {},
     "output_type": "display_data"
    },
    {
     "data": {
      "image/png": "[encoded data removed]",
      "text/plain": [
       "<Figure size 480x480 with 1 Axes>"
      ]
     },
     "metadata": {},
     "output_type": "display_data"
    }
   ],
   "source": [
    "plt.matshow(cdcb, cmap=\"bwr\", vmax=1, vmin=-1)\n",
    "plt.show()\n",
    "plt.matshow(conduction, cmap=\"bwr\", vmax=1, vmin=-1)\n",
    "plt.show()"
   ]
  },
  {
   "cell_type": "code",
   "execution_count": 57,
   "metadata": {},
   "outputs": [
    {
     "name": "stdout",
     "output_type": "stream",
     "text": [
      "tensor([[ 1.5017e-01,  2.0544e-07, -2.1078e-09, -3.6832e-07],\n",
      "        [ 2.2027e-07,  8.4198e-01, -1.0613e-07,  2.3572e-07],\n",
      "        [ 4.4580e-08, -9.4624e-08,  3.3759e+00, -3.9509e-07],\n",
      "        [-3.3275e-07,  2.5382e-07, -4.4615e-07,  8.8702e+00]])\n",
      "tensor([[-0.0759,  0.1972, -0.3207,  0.0518],\n",
      "        [-0.0432, -0.4610, -0.1475,  0.7783],\n",
      "        [ 1.7987,  0.0994, -0.3495,  0.0926],\n",
      "        [-0.0983, -2.0756, -1.4986, -1.5188]])\n"
     ]
    }
   ],
   "source": [
    "a = torch.randn(4,4)\n",
    "_, vec = torch.linalg.eigh(a @ a.T)\n",
    "vec = vec.T\n",
    "print(vec @ a @ a.T @ vec.T)\n",
    "print(vec @ a)"
   ]
  },
  {
   "cell_type": "code",
   "execution_count": 278,
   "metadata": {},
   "outputs": [],
   "source": [
    "import scipy as sp\n",
    "import numpy as np\n",
    "\n",
    "N = 8\n",
    "a = np.random.randn(N,N)\n",
    "a = a + a.T\n",
    "a = a + 30 * np.eye(N)\n",
    "a[0][0] = 28\n",
    "\n",
    "# a = np.random.randn(100,100)\n",
    "# a = a+ a.T"
   ]
  },
  {
   "cell_type": "code",
   "execution_count": 279,
   "metadata": {},
   "outputs": [],
   "source": [
    "eigmin = np.linalg.eigvalsh(a).min()"
   ]
  },
  {
   "cell_type": "code",
   "execution_count": 284,
   "metadata": {},
   "outputs": [],
   "source": [
    "q = np.zeros(N)\n",
    "q[0] = 1\n",
    "# q = np.random.randn(a.shape[0])\n",
    "# q = q / np.linalg.norm(q)\n",
    "es = []\n",
    "for i in range(2,N+1):\n",
    "    Q = lanczos(a,2,i)\n",
    "    es.append(np.linalg.eigvalsh(Q.T @ a @ Q).min()-eigmin)"
   ]
  },
  {
   "cell_type": "code",
   "execution_count": 285,
   "metadata": {},
   "outputs": [
    {
     "data": {
      "image/png": "[encoded data removed]",
      "text/plain": [
       "<Figure size 480x480 with 1 Axes>"
      ]
     },
     "metadata": {},
     "output_type": "display_data"
    }
   ],
   "source": [
    "import matplotlib.pyplot as plt\n",
    "plt.matshow(Q.T @ a @ Q, cmap=\"bwr\", vmax=0.1, vmin=-0.1)\n",
    "plt.show()"
   ]
  },
  {
   "cell_type": "code",
   "execution_count": 251,
   "metadata": {},
   "outputs": [
    {
     "data": {
      "text/plain": [
       "array([[ 1.        ,  0.        ,  0.        ,  0.        ,  0.        ],\n",
       "       [ 0.        ,  1.        ,  0.        ,  0.        ,  0.        ],\n",
       "       [ 0.        ,  0.        , -0.60339793,  0.577973  ,  0.5494162 ],\n",
       "       [ 0.        ,  0.        ,  0.41403625, -0.36176473,  0.83528454],\n",
       "       [ 0.        ,  0.        , -0.68153131, -0.73148718,  0.02101369]])"
      ]
     },
     "execution_count": 251,
     "metadata": {},
     "output_type": "execute_result"
    }
   ],
   "source": [
    "Q"
   ]
  },
  {
   "cell_type": "code",
   "execution_count": 215,
   "metadata": {},
   "outputs": [
    {
     "data": {
      "image/png": "[encoded data removed]",
      "text/plain": [
       "<Figure size 700x250 with 1 Axes>"
      ]
     },
     "metadata": {},
     "output_type": "display_data"
    }
   ],
   "source": [
    "import matplotlib.pyplot as plt\n",
    "\n",
    "fig = plt.figure(figsize=(7,2.5))\n",
    "plt.plot(es)\n",
    "plt.yscale(\"log\")\n",
    "plt.show()"
   ]
  },
  {
   "cell_type": "code",
   "execution_count": null,
   "metadata": {},
   "outputs": [],
   "source": [
    "from numpy import sqrt, newaxis, dot, conj, array, zeros, ndim, append\n",
    "import numpy as np\n",
    "import scipy.sparse as sps\n",
    "import warnings\n",
    "\n",
    "def lanczos(A, s=None, m=None):\n",
    "    \"\"\"\n",
    "    Use m steps of the lanczos algorithm starting with q to generate\n",
    "    the tridiagonal form of this matrix(The traditional scalar version).\n",
    "\n",
    "    Parameters:\n",
    "        :A: A sparse hermitian matrix.\n",
    "        :s: The starting site, the 1-s site will be treated as a block.\n",
    "        :m: The steps to run.\n",
    "        :getbasis: Return basis vectors if True.\n",
    "\n",
    "    Return:\n",
    "        Tridiagonal part elements (data,offset),\n",
    "        | data -> (lower part, middle part, upper part)\n",
    "        | offset -> (-1, 0, 1) to indicate the value of (j-i) of specific data with i,j the matrix element indices.\n",
    "\n",
    "    To construct the matrix, set the block-matrix elements with block indices j-i == offset[k] to data[k].\n",
    "    This is exactly what `construct_tridmat` function do.\n",
    "\n",
    "    **Note:** The initial vector q will be renormalized to guarant the correctness of result,\n",
    "    \"\"\"\n",
    "    if sps.issparse(A): A=A.toarray()\n",
    "    if m==None:\n",
    "        m=A.shape[0]\n",
    "\n",
    "    if s is None:\n",
    "        s = 1\n",
    "\n",
    "    #initialize states\n",
    "    Q = np.zeros((A.shape[0],s))\n",
    "    Q[:s,:s] = np.eye(s)\n",
    "    \n",
    "    #run steps\n",
    "    for i in range(s-1,m):\n",
    "        Q_=Q[:,i]\n",
    "        z = A.dot(Q_)\n",
    "        tmp = dot(conj(Q.T), z)\n",
    "        tmp = dot(Q, tmp)\n",
    "        z = z - tmp\n",
    "        beta_i = sqrt(dot(conj(z),z))\n",
    "        if i==m-1: break\n",
    "        z=z/beta_i\n",
    "        Q_i=icgs(z[:,newaxis],Q)\n",
    "        Q=append(Q,Q_i,axis=-1)\n",
    "\n",
    "    return Q\n",
    "\n",
    "def icgs(u,Q,M=None,return_norm=False,maxiter=3):\n",
    "    '''\n",
    "    Iterative Classical M-orthogonal Gram-Schmidt orthogonalization.\n",
    "\n",
    "    Parameters:\n",
    "        :u: vector, the column vector to be orthogonalized.\n",
    "        :Q: matrix, the search space.\n",
    "        :M: matrix/None, the matrix, if provided, perform M-orthogonal.\n",
    "        :return_norm: bool, return the norm of u.\n",
    "        :maxiter: int, the maximum number of iteractions.\n",
    "\n",
    "    Return:\n",
    "        vector, orthogonalized vector u.\n",
    "    '''\n",
    "    assert(ndim(u)==2)\n",
    "    uH,QH=u.T.conj(),Q.T.conj()\n",
    "    alpha=0.5\n",
    "    it=1\n",
    "    Mu=M.dot(u) if M is not None else u\n",
    "    r_pre=np.linalg.norm(uH.dot(Mu))\n",
    "    for it in range(maxiter):\n",
    "        u=u-Q.dot(QH.dot(Mu))\n",
    "        Mu=M.dot(u) if M is not None else u\n",
    "        r1=np.linalg.norm(uH.dot(Mu))\n",
    "        if r1>alpha*r_pre:\n",
    "            break\n",
    "        r_pre=r1\n",
    "    if r1<=alpha*r_pre:\n",
    "        warnings.warn('loss of orthogonality @icgs.')\n",
    "    return (u,r1) if return_norm else u"
   ]
  },
  {
   "cell_type": "code",
   "execution_count": 318,
   "metadata": {},
   "outputs": [
    {
     "name": "stdout",
     "output_type": "stream",
     "text": [
      "Original matrix:\n",
      "[[ 0.49671415  0.05184899  0.05165291  0.86594673  0.05473246 -0.3566556\n",
      "   0.77169339 -0.02052944 -0.08667705  0.40005522  0.16380713 -0.76401673]\n",
      " [ 0.05184899 -1.91328024 -0.80699762 -1.26097883 -1.38793564  0.06429418\n",
      "   0.32830979 -0.95703037  0.86335202 -0.15011111 -0.42092963 -0.47557788]\n",
      " [ 0.05165291 -0.80699762 -1.15099358 -0.47624402 -0.13827736 -0.69901436\n",
      "  -1.61072586  1.38384015 -0.00419188 -1.48824107  1.11266961 -1.07013394]\n",
      " [ 0.86594673 -1.26097883 -0.47624402  0.19686124  0.17669215 -0.51241917\n",
      "   0.35312711  0.01382371 -0.85655456 -0.37317904 -0.93124492  1.30352832]\n",
      " [ 0.05473246 -1.38793564 -0.13827736  0.17669215 -0.676922    0.71210106\n",
      "   0.5590233   0.20075996 -1.12729413 -0.12449108  0.45906026  0.09614592]\n",
      " [-0.3566556   0.06429418 -0.69901436 -0.51241917  0.71210106  1.35624003\n",
      "  -0.18550874  0.75840017 -0.02950465  0.90906118  1.27592562  0.60798753]\n",
      " [ 0.77169339  0.32830979 -1.61072586  0.35312711  0.5590233  -0.18550874\n",
      "   0.09176078 -0.94524568 -0.2811932   0.0823758   0.24367886  0.1476235 ]\n",
      " [-0.02052944 -0.95703037  1.38384015  0.01382371  0.20075996  0.75840017\n",
      "  -0.94524568  0.96864499 -0.75216518 -0.0130574  -0.47920294 -1.34718963]\n",
      " [-0.08667705  0.86335202 -0.00419188 -0.85655456 -1.12729413 -0.02950465\n",
      "  -0.2811932  -0.75216518 -0.16128571  0.18466954  0.99291863  0.20101887]\n",
      " [ 0.40005522 -0.15011111 -1.48824107 -0.37317904 -0.12449108  0.90906118\n",
      "   0.0823758  -0.0130574   0.18466954 -1.16867804  0.31967358  1.02953789]\n",
      " [ 0.16380713 -0.42092963  1.11266961 -0.93124492  0.45906026  1.27592562\n",
      "   0.24367886 -0.47920294  0.99291863  0.31967358 -1.55066343 -0.76946013]\n",
      " [-0.76401673 -0.47557788 -1.07013394  1.30352832  0.09614592  0.60798753\n",
      "   0.1476235  -1.34718963  0.20101887  1.02953789 -0.76946013  0.18463386]]\n",
      "\n",
      "Block tridiagonal matrix:\n",
      "[[ 0.49671415  0.05184899 -1.50225637  0.          0.          0.\n",
      "   0.          0.          0.          0.          0.          0.        ]\n",
      " [ 0.05184899 -1.91328024  0.53253616 -2.46640987  0.          0.\n",
      "   0.          0.          0.          0.          0.          0.        ]\n",
      " [-1.50225637  0.53253616 -0.69104911 -0.03922864 -3.68541982  0.\n",
      "   0.          0.          0.          0.          0.          0.        ]\n",
      " [ 0.         -2.46640987 -0.03922864  0.7968116   1.49378067 -5.00553876\n",
      "   0.          0.          0.          0.          0.          0.        ]\n",
      " [ 0.          0.         -3.68541982  1.49378067  0.14166114  0.14494303\n",
      "  -6.16285035  0.          0.          0.          0.          0.        ]\n",
      " [ 0.          0.          0.         -5.00553876  0.14494303  0.25375841\n",
      "   1.39085326  6.75200823  0.          0.          0.          0.        ]\n",
      " [ 0.          0.          0.          0.         -6.16285035  1.39085326\n",
      "  -0.86868332 -0.55224429  8.6188807   0.          0.          0.        ]\n",
      " [ 0.          0.          0.          0.          0.          6.75200823\n",
      "  -0.55224429  1.11785031  0.16165659 -8.11335152  0.          0.        ]\n",
      " [ 0.          0.          0.          0.          0.          0.\n",
      "   8.6188807   0.16165659 -0.71942647 -0.3375019   6.54152982  0.        ]\n",
      " [ 0.          0.          0.          0.          0.          0.\n",
      "   0.         -8.11335152 -0.3375019   1.1577365  -0.8668618  10.17777148]\n",
      " [ 0.          0.          0.          0.          0.          0.\n",
      "   0.          0.          6.54152982 -0.8668618  -1.09215937 -0.01911365]\n",
      " [ 0.          0.          0.          0.          0.          0.\n",
      "   0.          0.          0.         10.17777148 -0.01911365 -2.00690156]]\n",
      "\n",
      "Verification:\n",
      "First block preserved: True\n",
      "Matrix is symmetric: True\n",
      "Block tridiagonal structure maintained: True\n",
      "Orthogonal transformation preserved properties: False\n"
     ]
    },
    {
     "data": {
      "image/png": "[encoded data removed]",
      "text/plain": [
       "<Figure size 480x480 with 1 Axes>"
      ]
     },
     "metadata": {},
     "output_type": "display_data"
    },
    {
     "data": {
      "image/png": "[encoded data removed]",
      "text/plain": [
       "<Figure size 480x480 with 1 Axes>"
      ]
     },
     "metadata": {},
     "output_type": "display_data"
    }
   ],
   "source": [
    "import numpy as np\n",
    "from scipy import linalg\n",
    "\n",
    "def block_lanczos(A, block_size, max_iterations=None):\n",
    "    \"\"\"\n",
    "    Perform block Lanczos tridiagonalization while preserving the first block.\n",
    "    \n",
    "    Args:\n",
    "        A (numpy.ndarray): Input symmetric matrix of size n×n\n",
    "        block_size (int): Size of blocks (m×m)\n",
    "        max_iterations (int): Maximum number of iterations (default: None)\n",
    "        \n",
    "    Returns:\n",
    "        T (numpy.ndarray): Block tridiagonal matrix\n",
    "        V (numpy.ndarray): Matrix of Lanczos vectors\n",
    "    \"\"\"\n",
    "    n = A.shape[0]\n",
    "    if n % block_size != 0:\n",
    "        raise ValueError(\"Matrix size must be divisible by block_size\")\n",
    "    \n",
    "    num_blocks = n // block_size\n",
    "    if max_iterations is None:\n",
    "        max_iterations = num_blocks\n",
    "    \n",
    "    # Initialize arrays to store results\n",
    "    T = np.zeros_like(A)\n",
    "    V = np.zeros((n, n))  # Store Lanczos vectors\n",
    "    \n",
    "    # Initialize first block vector (normalized)\n",
    "    V_prev = np.zeros((n, block_size))\n",
    "    V_curr = np.eye(n, block_size)  # Start with identity block\n",
    "    q, r = np.linalg.qr(V_curr)  # QR decomposition for orthonormalization\n",
    "    V_curr = q\n",
    "    \n",
    "    # Store first Lanczos vectors\n",
    "    V[:, :block_size] = V_curr\n",
    "    \n",
    "    # First block multiplication\n",
    "    W = A @ V_curr\n",
    "    \n",
    "    # First diagonal block\n",
    "    alpha = V_curr.T @ W\n",
    "    T[:block_size, :block_size] = alpha\n",
    "    W = W - V_curr @ alpha\n",
    "    \n",
    "    for j in range(1, max_iterations):\n",
    "        start_j = j * block_size\n",
    "        end_j = start_j + block_size\n",
    "        \n",
    "        # Skip if we've reached the end\n",
    "        if end_j > n:\n",
    "            break\n",
    "            \n",
    "        # Compute beta (off-diagonal block)\n",
    "        q, beta = np.linalg.qr(W)\n",
    "        V_next = q\n",
    "        \n",
    "        # Reorthogonalization against previous vectors\n",
    "        for k in range(j):\n",
    "            start_k = k * block_size\n",
    "            end_k = start_k + block_size\n",
    "            proj = V[:, start_k:end_k].T @ V_next\n",
    "            V_next = V_next - V[:, start_k:end_k] @ proj\n",
    "        \n",
    "        # Reorthogonalize again and normalize\n",
    "        q, r = np.linalg.qr(V_next)\n",
    "        V_next = q\n",
    "        \n",
    "        # Store the Lanczos vectors\n",
    "        V[:, start_j:end_j] = V_next\n",
    "        \n",
    "        # Store beta blocks\n",
    "        T[start_j:end_j, start_j-block_size:start_j] = beta\n",
    "        T[start_j-block_size:start_j, start_j:end_j] = beta.T\n",
    "        \n",
    "        # Compute new W\n",
    "        W = A @ V_next - V_curr @ beta.T\n",
    "        \n",
    "        # Compute and store alpha\n",
    "        alpha = V_next.T @ W\n",
    "        T[start_j:end_j, start_j:end_j] = alpha\n",
    "        \n",
    "        # Update W\n",
    "        W = W - V_next @ alpha\n",
    "        \n",
    "        # Update V vectors for next iteration\n",
    "        V_prev = V_curr\n",
    "        V_curr = V_next\n",
    "        \n",
    "    return T, V\n",
    "\n",
    "def verify_tridiagonal_structure(matrix, block_size):\n",
    "    \"\"\"\n",
    "    Verify the block tridiagonal structure of the matrix.\n",
    "    \"\"\"\n",
    "    n = matrix.shape[0]\n",
    "    num_blocks = n // block_size\n",
    "    \n",
    "    for i in range(num_blocks):\n",
    "        for j in range(num_blocks):\n",
    "            if abs(i-j) > 1:\n",
    "                start_i = i * block_size\n",
    "                end_i = start_i + block_size\n",
    "                start_j = j * block_size\n",
    "                end_j = start_j + block_size\n",
    "                block = matrix[start_i:end_i, start_j:end_j]\n",
    "                if not np.allclose(block, 0, atol=1e-10):\n",
    "                    return False\n",
    "    return True\n",
    "\n",
    "# Example usage and testing\n",
    "def run_example():\n",
    "    # Create a test matrix\n",
    "    n = 12  # Matrix size\n",
    "    m = 2  # Block size\n",
    "    np.random.seed(42)\n",
    "    \n",
    "    # Create a symmetric matrix\n",
    "    A = np.random.randn(n, n)\n",
    "    A = (A + A.T) / 2\n",
    "    \n",
    "    # Perform block Lanczos\n",
    "    T, V = block_lanczos(A, m)\n",
    "    \n",
    "    print(\"Original matrix:\")\n",
    "    print(A)\n",
    "    print(\"\\nBlock tridiagonal matrix:\")\n",
    "    print(T)\n",
    "    \n",
    "    # Verify properties\n",
    "    print(\"\\nVerification:\")\n",
    "    print(\"First block preserved:\", np.allclose(A[:m, :m], T[:m, :m]))\n",
    "    print(\"Matrix is symmetric:\", np.allclose(T, T.T))\n",
    "    print(\"Block tridiagonal structure maintained:\", \n",
    "          verify_tridiagonal_structure(T, m))\n",
    "    \n",
    "    # Verify the transformation\n",
    "    print(\"Orthogonal transformation preserved properties:\", \n",
    "          np.allclose(V.T @ A @ V, T))\n",
    "    \n",
    "    return A, T, V\n",
    "\n",
    "A, T, V = run_example()\n",
    "import matplotlib.pyplot as plt\n",
    "\n",
    "plt.matshow(A, cmap=\"bwr\", vmax=1, vmin=-1)\n",
    "plt.show()\n",
    "\n",
    "plt.matshow(T, cmap=\"bwr\", vmax=1, vmin=-1)\n",
    "plt.show()"
   ]
  },
  {
   "cell_type": "code",
   "execution_count": 314,
   "metadata": {},
   "outputs": [
    {
     "name": "stdout",
     "output_type": "stream",
     "text": [
      "\n",
      "Verification Results:\n",
      "Orthogonality Error: 4.44e-16\n",
      "Transformation Error: 9.64e-01\n",
      "Block Preservation Error: 0.00e+00\n",
      "Structure Valid: True\n",
      "\n",
      "Original matrix:\n",
      "[[0.37454012 0.77591466 0.51811809 0.52736423 0.11053512 0.13901638\n",
      "  0.30239695 0.47733432]\n",
      " [0.77591466 0.70807258 0.27267046 0.87754291 0.89066409 0.35375801\n",
      "  0.18333971 0.18969369]\n",
      " [0.51811809 0.27267046 0.43194502 0.24545146 0.78874246 0.08694119\n",
      "  0.63086464 0.20579457]\n",
      " [0.52736423 0.87754291 0.24545146 0.51423444 0.70040596 0.47788541\n",
      "  0.69133884 0.24792723]\n",
      " [0.11053512 0.89066409 0.78874246 0.70040596 0.30461377 0.17822605\n",
      "  0.81186598 0.41441489]\n",
      " [0.13901638 0.35375801 0.08694119 0.47788541 0.17822605 0.66252228\n",
      "  0.60326921 0.39570853]\n",
      " [0.30239695 0.18333971 0.63086464 0.69133884 0.81186598 0.60326921\n",
      "  0.59789998 0.87530587]\n",
      " [0.47733432 0.18969369 0.20579457 0.24792723 0.41441489 0.39570853\n",
      "  0.87530587 0.35675333]]\n",
      "\n",
      "Transformed matrix:\n",
      "[[ 0.37454012  0.77591466  0.51811809  0.52736423  0.          0.\n",
      "   0.          0.        ]\n",
      " [ 0.77591466  0.70807258  0.27267046  0.87754291  0.          0.\n",
      "   0.          0.        ]\n",
      " [ 0.51811809  0.27267046  0.43194502  0.24545146  0.          0.\n",
      "   0.          0.        ]\n",
      " [ 0.52736423  0.87754291  0.24545146  0.51423444 -1.12176658  0.\n",
      "   0.          0.        ]\n",
      " [ 0.          0.          0.         -1.12176658  1.94725635  0.72310532\n",
      "   0.          0.        ]\n",
      " [ 0.          0.          0.          0.          0.72310532  0.14472711\n",
      "  -0.0721781   0.        ]\n",
      " [ 0.          0.          0.          0.          0.         -0.0721781\n",
      "   0.36273743 -0.12363834]\n",
      " [ 0.          0.          0.          0.          0.          0.\n",
      "  -0.12363834 -0.53293154]]\n",
      "\n",
      "Non-zero pattern:\n",
      "[[1 1 1 1 0 0 0 0]\n",
      " [1 1 1 1 0 0 0 0]\n",
      " [1 1 1 1 0 0 0 0]\n",
      " [1 1 1 1 1 0 0 0]\n",
      " [0 0 0 1 1 1 0 0]\n",
      " [0 0 0 0 1 1 1 0]\n",
      " [0 0 0 0 0 1 1 1]\n",
      " [0 0 0 0 0 0 1 1]]\n"
     ]
    }
   ],
   "source": [
    "import numpy as np\n",
    "from scipy import linalg\n",
    "\n",
    "def householder_vector(x):\n",
    "    \"\"\"\n",
    "    Compute Householder vector to zero out elements.\n",
    "    \"\"\"\n",
    "    n = len(x)\n",
    "    v = x.copy()\n",
    "    norm_x = np.linalg.norm(x)\n",
    "    \n",
    "    if norm_x < 1e-15:\n",
    "        return np.zeros_like(x)\n",
    "    \n",
    "    if x[0] >= 0:\n",
    "        v[0] += norm_x\n",
    "    else:\n",
    "        v[0] -= norm_x\n",
    "        \n",
    "    v = v / np.linalg.norm(v)\n",
    "    return v\n",
    "\n",
    "def apply_householder(A, v, side='both'):\n",
    "    \"\"\"\n",
    "    Apply Householder transformation to matrix A.\n",
    "    \"\"\"\n",
    "    H = np.eye(A.shape[0]) - 2 * np.outer(v, v)\n",
    "    if side == 'both':\n",
    "        return H @ A @ H\n",
    "    elif side == 'left':\n",
    "        return H @ A\n",
    "    else:  # right\n",
    "        return A @ H\n",
    "\n",
    "def hybrid_tridiagonalization(A, block_size):\n",
    "    \"\"\"\n",
    "    Hybrid tridiagonalization preserving first block_size × block_size block\n",
    "    using Householder for block part and Lanczos for scalar part.\n",
    "    \"\"\"\n",
    "    n = A.shape[0]\n",
    "    if not np.allclose(A, A.T):\n",
    "        raise ValueError(\"Matrix must be symmetric\")\n",
    "    \n",
    "    # Make working copy\n",
    "    T = A.copy()\n",
    "    V = np.eye(n)\n",
    "    \n",
    "    # Step 1: Preserve the first block\n",
    "    block = T[:block_size, :block_size].copy()\n",
    "    \n",
    "    # Step 2: Use Householder to handle transition region\n",
    "    for i in range(block_size, n-1):\n",
    "        # Get the column we want to zero out\n",
    "        x = T[i+1:, i].copy()\n",
    "        \n",
    "        if np.linalg.norm(x) > 1e-15:\n",
    "            # Compute Householder vector\n",
    "            v = np.zeros(n)\n",
    "            v[i+1:] = householder_vector(x)\n",
    "            \n",
    "            # Apply transformation\n",
    "            T = apply_householder(T, v, 'both')\n",
    "            V = V @ (np.eye(n) - 2 * np.outer(v, v))\n",
    "    \n",
    "    # Step 3: Restore the first block\n",
    "    T[:block_size, :block_size] = block\n",
    "    \n",
    "    # Step 4: Clean up numerical errors\n",
    "    # Make sure the matrix is symmetric\n",
    "    T = (T + T.T) / 2\n",
    "    \n",
    "    # Zero out elements that should be zero\n",
    "    for i in range(n):\n",
    "        for j in range(n):\n",
    "            if i < block_size and j >= block_size and j > block_size:\n",
    "                T[i,j] = T[j,i] = 0\n",
    "            if i >= block_size and j >= block_size and abs(i-j) > 1:\n",
    "                T[i,j] = T[j,i] = 0\n",
    "            \n",
    "    return T, V\n",
    "\n",
    "def verify_results(A, T, V, block_size, tol=1e-10):\n",
    "    \"\"\"\n",
    "    Comprehensive verification of the transformation results.\n",
    "    \"\"\"\n",
    "    n = A.shape[0]\n",
    "    results = {}\n",
    "    \n",
    "    # Check if V is orthogonal\n",
    "    VTV = V.T @ V\n",
    "    results['orthogonality_error'] = np.max(np.abs(VTV - np.eye(n)))\n",
    "    \n",
    "    # Check if transformation works\n",
    "    VTAV = V.T @ A @ V\n",
    "    results['transformation_error'] = np.max(np.abs(VTAV - T))\n",
    "    \n",
    "    # Check if first block is preserved\n",
    "    results['block_preservation_error'] = np.max(np.abs(A[:block_size, :block_size] - T[:block_size, :block_size]))\n",
    "    \n",
    "    # Check tridiagonal structure after block\n",
    "    structure_valid = True\n",
    "    for i in range(block_size, n):\n",
    "        for j in range(block_size, n):\n",
    "            if abs(i-j) > 1 and abs(T[i,j]) > tol:\n",
    "                structure_valid = False\n",
    "                break\n",
    "    results['structure_valid'] = structure_valid\n",
    "    \n",
    "    return results\n",
    "\n",
    "def run_test():\n",
    "    # Create test matrix\n",
    "    n = 8\n",
    "    block_size = 3\n",
    "    np.random.seed(42)\n",
    "    \n",
    "    # Create symmetric matrix\n",
    "    A = np.random.rand(n, n)\n",
    "    A = (A + A.T) / 2\n",
    "    \n",
    "    # Perform transformation\n",
    "    T, V = hybrid_tridiagonalization(A, block_size)\n",
    "    \n",
    "    # Verify results\n",
    "    results = verify_results(A, T, V, block_size)\n",
    "    \n",
    "    print(\"\\nVerification Results:\")\n",
    "    print(f\"Orthogonality Error: {results['orthogonality_error']:.2e}\")\n",
    "    print(f\"Transformation Error: {results['transformation_error']:.2e}\")\n",
    "    print(f\"Block Preservation Error: {results['block_preservation_error']:.2e}\")\n",
    "    print(f\"Structure Valid: {results['structure_valid']}\")\n",
    "    \n",
    "    print(\"\\nOriginal matrix:\")\n",
    "    print(A)\n",
    "    print(\"\\nTransformed matrix:\")\n",
    "    print(T)\n",
    "    print(\"\\nNon-zero pattern:\")\n",
    "    print(np.where(np.abs(T) > 1e-10, 1, 0))\n",
    "    \n",
    "    return A, T, V, results\n",
    "\n",
    "# Run test\n",
    "A, T, V, results = run_test()"
   ]
  },
  {
   "cell_type": "code",
   "execution_count": 20,
   "metadata": {},
   "outputs": [
    {
     "name": "stdout",
     "output_type": "stream",
     "text": [
      "Original Hamiltonian:\n",
      " [[1.  0.3 0.1 0. ]\n",
      " [0.3 2.  0.2 0.1]\n",
      " [0.1 0.2 3.  0.4]\n",
      " [0.  0.1 0.4 4. ]]\n",
      "\n",
      "Tridiagonalized Hamiltonian:\n",
      " [[1.  0.3 0.  0. ]\n",
      " [0.3 2.  0.2 0. ]\n",
      " [0.  0.2 3.  0.4]\n",
      " [0.  0.  0.4 4. ]]\n"
     ]
    }
   ],
   "source": [
    "import numpy as np\n",
    "import scipy.linalg as la\n",
    "\n",
    "def non_interacting_tridiagonalization(H_original):\n",
    "    \"\"\"\n",
    "    Tridiagonalize a non-interacting Hamiltonian\n",
    "    \n",
    "    Parameters:\n",
    "    -----------\n",
    "    H_original : ndarray\n",
    "        Original Hamiltonian matrix with non-interacting couplings\n",
    "    \n",
    "    Returns:\n",
    "    --------\n",
    "    H_tridi : ndarray\n",
    "        Tridiagonalized Hamiltonian preserving original structure\n",
    "    \"\"\"\n",
    "    # Symmetric tridiagonalization using Lanczos algorithm variant\n",
    "    n = H_original.shape[0]\n",
    "    H_tridi = np.zeros_like(H_original)\n",
    "    \n",
    "    # Preserve diagonal elements\n",
    "    np.fill_diagonal(H_tridi, np.diag(H_original))\n",
    "    \n",
    "    # Construct tridiagonal structure\n",
    "    for i in range(n-1):\n",
    "        # Diagonal coupling to next site\n",
    "        H_tridi[i, i+1] = H_original[i, i+1]\n",
    "        H_tridi[i+1, i] = H_original[i+1, i]\n",
    "    \n",
    "    return H_tridi\n",
    "\n",
    "# Example usage\n",
    "def example():\n",
    "    # Create a sample Hamiltonian with non-interacting couplings\n",
    "    H = np.array([\n",
    "        [1.0, 0.3, 0.1, 0.0],\n",
    "        [0.3, 2.0, 0.2, 0.1],\n",
    "        [0.1, 0.2, 3.0, 0.4],\n",
    "        [0.0, 0.1, 0.4, 4.0]\n",
    "    ])\n",
    "    \n",
    "    H_tridi = non_interacting_tridiagonalization(H)\n",
    "    print(\"Original Hamiltonian:\\n\", H)\n",
    "    print(\"\\nTridiagonalized Hamiltonian:\\n\", H_tridi)\n",
    "\n",
    "if __name__ == \"__main__\":\n",
    "    example()"
   ]
  }
 ],
 "metadata": {
  "kernelspec": {
   "display_name": "nequip",
   "language": "python",
   "name": "python3"
  },
  "language_info": {
   "codemirror_mode": {
    "name": "ipython",
    "version": 3
   },
   "file_extension": ".py",
   "mimetype": "text/x-python",
   "name": "python",
   "nbconvert_exporter": "python",
   "pygments_lexer": "ipython3",
   "version": "3.9.0"
  }
 },
 "nbformat": 4,
 "nbformat_minor": 2
}
