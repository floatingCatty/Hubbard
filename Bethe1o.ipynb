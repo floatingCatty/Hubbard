{
 "cells": [
  {
   "cell_type": "code",
   "execution_count": 4,
   "metadata": {},
   "outputs": [],
   "source": [
    "from ase.io import read\n",
    "from gGA.data import AtomicData\n",
    "from gGA.gutz import GhostGutzwiller\n",
    "from gGA.utils.tools import setup_seed\n",
    "from gGA.utils.tools import get_semicircle_e_list\n",
    "import numpy as np\n",
    "from gGA.data import _keys\n",
    "\n",
    "setup_seed(124)\n",
    "U = 1.\n",
    "J = 0.0 * U # 0.25 * U\n",
    "Up = U - 2*J\n",
    "Jp = J\n",
    "\n",
    "alpha = 1.\n",
    "V = 1.0\n",
    "ep = -1.0\n",
    "e_list = get_semicircle_e_list(nmesh=1000)\n",
    "\n",
    "eks = np.zeros((len(e_list), 2, 2))+0j\n",
    "eks += np.array([[[0.,  V],\n",
    "                 [V,   ep]]],dtype=np.complex128)\n",
    "eks[:,1,1] += alpha * e_list\n",
    "\n",
    "phy_onsite = {\n",
    "    \"C\": np.array([\n",
    "        [[-U/2, 0.],\n",
    "        [0., 0.]]\n",
    "    ]),\n",
    "}\n",
    "\n",
    "intparams = {\"C\":[{\"U\":U,\"Up\":Up,\"J\":J, \"Jp\":Jp}]}\n",
    "\n",
    "gga = GhostGutzwiller(\n",
    "    atomic_number=np.array([6]),\n",
    "    nocc=3,\n",
    "    basis={\"C\":[1,1]},\n",
    "    idx_intorb={\"C\":[0]},\n",
    "    naux=3,\n",
    "    intparams=intparams,\n",
    "    nspin=1,\n",
    "    kBT=0.0002,\n",
    "    mutol=1e-6,\n",
    "    solver=\"ED\",\n",
    "    mixer_options={\"method\": \"Linear\", \"a\": 0.3},\n",
    "    iscomplex=False,\n",
    "    solver_options={}#{\"mfepmin\":2000, \"channels\": 10, \"Ptol\": 1e-5},\n",
    ")\n",
    "\n",
    "atomicdata = AtomicData.from_ase(\n",
    "    read(\"./gGA/test/C_cube.vasp\"),\n",
    "    r_max=3.1\n",
    "    )\n",
    "\n",
    "# atomicdata[\"kpoint\"] = torch.tensor(kmesh_sampling([10,10,10], True)).to(torch.get_default_dtype())\n",
    "# block_to_feature(atomicdata, gga.kinetic.idp_phy, block)\n",
    "atomicdata = AtomicData.to_AtomicDataDict(atomicdata)\n",
    "atomicdata[_keys.HAMILTONIAN_KEY] = eks\n",
    "atomicdata[_keys.PHY_ONSITE_KEY] = phy_onsite"
   ]
  },
  {
   "cell_type": "code",
   "execution_count": 5,
   "metadata": {},
   "outputs": [
    {
     "name": "stdout",
     "output_type": "stream",
     "text": [
      "DM_kin:  [0.01250972 0.01250972 0.49864468 0.49864468 0.98885561 0.98885561\n",
      " 0.99999006 0.99999006]\n",
      " -- Current error: 0.61628\n",
      "DM_kin:  [3.18801066e-04 3.18801066e-04 5.01926824e-01 5.01926824e-01\n",
      " 9.97754204e-01 9.97754204e-01 9.99999958e-01 9.99999958e-01]\n",
      " -- Current error: 0.22486\n",
      "DM_kin:  [5.70230838e-04 5.70230838e-04 5.01810424e-01 5.01810424e-01\n",
      " 9.97619438e-01 9.97619438e-01 9.99999650e-01 9.99999650e-01]\n",
      " -- Current error: 0.15731\n",
      "DM_kin:  [7.76300358e-04 7.76300358e-04 5.01769922e-01 5.01769922e-01\n",
      " 9.97455124e-01 9.97455124e-01 9.99998347e-01 9.99998347e-01]\n",
      " -- Current error: 0.11051\n",
      "DM_kin:  [9.53647001e-04 9.53647001e-04 5.01809779e-01 5.01809779e-01\n",
      " 9.97241535e-01 9.97241535e-01 9.99994674e-01 9.99994674e-01]\n",
      " -- Current error: 0.07809\n",
      "DM_kin:  [0.00111661 0.00111661 0.50193157 0.50193157 0.9969643  0.9969643\n",
      " 0.99998707 0.99998707]\n",
      " -- Current error: 0.06034\n",
      "DM_kin:  [0.00127341 0.00127341 0.50213275 0.50213275 0.9966193  0.9966193\n",
      " 0.99997476 0.99997476]\n",
      " -- Current error: 0.04853\n",
      "DM_kin:  [0.00142783 0.00142783 0.50240045 0.50240045 0.99621355 0.99621355\n",
      " 0.99995832 0.99995832]\n",
      " -- Current error: 0.03960\n",
      "DM_kin:  [0.00158099 0.00158099 0.50271612 0.50271612 0.99576347 0.99576347\n",
      " 0.99993948 0.99993948]\n",
      " -- Current error: 0.03277\n",
      "DM_kin:  [0.00173256 0.00173256 0.50305647 0.50305647 0.99529065 0.99529065\n",
      " 0.99992027 0.99992027]\n",
      " -- Current error: 0.02752\n",
      "DM_kin:  [0.00188155 0.00188155 0.50339901 0.50339901 0.99481692 0.99481692\n",
      " 0.99990233 0.99990233]\n",
      " -- Current error: 0.02343\n",
      "DM_kin:  [0.00202681 0.00202681 0.5037258  0.5037258  0.9943604  0.9943604\n",
      " 0.99988666 0.99988666]\n",
      " -- Current error: 0.02022\n",
      "DM_kin:  [0.00216732 0.00216732 0.504025   0.504025   0.99393358 0.99393358\n",
      " 0.99987363 0.99987363]\n",
      " -- Current error: 0.01767\n",
      "DM_kin:  [0.00230234 0.00230234 0.50429159 0.50429159 0.9935433  0.9935433\n",
      " 0.99986319 0.99986319]\n",
      " -- Current error: 0.01562\n",
      "DM_kin:  [0.00243141 0.00243141 0.50452198 0.50452198 0.99319182 0.99319182\n",
      " 0.9998551  0.9998551 ]\n",
      " -- Current error: 0.01396\n",
      "DM_kin:  [0.00255435 0.00255435 0.50471849 0.50471849 0.99287834 0.99287834\n",
      " 0.999849   0.999849  ]\n",
      " -- Current error: 0.01258\n",
      "DM_kin:  [0.00267119 0.00267119 0.50488408 0.50488408 0.99260025 0.99260025\n",
      " 0.99984454 0.99984454]\n",
      " -- Current error: 0.01143\n",
      "DM_kin:  [0.00278211 0.00278211 0.50502234 0.50502234 0.9923541  0.9923541\n",
      " 0.9998414  0.9998414 ]\n",
      " -- Current error: 0.01046\n",
      "DM_kin:  [0.00288737 0.00288737 0.50513696 0.50513696 0.9921362  0.9921362\n",
      " 0.9998393  0.9998393 ]\n",
      " -- Current error: 0.00964\n",
      "DM_kin:  [0.0029873  0.0029873  0.50523137 0.50523137 0.99194301 0.99194301\n",
      " 0.99983803 0.99983803]\n",
      " -- Current error: 0.00892\n",
      "DM_kin:  [0.00308224 0.00308224 0.50530865 0.50530865 0.99177131 0.99177131\n",
      " 0.9998374  0.9998374 ]\n",
      " -- Current error: 0.00830\n",
      "DM_kin:  [0.00317254 0.00317254 0.50537208 0.50537208 0.99161828 0.99161828\n",
      " 0.99983728 0.99983728]\n",
      " -- Current error: 0.00775\n",
      "DM_kin:  [0.0032585  0.0032585  0.50542262 0.50542262 0.99148141 0.99148141\n",
      " 0.99983755 0.99983755]\n",
      " -- Current error: 0.00726\n",
      "DM_kin:  [0.00334044 0.00334044 0.50546279 0.50546279 0.99135864 0.99135864\n",
      " 0.99983813 0.99983813]\n",
      " -- Current error: 0.00683\n",
      "DM_kin:  [0.00341865 0.00341865 0.50549416 0.50549416 0.99124817 0.99124817\n",
      " 0.99983895 0.99983895]\n",
      " -- Current error: 0.00644\n",
      "DM_kin:  [0.00349337 0.00349337 0.50551805 0.50551805 0.99114848 0.99114848\n",
      " 0.99983994 0.99983994]\n",
      " -- Current error: 0.00609\n",
      "DM_kin:  [0.00356484 0.00356484 0.50553554 0.50553554 0.99105829 0.99105829\n",
      " 0.99984109 0.99984109]\n",
      " -- Current error: 0.00577\n",
      "DM_kin:  [0.00363327 0.00363327 0.5055483  0.5055483  0.99097654 0.99097654\n",
      " 0.99984234 0.99984234]\n",
      " -- Current error: 0.00548\n",
      "DM_kin:  [0.00369884 0.00369884 0.50555564 0.50555564 0.99090223 0.99090223\n",
      " 0.99984367 0.99984367]\n",
      " -- Current error: 0.00521\n",
      "DM_kin:  [0.00376173 0.00376173 0.50555894 0.50555894 0.99083458 0.99083458\n",
      " 0.99984507 0.99984507]\n",
      " -- Current error: 0.00496\n",
      "DM_kin:  [0.00382209 0.00382209 0.50555876 0.50555876 0.99077291 0.99077291\n",
      " 0.99984651 0.99984651]\n",
      " -- Current error: 0.00473\n",
      "DM_kin:  [0.00388005 0.00388005 0.50555556 0.50555556 0.99071662 0.99071662\n",
      " 0.99984799 0.99984799]\n",
      " -- Current error: 0.00452\n"
     ]
    },
    {
     "ename": "KeyboardInterrupt",
     "evalue": "",
     "output_type": "error",
     "traceback": [
      "\u001b[0;31m---------------------------------------------------------------------------\u001b[0m",
      "\u001b[0;31mKeyboardInterrupt\u001b[0m                         Traceback (most recent call last)",
      "Cell \u001b[0;32mIn[5], line 1\u001b[0m\n\u001b[0;32m----> 1\u001b[0m \u001b[43mgga\u001b[49m\u001b[38;5;241;43m.\u001b[39;49m\u001b[43mrun\u001b[49m\u001b[43m(\u001b[49m\u001b[43matomicdata\u001b[49m\u001b[43m,\u001b[49m\u001b[43m \u001b[49m\u001b[38;5;241;43m500\u001b[39;49m\u001b[43m,\u001b[49m\u001b[43m \u001b[49m\u001b[38;5;241;43m1e-4\u001b[39;49m\u001b[43m)\u001b[49m\n",
      "File \u001b[0;32m~/Hubbard-AUG/gGA/gutz/ghostG.py:193\u001b[0m, in \u001b[0;36mGhostGutzwiller.run\u001b[0;34m(self, data, maxiter, tol)\u001b[0m\n\u001b[1;32m    191\u001b[0m \u001b[38;5;28;01mdef\u001b[39;00m \u001b[38;5;21mrun\u001b[39m(\u001b[38;5;28mself\u001b[39m, data, maxiter, tol):\n\u001b[1;32m    192\u001b[0m     \u001b[38;5;28;01mfor\u001b[39;00m i \u001b[38;5;129;01min\u001b[39;00m \u001b[38;5;28mrange\u001b[39m(maxiter):\n\u001b[0;32m--> 193\u001b[0m         err, RDM \u001b[38;5;241m=\u001b[39m \u001b[38;5;28;43mself\u001b[39;49m\u001b[38;5;241;43m.\u001b[39;49m\u001b[43mupdate\u001b[49m\u001b[43m(\u001b[49m\u001b[43mdata\u001b[49m\u001b[43m)\u001b[49m\n\u001b[1;32m    195\u001b[0m         \u001b[38;5;28;01mif\u001b[39;00m err \u001b[38;5;241m<\u001b[39m tol:\n\u001b[1;32m    196\u001b[0m             \u001b[38;5;28mprint\u001b[39m(\u001b[38;5;124m\"\u001b[39m\u001b[38;5;124mConvergence achieved!\u001b[39m\u001b[38;5;130;01m\\n\u001b[39;00m\u001b[38;5;124m\"\u001b[39m)\n",
      "File \u001b[0;32m~/Hubbard-AUG/gGA/gutz/ghostG.py:169\u001b[0m, in \u001b[0;36mGhostGutzwiller.update\u001b[0;34m(self, data)\u001b[0m\n\u001b[1;32m    165\u001b[0m \u001b[38;5;28;01mdef\u001b[39;00m \u001b[38;5;21mupdate\u001b[39m(\u001b[38;5;28mself\u001b[39m, data: AtomicDataDict\u001b[38;5;241m.\u001b[39mType) \u001b[38;5;241m-\u001b[39m\u001b[38;5;241m>\u001b[39m AtomicDataDict\u001b[38;5;241m.\u001b[39mType:\n\u001b[1;32m    166\u001b[0m         \u001b[38;5;66;03m# self.gGAtomic.fix_gauge()\u001b[39;00m\n\u001b[1;32m    168\u001b[0m     R, LAM \u001b[38;5;241m=\u001b[39m \u001b[38;5;28mself\u001b[39m\u001b[38;5;241m.\u001b[39mgGAtomic\u001b[38;5;241m.\u001b[39mR, \u001b[38;5;28mself\u001b[39m\u001b[38;5;241m.\u001b[39mgGAtomic\u001b[38;5;241m.\u001b[39mLAM\n\u001b[0;32m--> 169\u001b[0m     phy_onsite, D, \u001b[38;5;28mself\u001b[39m\u001b[38;5;241m.\u001b[39mRDM_kin, \u001b[38;5;28mself\u001b[39m\u001b[38;5;241m.\u001b[39mE_fermi \u001b[38;5;241m=\u001b[39m \u001b[38;5;28;43mself\u001b[39;49m\u001b[38;5;241;43m.\u001b[39;49m\u001b[43mkinetic\u001b[49m\u001b[38;5;241;43m.\u001b[39;49m\u001b[43mupdate\u001b[49m\u001b[43m(\u001b[49m\u001b[43mdata\u001b[49m\u001b[43m,\u001b[49m\u001b[43m \u001b[49m\u001b[43mR\u001b[49m\u001b[43m,\u001b[49m\u001b[43m \u001b[49m\u001b[43mLAM\u001b[49m\u001b[43m)\u001b[49m\n\u001b[1;32m    170\u001b[0m     \u001b[38;5;66;03m# update D, RDM\u001b[39;00m\n\u001b[1;32m    171\u001b[0m     \u001b[38;5;28mself\u001b[39m\u001b[38;5;241m.\u001b[39mgGAtomic\u001b[38;5;241m.\u001b[39mupdate_D(D)\n",
      "File \u001b[0;32m~/Hubbard-AUG/gGA/gutz/kinetics.py:118\u001b[0m, in \u001b[0;36mKinetic.update\u001b[0;34m(self, data, R, LAM)\u001b[0m\n\u001b[1;32m    116\u001b[0m \u001b[38;5;66;03m# phy_onsite, real_C2, tkR_C2, E_fermi = self._compute_H(data, R, LAM)\u001b[39;00m\n\u001b[1;32m    117\u001b[0m phy_onsite, H, tkR, S \u001b[38;5;241m=\u001b[39m \u001b[38;5;28mself\u001b[39m\u001b[38;5;241m.\u001b[39m_compute_H(data, R, LAM)\n\u001b[0;32m--> 118\u001b[0m real_C2, tkR_C2, E_fermi \u001b[38;5;241m=\u001b[39m \u001b[38;5;28;43mself\u001b[39;49m\u001b[38;5;241;43m.\u001b[39;49m\u001b[43m_compute_RDM\u001b[49m\u001b[43m(\u001b[49m\u001b[43mH\u001b[49m\u001b[38;5;241;43m=\u001b[39;49m\u001b[43mH\u001b[49m\u001b[43m,\u001b[49m\u001b[43m \u001b[49m\u001b[43mtkR\u001b[49m\u001b[38;5;241;43m=\u001b[39;49m\u001b[43mtkR\u001b[49m\u001b[43m,\u001b[49m\u001b[43m \u001b[49m\u001b[43mS\u001b[49m\u001b[38;5;241;43m=\u001b[39;49m\u001b[43mS\u001b[49m\u001b[43m)\u001b[49m\n\u001b[1;32m    120\u001b[0m \u001b[38;5;66;03m# solve for D\u001b[39;00m\n\u001b[1;32m    121\u001b[0m B \u001b[38;5;241m=\u001b[39m []\n",
      "File \u001b[0;32m~/Hubbard-AUG/gGA/gutz/kinetics.py:282\u001b[0m, in \u001b[0;36mKinetic._compute_RDM\u001b[0;34m(self, H, S, tkR, E_fermi)\u001b[0m\n\u001b[1;32m    280\u001b[0m \u001b[38;5;28;01mif\u001b[39;00m E_fermi \u001b[38;5;129;01mis\u001b[39;00m \u001b[38;5;28;01mNone\u001b[39;00m:\n\u001b[1;32m    281\u001b[0m     E_fermi \u001b[38;5;241m=\u001b[39m np\u001b[38;5;241m.\u001b[39msort(eigval\u001b[38;5;241m.\u001b[39mflatten())[math\u001b[38;5;241m.\u001b[39mceil(\u001b[38;5;28mself\u001b[39m\u001b[38;5;241m.\u001b[39mnocc)\u001b[38;5;241m*\u001b[39mnk\u001b[38;5;241m-\u001b[39m\u001b[38;5;241m1\u001b[39m:math\u001b[38;5;241m.\u001b[39mceil(\u001b[38;5;28mself\u001b[39m\u001b[38;5;241m.\u001b[39mnocc)\u001b[38;5;241m*\u001b[39mnk\u001b[38;5;241m+\u001b[39m\u001b[38;5;241m1\u001b[39m]\u001b[38;5;241m.\u001b[39msum() \u001b[38;5;241m*\u001b[39m \u001b[38;5;241m0.5\u001b[39m\n\u001b[0;32m--> 282\u001b[0m     E_fermi \u001b[38;5;241m=\u001b[39m \u001b[43mfind_E_fermi\u001b[49m\u001b[43m(\u001b[49m\u001b[43mHks\u001b[49m\u001b[38;5;241;43m=\u001b[39;49m\u001b[43mH\u001b[49m\u001b[43m,\u001b[49m\u001b[43m \u001b[49m\u001b[43mnocc\u001b[49m\u001b[38;5;241;43m=\u001b[39;49m\u001b[38;5;28;43mself\u001b[39;49m\u001b[38;5;241;43m.\u001b[39;49m\u001b[43mnocc\u001b[49m\u001b[43m,\u001b[49m\u001b[43m \u001b[49m\u001b[43mkBT\u001b[49m\u001b[38;5;241;43m=\u001b[39;49m\u001b[38;5;28;43mself\u001b[39;49m\u001b[38;5;241;43m.\u001b[39;49m\u001b[43mkBT\u001b[49m\u001b[43m,\u001b[49m\u001b[43m \u001b[49m\u001b[43mE_fermi0\u001b[49m\u001b[38;5;241;43m=\u001b[39;49m\u001b[43mE_fermi\u001b[49m\u001b[43m,\u001b[49m\u001b[43m \u001b[49m\u001b[43mntol\u001b[49m\u001b[38;5;241;43m=\u001b[39;49m\u001b[38;5;28;43mself\u001b[39;49m\u001b[38;5;241;43m.\u001b[39;49m\u001b[43mmutol\u001b[49m\u001b[43m)\u001b[49m\n\u001b[1;32m    284\u001b[0m factor \u001b[38;5;241m=\u001b[39m fermi_dirac(eigval, E_fermi, \u001b[38;5;28mself\u001b[39m\u001b[38;5;241m.\u001b[39mkBT) \u001b[38;5;66;03m# [nk, norb]\u001b[39;00m\n\u001b[1;32m    285\u001b[0m mask \u001b[38;5;241m=\u001b[39m factor \u001b[38;5;241m>\u001b[39m \u001b[38;5;241m1e-10\u001b[39m \u001b[38;5;66;03m# [nk, norb]\u001b[39;00m\n",
      "File \u001b[0;32m~/Hubbard-AUG/gGA/gutz/kinetics.py:348\u001b[0m, in \u001b[0;36mfind_E_fermi\u001b[0;34m(Hks, nocc, kBT, E_fermi0, ntol, max_iter)\u001b[0m\n\u001b[1;32m    345\u001b[0m niter \u001b[38;5;241m=\u001b[39m \u001b[38;5;241m0\u001b[39m\n\u001b[1;32m    347\u001b[0m \u001b[38;5;28;01mwhile\u001b[39;00m \u001b[38;5;129;01mnot\u001b[39;00m nocc_converge \u001b[38;5;129;01mand\u001b[39;00m niter \u001b[38;5;241m<\u001b[39m max_iter:\n\u001b[0;32m--> 348\u001b[0m     nc \u001b[38;5;241m=\u001b[39m \u001b[43mcompute_nocc\u001b[49m\u001b[43m(\u001b[49m\u001b[43mHks\u001b[49m\u001b[38;5;241;43m=\u001b[39;49m\u001b[43mHks\u001b[49m\u001b[43m,\u001b[49m\u001b[43m \u001b[49m\u001b[43mE_fermi\u001b[49m\u001b[38;5;241;43m=\u001b[39;49m\u001b[43mE_fermi\u001b[49m\u001b[43m,\u001b[49m\u001b[43m \u001b[49m\u001b[43mkBT\u001b[49m\u001b[38;5;241;43m=\u001b[39;49m\u001b[43mkBT\u001b[49m\u001b[43m)\u001b[49m\n\u001b[1;32m    349\u001b[0m     \u001b[38;5;28;01mif\u001b[39;00m \u001b[38;5;28mabs\u001b[39m(nc \u001b[38;5;241m-\u001b[39m nocc) \u001b[38;5;241m<\u001b[39m ntol:\n\u001b[1;32m    350\u001b[0m         nocc_converge \u001b[38;5;241m=\u001b[39m \u001b[38;5;28;01mTrue\u001b[39;00m\n",
      "File \u001b[0;32m~/Hubbard-AUG/gGA/gutz/kinetics.py:313\u001b[0m, in \u001b[0;36mcompute_nocc\u001b[0;34m(Hks, E_fermi, kBT)\u001b[0m\n\u001b[1;32m    309\u001b[0m \u001b[38;5;28;01mdef\u001b[39;00m \u001b[38;5;21mcompute_nocc\u001b[39m(Hks, E_fermi: \u001b[38;5;28mfloat\u001b[39m, kBT: \u001b[38;5;28mfloat\u001b[39m):\n\u001b[1;32m    310\u001b[0m \u001b[38;5;250m    \u001b[39m\u001b[38;5;124;03m\"\"\"\u001b[39;00m\n\u001b[1;32m    311\u001b[0m \u001b[38;5;124;03m        Hks: [nk, norb, norb],\u001b[39;00m\n\u001b[1;32m    312\u001b[0m \u001b[38;5;124;03m    \"\"\"\u001b[39;00m\n\u001b[0;32m--> 313\u001b[0m     eigval \u001b[38;5;241m=\u001b[39m \u001b[43mnp\u001b[49m\u001b[38;5;241;43m.\u001b[39;49m\u001b[43mlinalg\u001b[49m\u001b[38;5;241;43m.\u001b[39;49m\u001b[43meigvalsh\u001b[49m\u001b[43m(\u001b[49m\u001b[43mHks\u001b[49m\u001b[43m)\u001b[49m\n\u001b[1;32m    314\u001b[0m     counts \u001b[38;5;241m=\u001b[39m fermi_dirac(eigval, E_fermi, kBT)\n\u001b[1;32m    315\u001b[0m     n \u001b[38;5;241m=\u001b[39m counts\u001b[38;5;241m.\u001b[39msum() \u001b[38;5;241m/\u001b[39m Hks\u001b[38;5;241m.\u001b[39mshape[\u001b[38;5;241m0\u001b[39m]\n",
      "File \u001b[0;32m/opt/mamba/lib/python3.10/site-packages/numpy/linalg/_linalg.py:1291\u001b[0m, in \u001b[0;36meigvalsh\u001b[0;34m(a, UPLO)\u001b[0m\n\u001b[1;32m   1287\u001b[0m signature \u001b[38;5;241m=\u001b[39m \u001b[38;5;124m'\u001b[39m\u001b[38;5;124mD->d\u001b[39m\u001b[38;5;124m'\u001b[39m \u001b[38;5;28;01mif\u001b[39;00m isComplexType(t) \u001b[38;5;28;01melse\u001b[39;00m \u001b[38;5;124m'\u001b[39m\u001b[38;5;124md->d\u001b[39m\u001b[38;5;124m'\u001b[39m\n\u001b[1;32m   1288\u001b[0m \u001b[38;5;28;01mwith\u001b[39;00m errstate(call\u001b[38;5;241m=\u001b[39m_raise_linalgerror_eigenvalues_nonconvergence,\n\u001b[1;32m   1289\u001b[0m               invalid\u001b[38;5;241m=\u001b[39m\u001b[38;5;124m'\u001b[39m\u001b[38;5;124mcall\u001b[39m\u001b[38;5;124m'\u001b[39m, over\u001b[38;5;241m=\u001b[39m\u001b[38;5;124m'\u001b[39m\u001b[38;5;124mignore\u001b[39m\u001b[38;5;124m'\u001b[39m, divide\u001b[38;5;241m=\u001b[39m\u001b[38;5;124m'\u001b[39m\u001b[38;5;124mignore\u001b[39m\u001b[38;5;124m'\u001b[39m,\n\u001b[1;32m   1290\u001b[0m               under\u001b[38;5;241m=\u001b[39m\u001b[38;5;124m'\u001b[39m\u001b[38;5;124mignore\u001b[39m\u001b[38;5;124m'\u001b[39m):\n\u001b[0;32m-> 1291\u001b[0m     w \u001b[38;5;241m=\u001b[39m \u001b[43mgufunc\u001b[49m\u001b[43m(\u001b[49m\u001b[43ma\u001b[49m\u001b[43m,\u001b[49m\u001b[43m \u001b[49m\u001b[43msignature\u001b[49m\u001b[38;5;241;43m=\u001b[39;49m\u001b[43msignature\u001b[49m\u001b[43m)\u001b[49m\n\u001b[1;32m   1292\u001b[0m \u001b[38;5;28;01mreturn\u001b[39;00m w\u001b[38;5;241m.\u001b[39mastype(_realType(result_t), copy\u001b[38;5;241m=\u001b[39m\u001b[38;5;28;01mFalse\u001b[39;00m)\n",
      "\u001b[0;31mKeyboardInterrupt\u001b[0m: "
     ]
    }
   ],
   "source": [
    "gga.run(atomicdata, 500, 1e-4)"
   ]
  },
  {
   "cell_type": "code",
   "execution_count": 6,
   "metadata": {},
   "outputs": [
    {
     "data": {
      "image/png": "[encoded data removed]",
      "text/plain": [
       "<Figure size 600x400 with 2 Axes>"
      ]
     },
     "metadata": {},
     "output_type": "display_data"
    },
    {
     "data": {
      "image/png": "[encoded data removed]",
      "text/plain": [
       "<Figure size 600x200 with 1 Axes>"
      ]
     },
     "metadata": {},
     "output_type": "display_data"
    }
   ],
   "source": [
    "Es = np.linspace(-3.8,2, 1000) + gga.E_fermi\n",
    "GF = gga.compute_GF(Es=Es, data=atomicdata, eta=0.06)\n",
    "ARPES = -(1/np.pi)*GF.imag.diagonal(offset=0, axis1=-1, axis2=-2)\n",
    "pdos = ARPES.sum(0) / ARPES.shape[0]\n",
    "pdos = pdos.reshape(-1,2,2).sum(-1)\n",
    "dos = pdos.sum(-1)\n",
    "ARPES = ARPES.sum(-1)\n",
    "\n",
    "\n",
    "import matplotlib.pyplot as plt\n",
    "ARPES = np.flip(ARPES, (0,))\n",
    "fig, ax = plt.subplots(figsize=(6,4))\n",
    "m = ax.matshow(ARPES, cmap=\"hot\", vmin=0, vmax=15)\n",
    "ax.set_aspect('auto')  # override the default 'equal'\n",
    "ax.set_xticks([])\n",
    "ax.set_yticks([])\n",
    "fig.colorbar(m)\n",
    "plt.show()\n",
    "\n",
    "plt.figure(figsize=(6,2))\n",
    "# plt.plot(Es, dos)\n",
    "plt.plot(Es-gga.E_fermi, pdos)\n",
    "plt.legend([\"d\", \"p\"])\n",
    "plt.show()"
   ]
  },
  {
   "cell_type": "markdown",
   "metadata": {},
   "source": [
    "# Sweep for metal states"
   ]
  },
  {
   "cell_type": "code",
   "execution_count": 2,
   "metadata": {},
   "outputs": [
    {
     "name": "stderr",
     "output_type": "stream",
     "text": [
      "Scanning for U: 100%|██████████| 8/8 [00:12<00:00,  1.61s/it]\n",
      "Scanning for ep: : 8it [14:31, 108.94s/it]\n"
     ]
    }
   ],
   "source": [
    "from tqdm import tqdm\n",
    "from IPython.display import clear_output\n",
    "records_metal = {}\n",
    "not_converge_medal = []\n",
    "for i, ep in tqdm(enumerate([3, 2, 1, 0, -0.5, -1, -2, -3]), desc=\"Scanning for ep: \"):\n",
    "    gga.reset()\n",
    "    U_list = [1.,2.,3.,4.,5.,6.,7.,8.]\n",
    "    for U in tqdm(U_list, desc=\"Scanning for U: \"):\n",
    "        J = 0.0 * U # 0.25 * U\n",
    "        Up = U - 2*J\n",
    "        Jp = J\n",
    "        alpha = 1.\n",
    "        V = 1.0\n",
    "\n",
    "        intparams = {\"C\":[{\"U\":U,\"Up\":Up,\"J\":J, \"Jp\":Jp}]}\n",
    "        gga.update_intparam(intparams)\n",
    "\n",
    "        eks = np.zeros((len(e_list), 2, 2))+0j\n",
    "        eks += np.array([[[0.,  V],\n",
    "                        [V,   ep]]],dtype=np.complex128)\n",
    "        eks[:,1,1] += alpha * e_list\n",
    "\n",
    "        phy_onsite = {\n",
    "            \"C\": np.array([\n",
    "                [[-U/2, 0.],\n",
    "                [0., 0.]]\n",
    "            ]),\n",
    "        }\n",
    "        atomicdata[_keys.HAMILTONIAN_KEY] = eks\n",
    "        atomicdata[_keys.PHY_ONSITE_KEY] = phy_onsite\n",
    "\n",
    "        # run\n",
    "        try:\n",
    "            gga.run(atomicdata, 1000, 1e-4)\n",
    "            records_metal[(ep, U)] = (gga.RDM, gga.R, gga.gGAtomic.docc)\n",
    "        except:\n",
    "            # gga reset states\n",
    "            gga.reset()\n",
    "            try:\n",
    "                gga.run(atomicdata, 1000, 1e-4)\n",
    "                records_metal[(ep, U)] = (gga.RDM, gga.R, gga.gGAtomic.docc)\n",
    "            except:\n",
    "                gga.reset()\n",
    "                not_converge_medal.append((ep, U))\n",
    "            \n",
    "        clear_output()\n",
    "\n",
    "np.save(\"Bethe1o_metal.npy\", records_metal)"
   ]
  },
  {
   "cell_type": "markdown",
   "metadata": {},
   "source": [
    "# Sweep for insulator states"
   ]
  },
  {
   "cell_type": "code",
   "execution_count": 27,
   "metadata": {},
   "outputs": [
    {
     "name": "stderr",
     "output_type": "stream",
     "text": [
      "Scanning for U: 100%|██████████| 10/10 [06:22<00:00, 38.23s/it]\n",
      "Scanning for ep: : 8it [1:29:05, 668.24s/it]\n"
     ]
    }
   ],
   "source": [
    "from tqdm import tqdm\n",
    "from IPython.display import clear_output\n",
    "\n",
    "records_in = {}\n",
    "not_converge_in = []\n",
    "for i, ep in tqdm(enumerate([-3, -2, -1, -0.5, 0, 1, 2, 3]), desc=\"Scanning for ep: \"):\n",
    "    gga.reset()\n",
    "    U_list = [10.,9.,8.,7.,6.,5.,4.,3.,2.,1.]\n",
    "    for U in tqdm(U_list, desc=\"Scanning for U: \"):\n",
    "        J = 0.0 * U # 0.25 * U\n",
    "        Up = U - 2*J\n",
    "        Jp = J\n",
    "        alpha = 1.\n",
    "        V = 1.0\n",
    "\n",
    "        intparams = {\"C\":[{\"U\":U,\"Up\":Up,\"J\":J, \"Jp\":Jp}]}\n",
    "        gga.update_intparam(intparams)\n",
    "\n",
    "        eks = np.zeros((len(e_list), 2, 2))+0j\n",
    "        eks += np.array([[[0.,  V],\n",
    "                        [V,   ep]]],dtype=np.complex128)\n",
    "        eks[:,1,1] += alpha * e_list\n",
    "\n",
    "        phy_onsite = {\n",
    "            \"C\": np.array([\n",
    "                [[-U/2, 0.],\n",
    "                [0., 0.]]\n",
    "            ]),\n",
    "        }\n",
    "        atomicdata[_keys.HAMILTONIAN_KEY] = eks\n",
    "        atomicdata[_keys.PHY_ONSITE_KEY] = phy_onsite\n",
    "\n",
    "        # run\n",
    "        try:\n",
    "            gga.run(atomicdata, 1000, 1e-4)\n",
    "            records_in[(ep, U)] = (gga.RDM, gga.R, gga.gGAtomic.docc)\n",
    "        except:\n",
    "            # gga reset states\n",
    "            gga.reset()\n",
    "            try:\n",
    "                gga.run(atomicdata, 1000, 1e-4)\n",
    "                records_in[(ep, U)] = (gga.RDM, gga.R, gga.gGAtomic.docc)\n",
    "            except:\n",
    "                gga.reset()\n",
    "                not_converge_in.append((ep, U))\n",
    "            \n",
    "        clear_output()\n",
    "\n",
    "np.save(\"Bethe1o_insulator.npy\", records_in)"
   ]
  },
  {
   "cell_type": "code",
   "execution_count": 2,
   "metadata": {},
   "outputs": [],
   "source": [
    "records_metal = np.load(\"Bethe1o_metal.npy\", allow_pickle=True).item()\n",
    "records_in = np.load(\"Bethe1o_insulator.npy\", allow_pickle=True).item()"
   ]
  },
  {
   "cell_type": "code",
   "execution_count": 3,
   "metadata": {},
   "outputs": [],
   "source": [
    "docc_m = []\n",
    "nps_m = []\n",
    "nds_m = []\n",
    "eps_m = []\n",
    "Us_m = []\n",
    "for ep_, U_ in records_metal:\n",
    "    RDM, R, docc = records_metal[(ep_,U_)]\n",
    "    RDM = RDM[\"C\"][0]\n",
    "    R = R[\"C\"][0]\n",
    "    docc = docc[\"C\"][0]\n",
    "    docc_m.append(docc[0])\n",
    "    nps_m.append(RDM[2,2]+RDM[3,3])\n",
    "    nds_m.append(RDM[0,0]+RDM[1,1])\n",
    "    eps_m.append(ep_)\n",
    "    Us_m.append(U_)\n",
    "eps_m = np.array(eps_m)\n",
    "Us_m = np.array(Us_m)\n",
    "docc_m = np.array(docc_m)\n",
    "nps_m = np.array(nps_m)\n",
    "nds_m = np.array(nds_m)"
   ]
  },
  {
   "cell_type": "code",
   "execution_count": 4,
   "metadata": {},
   "outputs": [],
   "source": [
    "docc_i = []\n",
    "nps_i = []\n",
    "nds_i = []\n",
    "eps_i = []\n",
    "Us_i = []\n",
    "for ep_, U_ in records_in:\n",
    "    RDM, R, docc = records_in[(ep_,U_)]\n",
    "    RDM = RDM[\"C\"][0]\n",
    "    R = R[\"C\"][0]\n",
    "    docc = docc[\"C\"][0]\n",
    "    docc_i.append(docc[0])\n",
    "    nps_i.append(RDM[2,2]+RDM[3,3])\n",
    "    nds_i.append(RDM[0,0]+RDM[1,1])\n",
    "    eps_i.append(ep_)\n",
    "    Us_i.append(U_)\n",
    "eps_i = np.array(eps_i)\n",
    "Us_i = np.array(Us_i)\n",
    "docc_i = np.array(docc_i)\n",
    "nps_i = np.array(nps_i)\n",
    "nds_i = np.array(nds_i)"
   ]
  },
  {
   "cell_type": "markdown",
   "metadata": {},
   "source": [
    "# Phase Diagram"
   ]
  },
  {
   "cell_type": "code",
   "execution_count": 13,
   "metadata": {},
   "outputs": [
    {
     "data": {
      "text/plain": [
       "array([[-3. , -3. , -3. , -3. , -3. , -3. , -3. , -3. , -3. , -3. ],\n",
       "       [-2. , -2. , -2. , -2. , -2. , -2. , -2. , -2. , -2. , -2. ],\n",
       "       [-1. , -1. , -1. , -1. , -1. , -1. , -1. , -1. , -1. , -1. ],\n",
       "       [-0.5, -0.5, -0.5, -0.5, -0.5, -0.5, -0.5, -0.5, -0.5, -0.5],\n",
       "       [ 0. ,  0. ,  0. ,  0. ,  0. ,  0. ,  0. ,  0. ,  0. ,  0. ],\n",
       "       [ 1. ,  1. ,  1. ,  1. ,  1. ,  1. ,  1. ,  1. ,  1. ,  1. ],\n",
       "       [ 2. ,  2. ,  2. ,  2. ,  2. ,  2. ,  2. ,  2. ,  2. ,  2. ],\n",
       "       [ 3. ,  3. ,  3. ,  3. ,  3. ,  3. ,  3. ,  3. ,  3. ,  3. ]])"
      ]
     },
     "execution_count": 13,
     "metadata": {},
     "output_type": "execute_result"
    }
   ],
   "source": [
    "eps_i.reshape(-1,10)"
   ]
  },
  {
   "cell_type": "markdown",
   "metadata": {},
   "source": [
    "# Line Graph"
   ]
  },
  {
   "cell_type": "code",
   "execution_count": 51,
   "metadata": {},
   "outputs": [
    {
     "data": {
      "image/png": "[encoded data removed]",
      "text/plain": [
       "<Figure size 400x300 with 1 Axes>"
      ]
     },
     "metadata": {},
     "output_type": "display_data"
    }
   ],
   "source": [
    "import matplotlib.pyplot as plt\n",
    "\n",
    "\n",
    "idx = 6\n",
    "plt.figure(figsize=(4,3))\n",
    "plt.plot(Us_i.reshape(-1,10)[idx][::-1], nps_i.reshape(-1,10)[idx][::-1])\n",
    "plt.plot(Us_i.reshape(-1,10)[idx][::-1], nds_i.reshape(-1,10)[idx][::-1])\n",
    "\n",
    "plt.plot(Us_m.reshape(-1,8)[-idx-1], nps_m.reshape(-1,8)[-idx-1])\n",
    "plt.plot(Us_m.reshape(-1,8)[-idx-1], nds_m.reshape(-1,8)[-idx-1])\n",
    "\n",
    "\n",
    "plt.ylim(1.0,2.0)\n",
    "plt.tight_layout()\n",
    "plt.xlabel(\"U\")\n",
    "plt.ylabel(\"local occupations\")\n",
    "plt.show()"
   ]
  },
  {
   "cell_type": "code",
   "execution_count": 48,
   "metadata": {},
   "outputs": [
    {
     "data": {
      "image/png": "[encoded data removed]",
      "text/plain": [
       "<Figure size 400x300 with 1 Axes>"
      ]
     },
     "metadata": {},
     "output_type": "display_data"
    }
   ],
   "source": [
    "import matplotlib.pyplot as plt\n",
    "\n",
    "\n",
    "idx = 6\n",
    "plt.figure(figsize=(4,3))\n",
    "plt.plot(Us_i.reshape(-1,10)[idx][::-1], docc_i.reshape(-1,10)[idx][::-1])\n",
    "plt.plot(Us_m.reshape(-1,8)[-idx-1], docc_m.reshape(-1,8)[-idx-1])\n",
    "\n",
    "# plt.ylim(1.0,2.0)\n",
    "plt.tight_layout()\n",
    "plt.xlabel(\"U\")\n",
    "plt.ylabel(\"double occupation\")\n",
    "plt.show()"
   ]
  },
  {
   "cell_type": "markdown",
   "metadata": {},
   "source": [
    "# NQS solver"
   ]
  },
  {
   "cell_type": "code",
   "execution_count": 1,
   "metadata": {},
   "outputs": [
    {
     "name": "stdout",
     "output_type": "stream",
     "text": [
      "The e3nn is not installed, mapper cannot handle irreps related maps, be careful!\n",
      "The block2 is not isntalled. One should not use DMRG solver.\n"
     ]
    },
    {
     "name": "stderr",
     "output_type": "stream",
     "text": [
      "/root/Hubbard-AUG/gGA/solver/graph_net.py:179: UserWarning: A JAX array is being set as static! This can result in unexpected behavior and is usually a mistake to do.\n",
      "  layers = [ReshapeSite(dtype), EmbedLayer(d_emb, dtype), *blocks, eqx.nn.Lambda(lambda x: jnp.swapaxes(x, -1, -2)), scale]\n"
     ]
    }
   ],
   "source": [
    "from ase.io import read\n",
    "from gGA.data import AtomicData\n",
    "from gGA.gutz import GhostGutzwiller\n",
    "from gGA.utils.tools import setup_seed\n",
    "from gGA.utils.tools import get_semicircle_e_list\n",
    "import numpy as np\n",
    "from gGA.data import _keys\n",
    "\n",
    "setup_seed(124)\n",
    "U = 1.\n",
    "J = 0.0 * U # 0.25 * U\n",
    "Up = U - 2*J\n",
    "Jp = J\n",
    "\n",
    "alpha = 1.\n",
    "V = 1.0\n",
    "ep = -1.0\n",
    "e_list = get_semicircle_e_list(nmesh=1000)\n",
    "\n",
    "eks = np.zeros((len(e_list), 2, 2))+0j\n",
    "eks += np.array([[[0.,  V],\n",
    "                 [V,   ep]]],dtype=np.complex128)\n",
    "eks[:,1,1] += alpha * e_list\n",
    "\n",
    "phy_onsite = {\n",
    "    \"C\": np.array([\n",
    "        [[-U/2, 0.],\n",
    "        [0., 0.]]\n",
    "    ]),\n",
    "}\n",
    "\n",
    "intparams = {\"C\":[{\"U\":U,\"Up\":Up,\"J\":J, \"Jp\":Jp, \"Szpen\":0.2}]}\n",
    "\n",
    "gga = GhostGutzwiller(\n",
    "    atomic_number=np.array([6]),\n",
    "    nocc=3,\n",
    "    basis={\"C\":[1,1]},\n",
    "    idx_intorb={\"C\":[0]},\n",
    "    naux=3,\n",
    "    intparams=intparams,\n",
    "    nspin=1,\n",
    "    kBT=0.0002,\n",
    "    mutol=1e-6,\n",
    "    solver=\"NQS\",\n",
    "    mixer_options={\"method\": \"Linear\", \"a\": 0.3},\n",
    "    iscomplex=False,\n",
    "    solver_options={\n",
    "        \"mfepmax\":800,\n",
    "        \"nnepmax\":5000,\n",
    "        \"d_emb\": 4,\n",
    "        \"nblocks\":3,\n",
    "        \"hidden_channels\":8,\n",
    "        \"out_channels\":8,\n",
    "        \"ffn_hidden\":[8],\n",
    "        \"heads\":4,\n",
    "        \"Ptol\": 3e-4, # this value should be smaller than at least 5e-4 if expecting 1e-4 convergence\n",
    "        \"Etol\": 1e-2\n",
    "        },\n",
    ")\n",
    "\n",
    "atomicdata = AtomicData.from_ase(\n",
    "    read(\"./gGA/test/C_cube.vasp\"),\n",
    "    r_max=3.1\n",
    "    )\n",
    "\n",
    "# atomicdata[\"kpoint\"] = torch.tensor(kmesh_sampling([10,10,10], True)).to(torch.get_default_dtype())\n",
    "# block_to_feature(atomicdata, gga.kinetic.idp_phy, block)\n",
    "atomicdata = AtomicData.to_AtomicDataDict(atomicdata)\n",
    "atomicdata[_keys.HAMILTONIAN_KEY] = eks\n",
    "atomicdata[_keys.PHY_ONSITE_KEY] = phy_onsite"
   ]
  },
  {
   "cell_type": "code",
   "execution_count": 2,
   "metadata": {},
   "outputs": [
    {
     "name": "stdout",
     "output_type": "stream",
     "text": [
      "DM_kin:  [0.01250972 0.01250972 0.49864468 0.49864468 0.98885561 0.98885561\n",
      " 0.99999006 0.99999006]\n"
     ]
    },
    {
     "name": "stderr",
     "output_type": "stream",
     "text": [
      "Meanfield Pfaffian training:   0%|          | 1/800 [00:07<1:39:09,  7.45s/it]"
     ]
    },
    {
     "name": "stdout",
     "output_type": "stream",
     "text": [
      "- - Einf: nqs -1.6624, hf -2.3441\n"
     ]
    },
    {
     "name": "stderr",
     "output_type": "stream",
     "text": [
      "Meanfield Pfaffian training:  25%|██▍       | 199/800 [00:17<00:53, 11.17it/s]\n"
     ]
    },
    {
     "ename": "KeyboardInterrupt",
     "evalue": "",
     "output_type": "error",
     "traceback": [
      "\u001b[0;31m---------------------------------------------------------------------------\u001b[0m",
      "\u001b[0;31mKeyboardInterrupt\u001b[0m                         Traceback (most recent call last)",
      "Cell \u001b[0;32mIn[2], line 1\u001b[0m\n\u001b[0;32m----> 1\u001b[0m \u001b[43mgga\u001b[49m\u001b[38;5;241;43m.\u001b[39;49m\u001b[43mrun\u001b[49m\u001b[43m(\u001b[49m\u001b[43matomicdata\u001b[49m\u001b[43m,\u001b[49m\u001b[43m \u001b[49m\u001b[38;5;241;43m500\u001b[39;49m\u001b[43m,\u001b[49m\u001b[43m \u001b[49m\u001b[38;5;241;43m1e-4\u001b[39;49m\u001b[43m)\u001b[49m\n",
      "File \u001b[0;32m~/Hubbard-AUG/gGA/gutz/ghostG.py:193\u001b[0m, in \u001b[0;36mGhostGutzwiller.run\u001b[0;34m(self, data, maxiter, tol)\u001b[0m\n\u001b[1;32m    191\u001b[0m \u001b[38;5;28;01mdef\u001b[39;00m \u001b[38;5;21mrun\u001b[39m(\u001b[38;5;28mself\u001b[39m, data, maxiter, tol):\n\u001b[1;32m    192\u001b[0m     \u001b[38;5;28;01mfor\u001b[39;00m i \u001b[38;5;129;01min\u001b[39;00m \u001b[38;5;28mrange\u001b[39m(maxiter):\n\u001b[0;32m--> 193\u001b[0m         err, RDM \u001b[38;5;241m=\u001b[39m \u001b[38;5;28;43mself\u001b[39;49m\u001b[38;5;241;43m.\u001b[39;49m\u001b[43mupdate\u001b[49m\u001b[43m(\u001b[49m\u001b[43mdata\u001b[49m\u001b[43m)\u001b[49m\n\u001b[1;32m    195\u001b[0m         \u001b[38;5;28;01mif\u001b[39;00m err \u001b[38;5;241m<\u001b[39m tol:\n\u001b[1;32m    196\u001b[0m             \u001b[38;5;28mprint\u001b[39m(\u001b[38;5;124m\"\u001b[39m\u001b[38;5;124mConvergence achieved!\u001b[39m\u001b[38;5;130;01m\\n\u001b[39;00m\u001b[38;5;124m\"\u001b[39m)\n",
      "File \u001b[0;32m~/Hubbard-AUG/gGA/gutz/ghostG.py:176\u001b[0m, in \u001b[0;36mGhostGutzwiller.update\u001b[0;34m(self, data)\u001b[0m\n\u001b[1;32m    172\u001b[0m \u001b[38;5;28mself\u001b[39m\u001b[38;5;241m.\u001b[39mgGAtomic\u001b[38;5;241m.\u001b[39mupdate_RDM(\u001b[38;5;28mself\u001b[39m\u001b[38;5;241m.\u001b[39mRDM_kin)\n\u001b[1;32m    173\u001b[0m \u001b[38;5;66;03m# self.gGAtomic.update_LAM(LAM)\u001b[39;00m\n\u001b[1;32m    174\u001b[0m \n\u001b[1;32m    175\u001b[0m \u001b[38;5;66;03m# update gGA part, for LAM_C, RDM, R\u001b[39;00m\n\u001b[0;32m--> 176\u001b[0m \u001b[38;5;28;43mself\u001b[39;49m\u001b[38;5;241;43m.\u001b[39;49m\u001b[43mgGAtomic\u001b[49m\u001b[38;5;241;43m.\u001b[39;49m\u001b[43mupdate\u001b[49m\u001b[43m(\u001b[49m\u001b[43mphy_onsite\u001b[49m\u001b[43m,\u001b[49m\u001b[43m \u001b[49m\u001b[38;5;28;43mself\u001b[39;49m\u001b[38;5;241;43m.\u001b[39;49m\u001b[43mintparams\u001b[49m\u001b[43m,\u001b[49m\u001b[43m \u001b[49m\u001b[43mE_fermi\u001b[49m\u001b[38;5;241;43m=\u001b[39;49m\u001b[38;5;241;43m0.\u001b[39;49m\u001b[43m)\u001b[49m\n\u001b[1;32m    178\u001b[0m RDM_emb \u001b[38;5;241m=\u001b[39m \u001b[38;5;28mself\u001b[39m\u001b[38;5;241m.\u001b[39mgGAtomic\u001b[38;5;241m.\u001b[39mRDM\n\u001b[1;32m    180\u001b[0m \u001b[38;5;66;03m# compute error\u001b[39;00m\n",
      "File \u001b[0;32m~/Hubbard-AUG/gGA/gutz/ansatz.py:547\u001b[0m, in \u001b[0;36mgGAtomic.update\u001b[0;34m(self, t, intparams, E_fermi)\u001b[0m\n\u001b[1;32m    545\u001b[0m     \u001b[38;5;28;01massert\u001b[39;00m t_a\u001b[38;5;241m.\u001b[39mshape[\u001b[38;5;241m1\u001b[39m] \u001b[38;5;241m==\u001b[39m \u001b[38;5;28msum\u001b[39m(\u001b[38;5;28mself\u001b[39m\u001b[38;5;241m.\u001b[39midp_phy\u001b[38;5;241m.\u001b[39mlistnorbs[sym])\u001b[38;5;241m*\u001b[39m\u001b[38;5;241m2\u001b[39m, \u001b[38;5;124m\"\u001b[39m\u001b[38;5;124mShape of t is not correct!\u001b[39m\u001b[38;5;124m\"\u001b[39m\n\u001b[1;32m    546\u001b[0m     t_a \u001b[38;5;241m=\u001b[39m [t_a[s\u001b[38;5;241m*\u001b[39m\u001b[38;5;241m2\u001b[39m:s\u001b[38;5;241m*\u001b[39m\u001b[38;5;241m2\u001b[39m\u001b[38;5;241m+\u001b[39m\u001b[38;5;28mself\u001b[39m\u001b[38;5;241m.\u001b[39midp_phy\u001b[38;5;241m.\u001b[39mlistnorbs[sym][\u001b[38;5;28mself\u001b[39m\u001b[38;5;241m.\u001b[39midx_intorb[sym][i]]\u001b[38;5;241m*\u001b[39m\u001b[38;5;241m2\u001b[39m,s\u001b[38;5;241m*\u001b[39m\u001b[38;5;241m2\u001b[39m:s\u001b[38;5;241m*\u001b[39m\u001b[38;5;241m2\u001b[39m\u001b[38;5;241m+\u001b[39m\u001b[38;5;28mself\u001b[39m\u001b[38;5;241m.\u001b[39midp_phy\u001b[38;5;241m.\u001b[39mlistnorbs[sym][\u001b[38;5;28mself\u001b[39m\u001b[38;5;241m.\u001b[39midx_intorb[sym][i]]\u001b[38;5;241m*\u001b[39m\u001b[38;5;241m2\u001b[39m] \u001b[38;5;28;01mfor\u001b[39;00m i, s \u001b[38;5;129;01min\u001b[39;00m \u001b[38;5;28menumerate\u001b[39m(\u001b[38;5;28mself\u001b[39m\u001b[38;5;241m.\u001b[39mstart_phy_orbs[sym])]\n\u001b[0;32m--> 547\u001b[0m     \u001b[38;5;28;43mself\u001b[39;49m\u001b[38;5;241;43m.\u001b[39;49m\u001b[43minteract_ansatz\u001b[49m\u001b[43m[\u001b[49m\u001b[43midx\u001b[49m\u001b[43m]\u001b[49m\u001b[38;5;241;43m.\u001b[39;49m\u001b[43mupdate\u001b[49m\u001b[43m(\u001b[49m\u001b[43mt_a\u001b[49m\u001b[43m,\u001b[49m\u001b[43m \u001b[49m\u001b[43mintparams\u001b[49m\u001b[43m[\u001b[49m\u001b[43msym\u001b[49m\u001b[43m]\u001b[49m\u001b[43m,\u001b[49m\u001b[43m \u001b[49m\u001b[43mE_fermi\u001b[49m\u001b[43m)\u001b[49m\n\u001b[1;32m    548\u001b[0m         \u001b[38;5;66;03m# update the R, RDM for each atomic system\u001b[39;00m\n\u001b[1;32m    550\u001b[0m \u001b[38;5;28;01mreturn\u001b[39;00m \u001b[38;5;28;01mTrue\u001b[39;00m\n",
      "File \u001b[0;32m~/Hubbard-AUG/gGA/gutz/ansatz.py:382\u001b[0m, in \u001b[0;36mgGAMultiOrb.update\u001b[0;34m(self, t, intparams, E_fermi)\u001b[0m\n\u001b[1;32m    380\u001b[0m \u001b[38;5;28;01mfor\u001b[39;00m iso, singleOrb \u001b[38;5;129;01min\u001b[39;00m \u001b[38;5;28menumerate\u001b[39m(\u001b[38;5;28mself\u001b[39m\u001b[38;5;241m.\u001b[39msingleOrbs):\n\u001b[1;32m    381\u001b[0m     t_so \u001b[38;5;241m=\u001b[39m t[iso] \u001b[38;5;66;03m# [aux_spinorb, aux_spinorb]\u001b[39;00m\n\u001b[0;32m--> 382\u001b[0m     \u001b[43msingleOrb\u001b[49m\u001b[38;5;241;43m.\u001b[39;49m\u001b[43mupdate\u001b[49m\u001b[43m(\u001b[49m\u001b[43mt_so\u001b[49m\u001b[43m,\u001b[49m\u001b[43m \u001b[49m\u001b[43mintparams\u001b[49m\u001b[43m[\u001b[49m\u001b[43miso\u001b[49m\u001b[43m]\u001b[49m\u001b[43m,\u001b[49m\u001b[43m \u001b[49m\u001b[43mE_fermi\u001b[49m\u001b[43m)\u001b[49m\n\u001b[1;32m    384\u001b[0m \u001b[38;5;28;01mreturn\u001b[39;00m \u001b[38;5;28;01mTrue\u001b[39;00m\n",
      "File \u001b[0;32m~/Hubbard-AUG/gGA/gutz/ansatz.py:167\u001b[0m, in \u001b[0;36mgGASingleOrb.update\u001b[0;34m(self, t, intparam, E_fermi)\u001b[0m\n\u001b[1;32m    165\u001b[0m \u001b[38;5;66;03m# update R, RDM\u001b[39;00m\n\u001b[1;32m    166\u001b[0m _t, _intparam \u001b[38;5;241m=\u001b[39m \u001b[38;5;28mself\u001b[39m\u001b[38;5;241m.\u001b[39mget_Hemb_param(t, intparam, E_fermi)\n\u001b[0;32m--> 167\u001b[0m RDM \u001b[38;5;241m=\u001b[39m \u001b[38;5;28;43mself\u001b[39;49m\u001b[38;5;241;43m.\u001b[39;49m\u001b[43msolver\u001b[49m\u001b[38;5;241;43m.\u001b[39;49m\u001b[43msolve\u001b[49m\u001b[43m(\u001b[49m\u001b[43m_t\u001b[49m\u001b[43m,\u001b[49m\u001b[43m \u001b[49m\u001b[43m_intparam\u001b[49m\u001b[43m,\u001b[49m\u001b[43m \u001b[49m\u001b[43mreturn_RDM\u001b[49m\u001b[38;5;241;43m=\u001b[39;49m\u001b[38;5;28;43;01mTrue\u001b[39;49;00m\u001b[43m)\u001b[49m\n\u001b[1;32m    169\u001b[0m \u001b[38;5;66;03m# compute R and RDM_bath\u001b[39;00m\n\u001b[1;32m    170\u001b[0m RDM_bath \u001b[38;5;241m=\u001b[39m np\u001b[38;5;241m.\u001b[39meye(\u001b[38;5;28mself\u001b[39m\u001b[38;5;241m.\u001b[39maux_spinorb, dtype\u001b[38;5;241m=\u001b[39m\u001b[38;5;28mself\u001b[39m\u001b[38;5;241m.\u001b[39mdtype) \u001b[38;5;241m-\u001b[39m RDM[\u001b[38;5;241m-\u001b[39m\u001b[38;5;28mself\u001b[39m\u001b[38;5;241m.\u001b[39maux_spinorb:, \u001b[38;5;241m-\u001b[39m\u001b[38;5;28mself\u001b[39m\u001b[38;5;241m.\u001b[39maux_spinorb:]\n",
      "File \u001b[0;32m~/Hubbard-AUG/gGA/solver/nqs_solver.py:228\u001b[0m, in \u001b[0;36mNQS_solver.solve\u001b[0;34m(self, T, intparam, return_RDM)\u001b[0m\n\u001b[1;32m    226\u001b[0m \u001b[38;5;28;01mfor\u001b[39;00m i \u001b[38;5;129;01min\u001b[39;00m tqdm(\u001b[38;5;28mrange\u001b[39m(\u001b[38;5;28mself\u001b[39m\u001b[38;5;241m.\u001b[39mmfepmax), desc\u001b[38;5;241m=\u001b[39m\u001b[38;5;124m\"\u001b[39m\u001b[38;5;124mMeanfield Pfaffian training: \u001b[39m\u001b[38;5;124m\"\u001b[39m):\n\u001b[1;32m    227\u001b[0m     samples \u001b[38;5;241m=\u001b[39m \u001b[38;5;28mself\u001b[39m\u001b[38;5;241m.\u001b[39mmf_sampler\u001b[38;5;241m.\u001b[39msweep()\n\u001b[0;32m--> 228\u001b[0m     step \u001b[38;5;241m=\u001b[39m \u001b[43mtdvp\u001b[49m\u001b[38;5;241;43m.\u001b[39;49m\u001b[43mget_step\u001b[49m\u001b[43m(\u001b[49m\u001b[43msamples\u001b[49m\u001b[43m)\u001b[49m\n\u001b[1;32m    229\u001b[0m     \u001b[38;5;28mself\u001b[39m\u001b[38;5;241m.\u001b[39mmf_state\u001b[38;5;241m.\u001b[39mupdate(step\u001b[38;5;241m*\u001b[39m\u001b[38;5;241m0.01\u001b[39m)\n\u001b[1;32m    231\u001b[0m     \u001b[38;5;28;01mif\u001b[39;00m i \u001b[38;5;241m==\u001b[39m \u001b[38;5;241m0\u001b[39m:\n",
      "File \u001b[0;32m/opt/mamba/lib/python3.10/site-packages/quantax/optimizer/tdvp.py:147\u001b[0m, in \u001b[0;36mQNGD.get_step\u001b[0;34m(self, samples)\u001b[0m\n\u001b[1;32m    142\u001b[0m \u001b[38;5;28;01mdef\u001b[39;00m \u001b[38;5;21mget_step\u001b[39m(\u001b[38;5;28mself\u001b[39m, samples: Samples) \u001b[38;5;241m-\u001b[39m\u001b[38;5;241m>\u001b[39m jax\u001b[38;5;241m.\u001b[39mArray:\n\u001b[1;32m    143\u001b[0m \u001b[38;5;250m    \u001b[39m\u001b[38;5;124mr\u001b[39m\u001b[38;5;124;03m\"\"\"\u001b[39;00m\n\u001b[1;32m    144\u001b[0m \u001b[38;5;124;03m    Obtain the optimization step by solving the equation :math:`\\bar O \\dot \\theta = \\bar \\epsilon`\u001b[39;00m\n\u001b[1;32m    145\u001b[0m \u001b[38;5;124;03m    for given samples.\u001b[39;00m\n\u001b[1;32m    146\u001b[0m \u001b[38;5;124;03m    \"\"\"\u001b[39;00m\n\u001b[0;32m--> 147\u001b[0m     Ebar \u001b[38;5;241m=\u001b[39m \u001b[38;5;28;43mself\u001b[39;49m\u001b[38;5;241;43m.\u001b[39;49m\u001b[43mget_Ebar\u001b[49m\u001b[43m(\u001b[49m\u001b[43msamples\u001b[49m\u001b[43m)\u001b[49m\n\u001b[1;32m    148\u001b[0m     Obar \u001b[38;5;241m=\u001b[39m \u001b[38;5;28mself\u001b[39m\u001b[38;5;241m.\u001b[39mget_Obar(samples)\n\u001b[1;32m    149\u001b[0m     step \u001b[38;5;241m=\u001b[39m \u001b[38;5;28mself\u001b[39m\u001b[38;5;241m.\u001b[39msolve(Obar, Ebar)\n",
      "File \u001b[0;32m/opt/mamba/lib/python3.10/site-packages/quantax/optimizer/tdvp.py:211\u001b[0m, in \u001b[0;36mTDVP.get_Ebar\u001b[0;34m(self, samples)\u001b[0m\n\u001b[1;32m    204\u001b[0m \u001b[38;5;28;01mdef\u001b[39;00m \u001b[38;5;21mget_Ebar\u001b[39m(\u001b[38;5;28mself\u001b[39m, samples: Samples) \u001b[38;5;241m-\u001b[39m\u001b[38;5;241m>\u001b[39m jax\u001b[38;5;241m.\u001b[39mArray:\n\u001b[1;32m    205\u001b[0m \u001b[38;5;250m    \u001b[39m\u001b[38;5;124mr\u001b[39m\u001b[38;5;124;03m\"\"\"\u001b[39;00m\n\u001b[1;32m    206\u001b[0m \u001b[38;5;124;03m    Compute :math:`\\bar \\epsilon` for given samples. The local energy is\u001b[39;00m\n\u001b[1;32m    207\u001b[0m \u001b[38;5;124;03m    :math:`E_{loc, s} = \\sum_{s'} \\frac{\\psi_{s'}}{\\psi_s} \\left< s|H|s' \\right>`,\u001b[39;00m\n\u001b[1;32m    208\u001b[0m \u001b[38;5;124;03m    and :math:`\\bar \\epsilon` is defined as\u001b[39;00m\n\u001b[1;32m    209\u001b[0m \u001b[38;5;124;03m    :math:`\\bar \\epsilon = \\frac{1}{\\sqrt{N_s}} (E_{loc, s} - \\left<E_{loc, s}\\right>)`.\u001b[39;00m\n\u001b[1;32m    210\u001b[0m \u001b[38;5;124;03m    \"\"\"\u001b[39;00m\n\u001b[0;32m--> 211\u001b[0m     Eloc \u001b[38;5;241m=\u001b[39m \u001b[38;5;28;43mself\u001b[39;49m\u001b[38;5;241;43m.\u001b[39;49m\u001b[43m_hamiltonian\u001b[49m\u001b[38;5;241;43m.\u001b[39;49m\u001b[43mOloc\u001b[49m\u001b[43m(\u001b[49m\u001b[38;5;28;43mself\u001b[39;49m\u001b[38;5;241;43m.\u001b[39;49m\u001b[43m_state\u001b[49m\u001b[43m,\u001b[49m\u001b[43m \u001b[49m\u001b[43msamples\u001b[49m\u001b[43m)\u001b[49m\u001b[38;5;241m.\u001b[39mastype(get_default_dtype())\n\u001b[1;32m    212\u001b[0m     Emean \u001b[38;5;241m=\u001b[39m jnp\u001b[38;5;241m.\u001b[39mmean(Eloc \u001b[38;5;241m*\u001b[39m samples\u001b[38;5;241m.\u001b[39mreweight_factor)\n\u001b[1;32m    213\u001b[0m     \u001b[38;5;28mself\u001b[39m\u001b[38;5;241m.\u001b[39m_energy \u001b[38;5;241m=\u001b[39m Emean\u001b[38;5;241m.\u001b[39mreal\n",
      "File \u001b[0;32m/opt/mamba/lib/python3.10/site-packages/quantax/operator/operator.py:472\u001b[0m, in \u001b[0;36mOperator.Oloc\u001b[0;34m(self, state, samples)\u001b[0m\n\u001b[1;32m    469\u001b[0m     wf \u001b[38;5;241m=\u001b[39m state(spins)\n\u001b[1;32m    470\u001b[0m     samples \u001b[38;5;241m=\u001b[39m Samples(spins, wf)\n\u001b[0;32m--> 472\u001b[0m \u001b[38;5;28;01mreturn\u001b[39;00m \u001b[38;5;28;43mself\u001b[39;49m\u001b[38;5;241;43m.\u001b[39;49m\u001b[43mpsiOloc\u001b[49m\u001b[43m(\u001b[49m\u001b[43mstate\u001b[49m\u001b[43m,\u001b[49m\u001b[43m \u001b[49m\u001b[43msamples\u001b[49m\u001b[43m)\u001b[49m \u001b[38;5;241m/\u001b[39m samples\u001b[38;5;241m.\u001b[39mwave_function\n",
      "File \u001b[0;32m/opt/mamba/lib/python3.10/site-packages/quantax/operator/operator.py:428\u001b[0m, in \u001b[0;36mOperator.psiOloc\u001b[0;34m(self, state, samples)\u001b[0m\n\u001b[1;32m    425\u001b[0m     wf \u001b[38;5;241m=\u001b[39m state(s)\n\u001b[1;32m    427\u001b[0m Hz \u001b[38;5;241m=\u001b[39m _apply_diag(s, \u001b[38;5;28mself\u001b[39m\u001b[38;5;241m.\u001b[39mjax_op_list)\n\u001b[0;32m--> 428\u001b[0m off_diags \u001b[38;5;241m=\u001b[39m \u001b[43m_apply_off_diag\u001b[49m\u001b[43m(\u001b[49m\u001b[43ms\u001b[49m\u001b[43m,\u001b[49m\u001b[43m \u001b[49m\u001b[38;5;28;43mself\u001b[39;49m\u001b[38;5;241;43m.\u001b[39;49m\u001b[43mjax_op_list\u001b[49m\u001b[43m)\u001b[49m\n\u001b[1;32m    429\u001b[0m psiHx \u001b[38;5;241m=\u001b[39m \u001b[38;5;241m0\u001b[39m\n\u001b[1;32m    431\u001b[0m forward_chunk \u001b[38;5;241m=\u001b[39m state\u001b[38;5;241m.\u001b[39mforward_chunk \u001b[38;5;28;01mif\u001b[39;00m \u001b[38;5;28mhasattr\u001b[39m(state, \u001b[38;5;124m\"\u001b[39m\u001b[38;5;124mforward_chunk\u001b[39m\u001b[38;5;124m\"\u001b[39m) \u001b[38;5;28;01melse\u001b[39;00m \u001b[38;5;28;01mNone\u001b[39;00m\n",
      "    \u001b[0;31m[... skipping hidden 3 frame]\u001b[0m\n",
      "File \u001b[0;32m/opt/mamba/lib/python3.10/site-packages/equinox/_jit.py:82\u001b[0m, in \u001b[0;36m_preprocess\u001b[0;34m(info, args, kwargs, return_static)\u001b[0m\n\u001b[1;32m     80\u001b[0m \u001b[38;5;28;01mif\u001b[39;00m return_static:\n\u001b[1;32m     81\u001b[0m     dynamic_first, static_first \u001b[38;5;241m=\u001b[39m hashable_partition(first_arg, is_array)\n\u001b[0;32m---> 82\u001b[0m     dynamic_rest, static_rest \u001b[38;5;241m=\u001b[39m \u001b[43mhashable_partition\u001b[49m\u001b[43m(\u001b[49m\u001b[43m(\u001b[49m\u001b[43mrest_args\u001b[49m\u001b[43m,\u001b[49m\u001b[43m \u001b[49m\u001b[43mkwargs\u001b[49m\u001b[43m)\u001b[49m\u001b[43m,\u001b[49m\u001b[43m \u001b[49m\u001b[43mis_array\u001b[49m\u001b[43m)\u001b[49m\n\u001b[1;32m     83\u001b[0m \u001b[38;5;28;01melse\u001b[39;00m:\n\u001b[1;32m     84\u001b[0m     dynamic_first \u001b[38;5;241m=\u001b[39m hashable_filter(first_arg, is_array)\n",
      "File \u001b[0;32m/opt/mamba/lib/python3.10/site-packages/equinox/_compile_utils.py:22\u001b[0m, in \u001b[0;36mhashable_partition\u001b[0;34m(pytree, filter_fn)\u001b[0m\n\u001b[1;32m     21\u001b[0m \u001b[38;5;28;01mdef\u001b[39;00m \u001b[38;5;21mhashable_partition\u001b[39m(pytree: PyTree, filter_fn: Callable):\n\u001b[0;32m---> 22\u001b[0m     leaves, treedef \u001b[38;5;241m=\u001b[39m \u001b[43mjtu\u001b[49m\u001b[38;5;241;43m.\u001b[39;49m\u001b[43mtree_flatten\u001b[49m\u001b[43m(\u001b[49m\u001b[43mpytree\u001b[49m\u001b[43m)\u001b[49m\n\u001b[1;32m     23\u001b[0m     dynamic_leaves \u001b[38;5;241m=\u001b[39m \u001b[38;5;28mtuple\u001b[39m(x \u001b[38;5;28;01mif\u001b[39;00m filter_fn(x) \u001b[38;5;28;01melse\u001b[39;00m \u001b[38;5;28;01mNone\u001b[39;00m \u001b[38;5;28;01mfor\u001b[39;00m x \u001b[38;5;129;01min\u001b[39;00m leaves)\n\u001b[1;32m     24\u001b[0m     static_leaves \u001b[38;5;241m=\u001b[39m \u001b[38;5;28mtuple\u001b[39m(\u001b[38;5;28;01mNone\u001b[39;00m \u001b[38;5;28;01mif\u001b[39;00m filter_fn(x) \u001b[38;5;28;01melse\u001b[39;00m x \u001b[38;5;28;01mfor\u001b[39;00m x \u001b[38;5;129;01min\u001b[39;00m leaves)\n",
      "File \u001b[0;32m/opt/mamba/lib/python3.10/site-packages/jax/_src/tree_util.py:79\u001b[0m, in \u001b[0;36mtree_flatten\u001b[0;34m(tree, is_leaf)\u001b[0m\n\u001b[1;32m     74\u001b[0m \u001b[38;5;129m@export\u001b[39m\n\u001b[1;32m     75\u001b[0m \u001b[38;5;28;01mdef\u001b[39;00m \u001b[38;5;21mtree_flatten\u001b[39m(tree: Any,\n\u001b[1;32m     76\u001b[0m                  is_leaf: Callable[[Any], \u001b[38;5;28mbool\u001b[39m] \u001b[38;5;241m|\u001b[39m \u001b[38;5;28;01mNone\u001b[39;00m \u001b[38;5;241m=\u001b[39m \u001b[38;5;28;01mNone\u001b[39;00m\n\u001b[1;32m     77\u001b[0m                  ) \u001b[38;5;241m-\u001b[39m\u001b[38;5;241m>\u001b[39m \u001b[38;5;28mtuple\u001b[39m[\u001b[38;5;28mlist\u001b[39m[Leaf], PyTreeDef]:\n\u001b[1;32m     78\u001b[0m \u001b[38;5;250m  \u001b[39m\u001b[38;5;124;03m\"\"\"Alias of :func:`jax.tree.flatten`.\"\"\"\u001b[39;00m\n\u001b[0;32m---> 79\u001b[0m   \u001b[38;5;28;01mreturn\u001b[39;00m \u001b[43mdefault_registry\u001b[49m\u001b[38;5;241;43m.\u001b[39;49m\u001b[43mflatten\u001b[49m\u001b[43m(\u001b[49m\u001b[43mtree\u001b[49m\u001b[43m,\u001b[49m\u001b[43m \u001b[49m\u001b[43mis_leaf\u001b[49m\u001b[43m)\u001b[49m\n",
      "\u001b[0;31mKeyboardInterrupt\u001b[0m: "
     ]
    }
   ],
   "source": [
    "gga.run(atomicdata, 500, 1e-4)"
   ]
  },
  {
   "cell_type": "code",
   "execution_count": 3,
   "metadata": {},
   "outputs": [],
   "source": [
    "import numpy as np\n",
    "\n",
    "a = np.array([[ 0.32969636-0.j,  0.02696763+0.j,  0.1983875 +0.j,  0.24682143+0.j],\n",
    " [ 0.02696763-0.j,  0.98071364-0.j, -0.09681085+0.j,  0.06320421+0.j],\n",
    " [ 0.1983875 -0.j, -0.09681085-0.j,  0.50211636-0.j,  0.29353221+0.j],\n",
    " [ 0.24682143-0.j,  0.06320421-0.j,  0.29353221-0.j,  0.18747364-0.j]])\n",
    "\n",
    "b = np.array([[ 0.33896818-0.j,  0.00587948+0.j,  0.21051196+0.j,  0.25225315+0.j],\n",
    " [ 0.00587948-0.j,  0.99782273-0.j, -0.01408203+0.j,  0.00214241+0.j],\n",
    " [ 0.21051196-0.j, -0.01408203-0.j,  0.47066455-0.j,  0.29941449+0.j],\n",
    " [ 0.25225315-0.j,  0.00214241-0.j,  0.29941449-0.j,  0.19254455-0.j]])\n",
    "\n",
    "c = np.array([[ 2.91895996e-02-0.j, -9.92602790e+01+0.j,  5.14485617e+01+0.j,  7.86423653e+00+0.j],\n",
    " [-4.47550544e-02-0.j,  1.35005479e-02-0.j, -4.36086041e-01+0.j, -3.34870824e+00+0.j],\n",
    " [ 2.89307691e-02-0.j, -4.92765134e-03-0.j, -2.44934044e-02-0.j, -8.31262689e+00+0.j],\n",
    " [ 1.99767819e-02-0.j, -2.09217556e-03-0.j, -1.68526837e-02-0.j, -6.98634789e-03-0.j]])"
   ]
  },
  {
   "cell_type": "code",
   "execution_count": null,
   "metadata": {},
   "outputs": [
    {
     "data": {
      "text/plain": [
       "array([[-0.00927182+0.j,  0.02108815+0.j, -0.01212446+0.j,\n",
       "        -0.00543172+0.j],\n",
       "       [ 0.02108815+0.j, -0.01710909+0.j, -0.08272882+0.j,\n",
       "         0.0610618 +0.j],\n",
       "       [-0.01212446+0.j, -0.08272882+0.j,  0.03145181+0.j,\n",
       "        -0.00588228+0.j],\n",
       "       [-0.00543172+0.j,  0.0610618 +0.j, -0.00588228+0.j,\n",
       "        -0.00507091+0.j]])"
      ]
     },
     "execution_count": 6,
     "metadata": {},
     "output_type": "execute_result"
    }
   ],
   "source": []
  }
 ],
 "metadata": {
  "kernelspec": {
   "display_name": "base",
   "language": "python",
   "name": "python3"
  },
  "language_info": {
   "codemirror_mode": {
    "name": "ipython",
    "version": 3
   },
   "file_extension": ".py",
   "mimetype": "text/x-python",
   "name": "python",
   "nbconvert_exporter": "python",
   "pygments_lexer": "ipython3",
   "version": "3.10.6"
  }
 },
 "nbformat": 4,
 "nbformat_minor": 2
}
